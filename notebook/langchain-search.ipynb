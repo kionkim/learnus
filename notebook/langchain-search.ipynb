{
 "cells": [
  {
   "cell_type": "code",
   "execution_count": 1,
   "metadata": {},
   "outputs": [],
   "source": [
    "import os, openai\n",
    "import dotenv\n",
    "from langchain.tools import Tool\n",
    "from dotenv import load_dotenv\n",
    "\n",
    "from langchain.chains import SequentialChain, LLMChain\n",
    "from langchain.agents import initialize_agent, Tool\n",
    "from langchain.chat_models import ChatOpenAI\n",
    "from langchain.prompts import PromptTemplate\n",
    "from googleapiclient.discovery import build\n",
    "from langchain.chains.base import Chain\n",
    "\n",
    "dotenv.load_dotenv('../.env')\n",
    "GOOGLE_API_KEY = os.getenv(\"GOOGLE-SEARCH-API-KEY\")\n",
    "SEARCH_ENGINE_ID = os.getenv(\"SEARCH-ENGINE-ID\")\n",
    "\n",
    "openai.api_key = os.getenv(\"CHATGPT-RECEIPT\")"
   ]
  },
  {
   "cell_type": "code",
   "execution_count": 5,
   "metadata": {},
   "outputs": [],
   "source": [
    "def search_with_google_api(query, num_results=5):\n",
    "    api_key = GOOGLE_API_KEY  # Google API 키\n",
    "    cse_id = SEARCH_ENGINE_ID   # Custom Search Engine ID\n",
    "    try:\n",
    "        service = build(\"customsearch\", \"v1\", developerKey=api_key)\n",
    "        results = service.cse().list(q=query, cx=cse_id, num=num_results).execute()\n",
    "        items = results.get(\"items\", [])\n",
    "        return [\n",
    "            {\n",
    "                \"title\": item[\"title\"], \"snippet\": item.get(\"snippet\")  # 본문 내용 추가\n",
    "            } \n",
    "            for item in items\n",
    "        ]\n",
    "    except Exception as e:\n",
    "        return f'Google Search API Error: {e}'\n",
    "\n",
    "\n",
    "class SearchChain(Chain):\n",
    "    def __init__(self, tool):\n",
    "        super().__init__()\n",
    "        self._tool = tool\n",
    "\n",
    "    @property\n",
    "    def input_keys(self):\n",
    "        return [\"business_name\"]\n",
    "\n",
    "    @property\n",
    "    def output_keys(self):\n",
    "        return [\"search_results\"]\n",
    "\n",
    "    def _call(self, inputs, **kwargs):\n",
    "        business_name = inputs[\"business_name\"]\n",
    "        search_results = self._tool.func(business_name)\n",
    "        return {\"search_results\": search_results}\n",
    "\n",
    "\n",
    "# Tool로 검색 기능 정의\n",
    "search_tool = Tool(\n",
    "    name = \"SearchBusinessCategory\",\n",
    "    func = lambda business_name: \"\\n\".join(\n",
    "        list([x['snippet'] for x in search_with_google_api(business_name)])\n",
    "    ),\n",
    "    description=\"상호명을 검색하여 관련 업종 정보를 제공합니다.\"\n",
    ")\n",
    "\n",
    "# Prompt 정의\n",
    "analyze_prompt = PromptTemplate(\n",
    "    input_variables=[\"business_name\", \"search_results\"],\n",
    "    template=\"\"\"\n",
    "    다음은 상호명 '{business_name}'에 대한 검색 결과입니다:\n",
    "    {search_results}\n",
    "    검색 결과를 기반으로 해당 상호의 업종을 추론하세요. 가능한 경우 단답형으로 업종만 답변하세요.\n",
    "    예: \"식당\", \"카페\", \"의류\", \"교통\" 등. \n",
    "    \"\"\"\n",
    ")\n",
    "\n",
    "# Search chain\n",
    "search_chain = SearchChain(search_tool)\n",
    "\n",
    "\n",
    "# 검색 결과를 분석하는 LLMChain\n",
    "analyze_chain = LLMChain(\n",
    "    llm = ChatOpenAI(\n",
    "        model=\"gpt-4\", \n",
    "        temperature=0,\n",
    "        openai_api_key = openai.api_key\n",
    "    ),\n",
    "    prompt=analyze_prompt,\n",
    "    output_key=\"business_category\",  # 출력 키를 명시적으로 설정\n",
    ")"
   ]
  },
  {
   "cell_type": "code",
   "execution_count": 13,
   "metadata": {},
   "outputs": [
    {
     "name": "stdout",
     "output_type": "stream",
     "text": [
      "\n",
      "\n",
      "\u001b[1m> Entering new SequentialChain chain...\u001b[0m\n",
      "\n",
      "\u001b[1m> Finished chain.\u001b[0m\n",
      "{'business_name': 'waveon 기장', 'business_category': '카페'}\n"
     ]
    }
   ],
   "source": [
    "sequential_chain = SequentialChain(\n",
    "    chains=[search_chain, analyze_chain],\n",
    "    input_variables=[\"business_name\"],\n",
    "    output_variables=[\"business_category\"],\n",
    "    verbose=True\n",
    ")\n",
    "\n",
    "business_name = \"waveon 기장\"\n",
    "response = sequential_chain.invoke({\"business_name\": business_name})\n",
    "print(response)\n"
   ]
  }
 ],
 "metadata": {
  "kernelspec": {
   "display_name": "receipt",
   "language": "python",
   "name": "python3"
  },
  "language_info": {
   "codemirror_mode": {
    "name": "ipython",
    "version": 3
   },
   "file_extension": ".py",
   "mimetype": "text/x-python",
   "name": "python",
   "nbconvert_exporter": "python",
   "pygments_lexer": "ipython3",
   "version": "3.9.2"
  }
 },
 "nbformat": 4,
 "nbformat_minor": 2
}
