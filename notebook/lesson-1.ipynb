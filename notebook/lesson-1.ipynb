{
 "cells": [
  {
   "cell_type": "markdown",
   "metadata": {},
   "source": [
    "## Slack API"
   ]
  },
  {
   "cell_type": "code",
   "execution_count": null,
   "metadata": {},
   "outputs": [],
   "source": [
    "pip install slack_sdk"
   ]
  },
  {
   "cell_type": "code",
   "execution_count": 2,
   "metadata": {},
   "outputs": [],
   "source": [
    "import os, logging\n",
    "from slack_bolt import App\n",
    "from slack_bolt.adapter.socket_mode import SocketModeHandler\n",
    "from dotenv import load_dotenv\n",
    "\n",
    "load_dotenv('../.env')\n",
    "SLACK_BOT_TOKEN = os.getenv(\"SLACK-BOT\")\n",
    "SLACK_APP_TOKEN = os.getenv(\"SLACK-APP\")"
   ]
  },
  {
   "cell_type": "code",
   "execution_count": 4,
   "metadata": {},
   "outputs": [],
   "source": [
    "# 1. 로깅 설정\n",
    "logging.basicConfig(level=logging.INFO)\n",
    "logger = logging.getLogger(__name__)"
   ]
  },
  {
   "cell_type": "code",
   "execution_count": 5,
   "metadata": {},
   "outputs": [],
   "source": [
    "# Bolt 앱 초기화\n",
    "app = App(token=SLACK_BOT_TOKEN)"
   ]
  },
  {
   "cell_type": "code",
   "execution_count": 6,
   "metadata": {},
   "outputs": [],
   "source": [
    "# 이벤트 처리: 메시지 이벤트\n",
    "@app.event(\"message\")\n",
    "def handle_message_events(event, say):\n",
    "    user = event.get(\"user\")\n",
    "    text = event.get(\"text\")\n",
    "    channel = event.get(\"channel\")\n",
    "    logger.info(f'channel: {channel}')\n",
    "    # 봇 자신의 메시지는 무시\n",
    "    if user is None or user == app.client.auth_test()[\"user_id\"]:\n",
    "        return\n",
    "\n",
    "    logger.info(f\"Received message: {text} from user: {user} in channel: {channel}\")\n",
    "\n",
    "    # \"안녕\"이 포함된 메시지에 응답\n",
    "    if \"안녕\" in text:\n",
    "        say(f\"안녕하세요!\")  # 메시지 응답\n"
   ]
  },
  {
   "cell_type": "code",
   "execution_count": null,
   "metadata": {},
   "outputs": [],
   "source": [
    "handler = SocketModeHandler(app, SLACK_APP_TOKEN)\n",
    "logger.info(\"Starting Slack app...\")\n",
    "handler.start()"
   ]
  },
  {
   "cell_type": "code",
   "execution_count": null,
   "metadata": {},
   "outputs": [],
   "source": []
  }
 ],
 "metadata": {
  "kernelspec": {
   "display_name": "receipt",
   "language": "python",
   "name": "python3"
  },
  "language_info": {
   "codemirror_mode": {
    "name": "ipython",
    "version": 3
   },
   "file_extension": ".py",
   "mimetype": "text/x-python",
   "name": "python",
   "nbconvert_exporter": "python",
   "pygments_lexer": "ipython3",
   "version": "3.9.20"
  }
 },
 "nbformat": 4,
 "nbformat_minor": 2
}
