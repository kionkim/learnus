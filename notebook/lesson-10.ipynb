{
 "cells": [
  {
   "cell_type": "markdown",
   "metadata": {},
   "source": [
    "## Slack API 연결"
   ]
  },
  {
   "cell_type": "code",
   "execution_count": 1,
   "metadata": {},
   "outputs": [],
   "source": [
    "import os, logging, requests\n",
    "from pathlib import Path\n",
    "from dotenv import load_dotenv\n",
    "\n",
    "from slack_bolt import App\n",
    "from slack_bolt.adapter.socket_mode import SocketModeHandler"
   ]
  },
  {
   "cell_type": "markdown",
   "metadata": {},
   "source": [
    "#### 환경변수에서 API Key 불러오기"
   ]
  },
  {
   "cell_type": "code",
   "execution_count": 2,
   "metadata": {},
   "outputs": [],
   "source": [
    "load_dotenv('../.env')\n",
    "SLACK_BOT_TOKEN = os.getenv(\"SLACK-BOT\")\n",
    "SLACK_APP_TOKEN = os.getenv(\"SLACK-APP\")"
   ]
  },
  {
   "cell_type": "markdown",
   "metadata": {},
   "source": [
    "#### logging 설정"
   ]
  },
  {
   "cell_type": "code",
   "execution_count": 3,
   "metadata": {},
   "outputs": [],
   "source": [
    "logging.basicConfig(level=logging.INFO)\n",
    "logger = logging.getLogger(__name__)"
   ]
  },
  {
   "cell_type": "markdown",
   "metadata": {},
   "source": [
    "#### Slack Bolt Class 객체화"
   ]
  },
  {
   "cell_type": "code",
   "execution_count": 4,
   "metadata": {},
   "outputs": [],
   "source": [
    "app = App(token=SLACK_BOT_TOKEN)"
   ]
  },
  {
   "cell_type": "markdown",
   "metadata": {},
   "source": [
    "#### 현재 경로 저장"
   ]
  },
  {
   "cell_type": "code",
   "execution_count": 5,
   "metadata": {},
   "outputs": [],
   "source": [
    "current_path = Path.cwd()"
   ]
  },
  {
   "cell_type": "markdown",
   "metadata": {},
   "source": [
    "#### 파일 다운로드 함수"
   ]
  },
  {
   "cell_type": "code",
   "execution_count": 6,
   "metadata": {},
   "outputs": [],
   "source": [
    "def download_file(file_url, file_name):   # 파일을 다운로드합니다\n",
    "    response = requests.get(file_url, headers={\"Authorization\": f\"Bearer {SLACK_BOT_TOKEN}\"})\n",
    "    if response.status_code == 200:\n",
    "        # 파일을 저장합니다\n",
    "        with open(file_name, \"wb\") as f:\n",
    "            f.write(response.content)\n",
    "        return True\n",
    "    else:\n",
    "        return False"
   ]
  },
  {
   "cell_type": "code",
   "execution_count": 7,
   "metadata": {},
   "outputs": [],
   "source": [
    "# 모든 이벤트를 로깅하는 미들웨어\n",
    "# Slack SDK(특히 Bolt 프레임워크)에서 **미들웨어(Middleware)**는 이벤트가 애플리케이션에서 처리되기 전에, 요청(request)을 전처리하거나, 애플리케이션의 동작을 확장하는 데 사용되는 코드 블록\n",
    "# 미들웨어는 모든 이벤트나 요청이 애플리케이션의 특정 핸들러로 전달되기 전에 실행되므로, 공통 작업을 처리하는 데 유용함\n",
    "# @app.middleware 데코레이터는 이 함수를 애플리케이션의 미들웨어로 등록\n",
    "@app.middleware\n",
    "def log_request(logger, body, next):\n",
    "    print(f\"이벤트 수신: {body['event']['type']}\")\n",
    "    next() # next()를 호출해 다음 단계로 처리를 넘김."
   ]
  },
  {
   "cell_type": "markdown",
   "metadata": {},
   "source": [
    "#### 파일 공유 이벤트 처리"
   ]
  },
  {
   "cell_type": "code",
   "execution_count": 8,
   "metadata": {},
   "outputs": [],
   "source": [
    "# 파일이 공유될 때 실행되는 이벤트 리스너\n",
    "@app.event(\"file_shared\")\n",
    "def handle_file_shared(event, say, logger, client):    \n",
    "    # 이미지 파일인지 확인합니다\n",
    "    file_id = event[\"file_id\"]\n",
    "    logger.info(f\"새로운 이미지가 공유되었습니다. 파일 ID: {file_id}\")\n",
    "    # 파일 정보를 가져옵니다\n",
    "    file_info = client.files_info(file=file_id)\n",
    "    file = file_info[\"file\"]\n",
    "    file_url = file[\"url_private_download\"]\n",
    "    file_name = current_path / '../image' / file[\"name\"]\n",
    "    if download_file(file_url, file_name):\n",
    "        say(f\"파일 '{file_name}'을 성공적으로 다운로드했습니다.\")\n",
    "        logger.info(f\"파일 '{file_name}'을 성공적으로 다운로드했습니다.\")\n",
    "    else:\n",
    "        say(f\"파일 다운로드에 실패했습니다.\")"
   ]
  },
  {
   "cell_type": "code",
   "execution_count": 9,
   "metadata": {},
   "outputs": [],
   "source": [
    "@app.event(\"message\")\n",
    "def handle_message_events(event, logger, say):\n",
    "    # 메시지 텍스트 추출\n",
    "    message_text = event[\"text\"]\n",
    "    # 메시지 발신자 ID 추출\n",
    "    user_id = event[\"user\"]\n",
    "    # 추출한 정보 사용 예시\n",
    "    say(f\"<@{user_id}>님이 '{message_text}' 메시지를 보냈습니다.\")\n",
    "    logger.info(f\"메시지 수신: {message_text}\")"
   ]
  },
  {
   "cell_type": "code",
   "execution_count": 10,
   "metadata": {},
   "outputs": [],
   "source": [
    "# 에러 핸들러\n",
    "@app.error\n",
    "def custom_error_handler(error, body, logger):\n",
    "    print(f\"에러 발생: {error}\")"
   ]
  },
  {
   "cell_type": "code",
   "execution_count": null,
   "metadata": {},
   "outputs": [
    {
     "name": "stderr",
     "output_type": "stream",
     "text": [
      "INFO:2369379098.py:handle_file_shared:새로운 이미지가 공유되었습니다. 파일 ID: F088RP2G1JR\n"
     ]
    },
    {
     "name": "stdout",
     "output_type": "stream",
     "text": [
      "이벤트 수신: file_shared\n",
      "이벤트 수신: message\n"
     ]
    },
    {
     "name": "stderr",
     "output_type": "stream",
     "text": [
      "INFO:2369379098.py:handle_message_events:메시지 수신: \n",
      "INFO:2369379098.py:handle_file_shared:파일 '/Users/kionkim/Documents/projects/learnus/notebook/../image/hyundai-insurance.jpg'을 성공적으로 다운로드했습니다.\n",
      "INFO:2369379098.py:handle_file_shared:새로운 이미지가 공유되었습니다. 파일 ID: F088RP2G1JR\n"
     ]
    },
    {
     "name": "stdout",
     "output_type": "stream",
     "text": [
      "이벤트 수신: file_shared\n"
     ]
    },
    {
     "name": "stderr",
     "output_type": "stream",
     "text": [
      "INFO:2369379098.py:handle_file_shared:파일 '/Users/kionkim/Documents/projects/learnus/notebook/../image/hyundai-insurance.jpg'을 성공적으로 다운로드했습니다.\n",
      "INFO:2369379098.py:handle_file_shared:새로운 이미지가 공유되었습니다. 파일 ID: F088RP2G1JR\n"
     ]
    },
    {
     "name": "stdout",
     "output_type": "stream",
     "text": [
      "이벤트 수신: file_shared\n"
     ]
    },
    {
     "name": "stderr",
     "output_type": "stream",
     "text": [
      "INFO:2369379098.py:handle_file_shared:파일 '/Users/kionkim/Documents/projects/learnus/notebook/../image/hyundai-insurance.jpg'을 성공적으로 다운로드했습니다.\n"
     ]
    }
   ],
   "source": [
    "handler = SocketModeHandler(app, SLACK_APP_TOKEN)\n",
    "handler.start()"
   ]
  },
  {
   "cell_type": "markdown",
   "metadata": {},
   "source": [
    "#### Channel ID 파악하기"
   ]
  },
  {
   "cell_type": "code",
   "execution_count": 12,
   "metadata": {},
   "outputs": [],
   "source": [
    "@app.event(\"message\")\n",
    "def handle_message_events(event, logger, say):\n",
    "    # 메시지 텍스트 추출\n",
    "    message_text = event[\"text\"]\n",
    "    # 메시지 발신자 ID 추출\n",
    "    user_id = event[\"user\"]\n",
    "    # 채널 ID 추출\n",
    "    channel_id = event[\"channel\"]\n",
    "    logger.info(f\"channel_id: {channel_id}\")\n",
    "    # 추출한 정보 사용 예시\n",
    "    say(f\"<@{user_id}>님이 '{message_text}' 메시지를 보냈습니다.\")\n",
    "    logger.info(f\"메시지 수신: {message_text}\")"
   ]
  },
  {
   "cell_type": "code",
   "execution_count": null,
   "metadata": {},
   "outputs": [],
   "source": [
    "handler = SocketModeHandler(app, SLACK_APP_TOKEN)\n",
    "handler.start()"
   ]
  }
 ],
 "metadata": {
  "kernelspec": {
   "display_name": "receipt",
   "language": "python",
   "name": "python3"
  },
  "language_info": {
   "codemirror_mode": {
    "name": "ipython",
    "version": 3
   },
   "file_extension": ".py",
   "mimetype": "text/x-python",
   "name": "python",
   "nbconvert_exporter": "python",
   "pygments_lexer": "ipython3",
   "version": "3.9.20"
  }
 },
 "nbformat": 4,
 "nbformat_minor": 2
}
