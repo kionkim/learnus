{
 "cells": [
  {
   "cell_type": "code",
   "execution_count": 1,
   "metadata": {},
   "outputs": [],
   "source": [
    "import os, requests\n",
    "from pathlib import Path\n",
    "from dotenv import load_dotenv\n",
    "from slack_bolt import App\n",
    "from slack_bolt.adapter.socket_mode import SocketModeHandler"
   ]
  },
  {
   "cell_type": "code",
   "execution_count": 2,
   "metadata": {},
   "outputs": [],
   "source": [
    "load_dotenv('../.env')\n",
    "SLACK_BOT_TOKEN = os.getenv(\"SLACK-BOT\")\n",
    "CHANNEL_ID = 'C086KU2133M' # Channel ID\n",
    "SLACK_APP_TOKEN = os.getenv(\"SLACK-APP\")"
   ]
  },
  {
   "cell_type": "code",
   "execution_count": 3,
   "metadata": {},
   "outputs": [],
   "source": [
    "# Slack 앱을 초기화합니다\n",
    "app = App(token=SLACK_BOT_TOKEN)"
   ]
  },
  {
   "cell_type": "code",
   "execution_count": 4,
   "metadata": {},
   "outputs": [],
   "source": [
    "current_path = Path.cwd()"
   ]
  },
  {
   "cell_type": "code",
   "execution_count": 5,
   "metadata": {},
   "outputs": [],
   "source": [
    "def download_file(file_url, file_name):   # 파일을 다운로드합니다\n",
    "    response = requests.get(file_url, headers={\"Authorization\": f\"Bearer {SLACK_BOT_TOKEN}\"})\n",
    "    if response.status_code == 200:\n",
    "        # 파일을 저장합니다\n",
    "        with open(file_name, \"wb\") as f:\n",
    "            f.write(response.content)\n",
    "        return True\n",
    "    else:\n",
    "        return False"
   ]
  },
  {
   "cell_type": "code",
   "execution_count": 6,
   "metadata": {},
   "outputs": [],
   "source": [
    "# 모든 이벤트를 로깅하는 미들웨어\n",
    "@app.middleware\n",
    "def log_request(logger, body, next):\n",
    "    print(f\"이벤트 수신: {body['event']['type']}\")\n",
    "    next()"
   ]
  },
  {
   "cell_type": "code",
   "execution_count": 7,
   "metadata": {},
   "outputs": [],
   "source": [
    "# 파일이 공유될 때 실행되는 이벤트 리스너\n",
    "@app.event(\"file_shared\")\n",
    "def handle_file_shared(event, say, logger, client):\n",
    "    # 이미지 파일인지 확인합니다\n",
    "    file_id = event[\"file_id\"]\n",
    "    logger.info(f\"새로운 이미지가 공유되었습니다. 파일 ID: {file_id}\")\n",
    "    # 파일 정보를 가져옵니다\n",
    "    file_info = client.files_info(file=file_id)\n",
    "    file = file_info[\"file\"]\n",
    "    file_url = file[\"url_private_download\"]\n",
    "    file_name = current_path / '../image' / file[\"name\"]\n",
    "    if download_file(file_url, file_name):\n",
    "        say(f\"파일 '{file_name}'을 성공적으로 다운로드했습니다.\")\n",
    "        # langchain으로 정보 처리\n",
    "        \n",
    "        # receipt_info = extract_receipt_info(file_name)\n",
    "        # 추출된 정보를 바탕으로 카테고리 판단\n",
    "        \n",
    "    else:\n",
    "        say(f\"파일 다운로드에 실패했습니다.\")"
   ]
  },
  {
   "cell_type": "code",
   "execution_count": 8,
   "metadata": {},
   "outputs": [],
   "source": [
    "# message에 대한 처리는 필요 없음\n",
    "@app.event(\"message\")\n",
    "def handle_message_events(event, logger, say):\n",
    "    # 메시지 텍스트 추출\n",
    "    message_text = event[\"text\"]\n",
    "    # 메시지 발신자 ID 추출\n",
    "    user_id = event[\"user\"]\n",
    "    # 채널 ID 추출\n",
    "    channel_id = event[\"channel\"]\n",
    "    # 추출한 정보 사용 예시\n",
    "    say(f\"<@{user_id}>님이 '{message_text}' 메시지를 보냈습니다.\")\n",
    "    logger.info(f\"메시지 수신: {message_text}\")"
   ]
  },
  {
   "cell_type": "code",
   "execution_count": 9,
   "metadata": {},
   "outputs": [],
   "source": [
    "# 에러 핸들러\n",
    "@app.error\n",
    "def custom_error_handler(error, body, logger):\n",
    "    print(f\"에러 발생: {error}\")"
   ]
  },
  {
   "cell_type": "code",
   "execution_count": 10,
   "metadata": {},
   "outputs": [
    {
     "name": "stdout",
     "output_type": "stream",
     "text": [
      "⚡️ Bolt app is running!\n",
      "이벤트 수신: file_shared\n",
      "이벤트 수신: message\n"
     ]
    },
    {
     "ename": "KeyboardInterrupt",
     "evalue": "",
     "output_type": "error",
     "traceback": [
      "\u001b[0;31m---------------------------------------------------------------------------\u001b[0m",
      "\u001b[0;31mKeyboardInterrupt\u001b[0m                         Traceback (most recent call last)",
      "Cell \u001b[0;32mIn[10], line 2\u001b[0m\n\u001b[1;32m      1\u001b[0m handler \u001b[38;5;241m=\u001b[39m SocketModeHandler(app, SLACK_APP_TOKEN)\n\u001b[0;32m----> 2\u001b[0m \u001b[43mhandler\u001b[49m\u001b[38;5;241;43m.\u001b[39;49m\u001b[43mstart\u001b[49m\u001b[43m(\u001b[49m\u001b[43m)\u001b[49m\n",
      "File \u001b[0;32m~/.pyenv/versions/receipt/lib/python3.9/site-packages/slack_bolt/adapter/socket_mode/base_handler.py:58\u001b[0m, in \u001b[0;36mBaseSocketModeHandler.start\u001b[0;34m(self)\u001b[0m\n\u001b[1;32m     53\u001b[0m \u001b[38;5;28;01mif\u001b[39;00m sys\u001b[38;5;241m.\u001b[39mplatform \u001b[38;5;241m==\u001b[39m \u001b[38;5;124m\"\u001b[39m\u001b[38;5;124mwin32\u001b[39m\u001b[38;5;124m\"\u001b[39m:\n\u001b[1;32m     54\u001b[0m     \u001b[38;5;66;03m# Ctrl+C etc does not work on Windows OS\u001b[39;00m\n\u001b[1;32m     55\u001b[0m     \u001b[38;5;66;03m# see https://bugs.python.org/issue35935 for details\u001b[39;00m\n\u001b[1;32m     56\u001b[0m     signal\u001b[38;5;241m.\u001b[39msignal(signal\u001b[38;5;241m.\u001b[39mSIGINT, signal\u001b[38;5;241m.\u001b[39mSIG_DFL)\n\u001b[0;32m---> 58\u001b[0m \u001b[43mEvent\u001b[49m\u001b[43m(\u001b[49m\u001b[43m)\u001b[49m\u001b[38;5;241;43m.\u001b[39;49m\u001b[43mwait\u001b[49m\u001b[43m(\u001b[49m\u001b[43m)\u001b[49m\n",
      "File \u001b[0;32m~/.pyenv/versions/3.9.20/lib/python3.9/threading.py:581\u001b[0m, in \u001b[0;36mEvent.wait\u001b[0;34m(self, timeout)\u001b[0m\n\u001b[1;32m    579\u001b[0m signaled \u001b[38;5;241m=\u001b[39m \u001b[38;5;28mself\u001b[39m\u001b[38;5;241m.\u001b[39m_flag\n\u001b[1;32m    580\u001b[0m \u001b[38;5;28;01mif\u001b[39;00m \u001b[38;5;129;01mnot\u001b[39;00m signaled:\n\u001b[0;32m--> 581\u001b[0m     signaled \u001b[38;5;241m=\u001b[39m \u001b[38;5;28;43mself\u001b[39;49m\u001b[38;5;241;43m.\u001b[39;49m\u001b[43m_cond\u001b[49m\u001b[38;5;241;43m.\u001b[39;49m\u001b[43mwait\u001b[49m\u001b[43m(\u001b[49m\u001b[43mtimeout\u001b[49m\u001b[43m)\u001b[49m\n\u001b[1;32m    582\u001b[0m \u001b[38;5;28;01mreturn\u001b[39;00m signaled\n",
      "File \u001b[0;32m~/.pyenv/versions/3.9.20/lib/python3.9/threading.py:312\u001b[0m, in \u001b[0;36mCondition.wait\u001b[0;34m(self, timeout)\u001b[0m\n\u001b[1;32m    310\u001b[0m \u001b[38;5;28;01mtry\u001b[39;00m:    \u001b[38;5;66;03m# restore state no matter what (e.g., KeyboardInterrupt)\u001b[39;00m\n\u001b[1;32m    311\u001b[0m     \u001b[38;5;28;01mif\u001b[39;00m timeout \u001b[38;5;129;01mis\u001b[39;00m \u001b[38;5;28;01mNone\u001b[39;00m:\n\u001b[0;32m--> 312\u001b[0m         \u001b[43mwaiter\u001b[49m\u001b[38;5;241;43m.\u001b[39;49m\u001b[43macquire\u001b[49m\u001b[43m(\u001b[49m\u001b[43m)\u001b[49m\n\u001b[1;32m    313\u001b[0m         gotit \u001b[38;5;241m=\u001b[39m \u001b[38;5;28;01mTrue\u001b[39;00m\n\u001b[1;32m    314\u001b[0m     \u001b[38;5;28;01melse\u001b[39;00m:\n",
      "\u001b[0;31mKeyboardInterrupt\u001b[0m: "
     ]
    }
   ],
   "source": [
    "handler = SocketModeHandler(app, SLACK_APP_TOKEN)\n",
    "handler.start()"
   ]
  },
  {
   "cell_type": "code",
   "execution_count": null,
   "metadata": {},
   "outputs": [],
   "source": [
    "# 이미지 가져오기\n",
    "image_urls = fetch_images_from_channel(CHANNEL_ID)\n",
    "\n",
    "# 결과 출력\n",
    "print(\"이미지 URL 목록:\")\n",
    "for url in image_urls:\n",
    "    print(url)"
   ]
  }
 ],
 "metadata": {
  "kernelspec": {
   "display_name": "receipt",
   "language": "python",
   "name": "python3"
  },
  "language_info": {
   "codemirror_mode": {
    "name": "ipython",
    "version": 3
   },
   "file_extension": ".py",
   "mimetype": "text/x-python",
   "name": "python",
   "nbconvert_exporter": "python",
   "pygments_lexer": "ipython3",
   "version": "3.9.20"
  }
 },
 "nbformat": 4,
 "nbformat_minor": 2
}
