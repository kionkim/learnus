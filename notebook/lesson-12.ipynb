{
 "cells": [
  {
   "cell_type": "markdown",
   "metadata": {},
   "source": [
    "## API들을 활용한 통합 workflow 구현"
   ]
  },
  {
   "cell_type": "code",
   "execution_count": 1,
   "metadata": {},
   "outputs": [],
   "source": [
    "import os, sys, requests\n",
    "from pathlib import Path\n",
    "from dotenv import load_dotenv\n",
    "from slack_bolt import App\n",
    "from slack_bolt.adapter.socket_mode import SocketModeHandler"
   ]
  },
  {
   "cell_type": "code",
   "execution_count": 2,
   "metadata": {},
   "outputs": [],
   "source": [
    "load_dotenv('../.env')\n",
    "SLACK_BOT_TOKEN = os.getenv(\"SLACK-BOT\")\n",
    "CHANNEL_ID = 'C086KU2133M' # Channel ID\n",
    "SLACK_APP_TOKEN = os.getenv(\"SLACK-APP\")\n",
    "OPEN_AI_KEY = os.getenv(\"OPEN-AI\")"
   ]
  },
  {
   "cell_type": "code",
   "execution_count": 3,
   "metadata": {},
   "outputs": [],
   "source": [
    "sys.path.append('../python')\n",
    "from utils import download_file, upload_to_s3, is_pdf_by_signature, encode_image, pdf_to_image, search_with_google_api, add_receipt_to_notion_no_assistant\n",
    "from chains import OCRChain, SearchChain, CategoryAssistantChain\n",
    "from prompts import analysis_prompt\n",
    "from tools import search_tool\n",
    "from langchain.chains import SequentialChain, LLMChain\n",
    "from langchain.chat_models import ChatOpenAI"
   ]
  },
  {
   "cell_type": "code",
   "execution_count": 4,
   "metadata": {},
   "outputs": [],
   "source": [
    "# Slack 앱을 초기화합니다\n",
    "app = App(token=SLACK_BOT_TOKEN)"
   ]
  },
  {
   "cell_type": "code",
   "execution_count": 5,
   "metadata": {},
   "outputs": [],
   "source": [
    "current_path = Path.cwd()"
   ]
  },
  {
   "cell_type": "markdown",
   "metadata": {},
   "source": [
    "### 이벤트 처리"
   ]
  },
  {
   "cell_type": "code",
   "execution_count": 6,
   "metadata": {},
   "outputs": [],
   "source": [
    "# 모든 이벤트를 로깅하는 미들웨어\n",
    "@app.middleware\n",
    "def log_request(logger, body, next):\n",
    "    print(f\"이벤트 수신: {body['event']['type']}\")\n",
    "    next()\n",
    "    \n",
    "# 파일이 공유될 때 실행되는 이벤트 리스너\n",
    "@app.event(\"file_shared\")\n",
    "def handle_file_shared(event, say, logger, client):\n",
    "    # 이미지 파일인지 확인합니다\n",
    "    file_id = event[\"file_id\"]\n",
    "    logger.info(f\"새로운 이미지가 공유되었습니다. 파일 ID: {file_id}\")\n",
    "    # 파일 정보를 가져옵니다\n",
    "    file_info = client.files_info(file=file_id)\n",
    "    file = file_info[\"file\"]\n",
    "    file_url = file[\"url_private_download\"]\n",
    "    image_path = current_path / '../image' / file[\"name\"]\n",
    "    if download_file(file_url, image_path, SLACK_BOT_TOKEN):\n",
    "        say(f\"파일 '{image_path}'을 성공적으로 다운로드했습니다.\")\n",
    "        #####################################\n",
    "        # langchain으로 정보 처리\n",
    "        # OCRChain 초기화\n",
    "        ocr_chain = OCRChain()\n",
    "        # SearchChain 초기화\n",
    "        search_chain = SearchChain(search_tool)\n",
    "        # Analysis Chain (검색결과로부터 업종 판단) 초기화\n",
    "        analysis_chain = LLMChain(\n",
    "            llm = ChatOpenAI(\n",
    "                model=\"gpt-4\", \n",
    "                temperature=0,\n",
    "                openai_api_key = OPEN_AI_KEY\n",
    "            ),\n",
    "            prompt=analysis_prompt,\n",
    "            output_key=\"business_category\",  # 출력 키를 명시적으로 설정\n",
    "        )\n",
    "        sequential_chain = SequentialChain(\n",
    "            chains=[ocr_chain, search_chain, analysis_chain],\n",
    "            input_variables=[\"image_path\"],\n",
    "            output_variables=[\"business_category\", \"ocr_response\"],\n",
    "            verbose=True\n",
    "        )\n",
    "        # 실행\n",
    "        result = sequential_chain.invoke({\"image_path\": image_path})\n",
    "        print(\"\\n최종 결과:\")\n",
    "        print(result[\"business_category\"])\n",
    "        \n",
    "        # Notion DB에 정보 추가\n",
    "        try:\n",
    "            s3_file_url = upload_to_s3(image_path, image_path.name)\n",
    "            add_receipt_to_notion_no_assistant(result['ocr_response'], s3_file_url, result['business_category'])\n",
    "            app.client.chat_postMessage(channel=CHANNEL_ID, text= f\"데이터가 성공적으로 Notion에 저장되었습니다.\")\n",
    "            app.client.chat_postMessage(channel=CHANNEL_ID, text= result['assistant_response'])\n",
    "        except Exception as e:\n",
    "            logger.error(f\"Notion에 데이터를 추가하는 중 오류 발생: {e}\")\n",
    "        \n",
    "# message에 대한 처리는 필요 없음\n",
    "@app.event(\"message\")\n",
    "def handle_message_events(event, logger, say):\n",
    "    pass\n",
    "\n",
    "# 에러 핸들러\n",
    "@app.error\n",
    "def custom_error_handler(error, body, logger):\n",
    "    print(f\"에러 발생: {error}\")"
   ]
  },
  {
   "cell_type": "code",
   "execution_count": 7,
   "metadata": {},
   "outputs": [
    {
     "name": "stdout",
     "output_type": "stream",
     "text": [
      "⚡️ Bolt app is running!\n",
      "이벤트 수신: message\n",
      "이벤트 수신: message\n",
      "이벤트 수신: file_shared\n"
     ]
    },
    {
     "name": "stderr",
     "output_type": "stream",
     "text": [
      "/var/folders/39/jrqp49_54fj1tl_h3pjv45780000gn/T/ipykernel_20631/3722578529.py:28: LangChainDeprecationWarning: The class `ChatOpenAI` was deprecated in LangChain 0.0.10 and will be removed in 1.0. An updated version of the class exists in the :class:`~langchain-openai package and should be used instead. To use it run `pip install -U :class:`~langchain-openai` and import as `from :class:`~langchain_openai import ChatOpenAI``.\n",
      "  llm = ChatOpenAI(\n",
      "/var/folders/39/jrqp49_54fj1tl_h3pjv45780000gn/T/ipykernel_20631/3722578529.py:27: LangChainDeprecationWarning: The class `LLMChain` was deprecated in LangChain 0.1.17 and will be removed in 1.0. Use :meth:`~RunnableSequence, e.g., `prompt | llm`` instead.\n",
      "  analysis_chain = LLMChain(\n"
     ]
    },
    {
     "name": "stdout",
     "output_type": "stream",
     "text": [
      "\n",
      "\n",
      "\u001b[1m> Entering new SequentialChain chain...\u001b[0m\n",
      "raw_response = {'상호명': '캐롯손해보험', '날짜': '2023-12-02', '항목': [], '총액': 28120}\n",
      "business_name =  캐롯손해보험\n",
      "item =  \n",
      "query =  캐롯손해보험\n",
      "\n",
      "\u001b[1m> Finished chain.\u001b[0m\n",
      "\n",
      "최종 결과:\n",
      "\"손해보험\"\n",
      "데이터가 성공적으로 Notion에 저장되었습니다: 17d81589-428d-81bb-8e7a-ffd1b98b3179\n"
     ]
    },
    {
     "name": "stderr",
     "output_type": "stream",
     "text": [
      "Notion에 데이터를 추가하는 중 오류 발생: The request to the Slack API failed. (url: https://slack.com/api/chat.postMessage)\n",
      "The server responded with: {'ok': False, 'error': 'not_in_channel'}\n"
     ]
    },
    {
     "name": "stdout",
     "output_type": "stream",
     "text": [
      "이벤트 수신: message\n"
     ]
    },
    {
     "ename": "KeyboardInterrupt",
     "evalue": "",
     "output_type": "error",
     "traceback": [
      "\u001b[0;31m---------------------------------------------------------------------------\u001b[0m",
      "\u001b[0;31mKeyboardInterrupt\u001b[0m                         Traceback (most recent call last)",
      "Cell \u001b[0;32mIn[7], line 2\u001b[0m\n\u001b[1;32m      1\u001b[0m handler \u001b[38;5;241m=\u001b[39m SocketModeHandler(app, SLACK_APP_TOKEN)\n\u001b[0;32m----> 2\u001b[0m \u001b[43mhandler\u001b[49m\u001b[38;5;241;43m.\u001b[39;49m\u001b[43mstart\u001b[49m\u001b[43m(\u001b[49m\u001b[43m)\u001b[49m\n",
      "File \u001b[0;32m~/.pyenv/versions/receipt/lib/python3.9/site-packages/slack_bolt/adapter/socket_mode/base_handler.py:58\u001b[0m, in \u001b[0;36mBaseSocketModeHandler.start\u001b[0;34m(self)\u001b[0m\n\u001b[1;32m     53\u001b[0m \u001b[38;5;28;01mif\u001b[39;00m sys\u001b[38;5;241m.\u001b[39mplatform \u001b[38;5;241m==\u001b[39m \u001b[38;5;124m\"\u001b[39m\u001b[38;5;124mwin32\u001b[39m\u001b[38;5;124m\"\u001b[39m:\n\u001b[1;32m     54\u001b[0m     \u001b[38;5;66;03m# Ctrl+C etc does not work on Windows OS\u001b[39;00m\n\u001b[1;32m     55\u001b[0m     \u001b[38;5;66;03m# see https://bugs.python.org/issue35935 for details\u001b[39;00m\n\u001b[1;32m     56\u001b[0m     signal\u001b[38;5;241m.\u001b[39msignal(signal\u001b[38;5;241m.\u001b[39mSIGINT, signal\u001b[38;5;241m.\u001b[39mSIG_DFL)\n\u001b[0;32m---> 58\u001b[0m \u001b[43mEvent\u001b[49m\u001b[43m(\u001b[49m\u001b[43m)\u001b[49m\u001b[38;5;241;43m.\u001b[39;49m\u001b[43mwait\u001b[49m\u001b[43m(\u001b[49m\u001b[43m)\u001b[49m\n",
      "File \u001b[0;32m~/.pyenv/versions/3.9.20/lib/python3.9/threading.py:581\u001b[0m, in \u001b[0;36mEvent.wait\u001b[0;34m(self, timeout)\u001b[0m\n\u001b[1;32m    579\u001b[0m signaled \u001b[38;5;241m=\u001b[39m \u001b[38;5;28mself\u001b[39m\u001b[38;5;241m.\u001b[39m_flag\n\u001b[1;32m    580\u001b[0m \u001b[38;5;28;01mif\u001b[39;00m \u001b[38;5;129;01mnot\u001b[39;00m signaled:\n\u001b[0;32m--> 581\u001b[0m     signaled \u001b[38;5;241m=\u001b[39m \u001b[38;5;28;43mself\u001b[39;49m\u001b[38;5;241;43m.\u001b[39;49m\u001b[43m_cond\u001b[49m\u001b[38;5;241;43m.\u001b[39;49m\u001b[43mwait\u001b[49m\u001b[43m(\u001b[49m\u001b[43mtimeout\u001b[49m\u001b[43m)\u001b[49m\n\u001b[1;32m    582\u001b[0m \u001b[38;5;28;01mreturn\u001b[39;00m signaled\n",
      "File \u001b[0;32m~/.pyenv/versions/3.9.20/lib/python3.9/threading.py:312\u001b[0m, in \u001b[0;36mCondition.wait\u001b[0;34m(self, timeout)\u001b[0m\n\u001b[1;32m    310\u001b[0m \u001b[38;5;28;01mtry\u001b[39;00m:    \u001b[38;5;66;03m# restore state no matter what (e.g., KeyboardInterrupt)\u001b[39;00m\n\u001b[1;32m    311\u001b[0m     \u001b[38;5;28;01mif\u001b[39;00m timeout \u001b[38;5;129;01mis\u001b[39;00m \u001b[38;5;28;01mNone\u001b[39;00m:\n\u001b[0;32m--> 312\u001b[0m         \u001b[43mwaiter\u001b[49m\u001b[38;5;241;43m.\u001b[39;49m\u001b[43macquire\u001b[49m\u001b[43m(\u001b[49m\u001b[43m)\u001b[49m\n\u001b[1;32m    313\u001b[0m         gotit \u001b[38;5;241m=\u001b[39m \u001b[38;5;28;01mTrue\u001b[39;00m\n\u001b[1;32m    314\u001b[0m     \u001b[38;5;28;01melse\u001b[39;00m:\n",
      "\u001b[0;31mKeyboardInterrupt\u001b[0m: "
     ]
    },
    {
     "name": "stderr",
     "output_type": "stream",
     "text": [
      "on_error invoked (session id: ae073ff5-6e69-42be-bc33-eb02582ce0df, error: ConnectionResetError, message: [Errno 54] Connection reset by peer)\n",
      "on_error invoked (session id: b7ef455a-f494-45cb-af2f-ab252d16170a, error: ConnectionResetError, message: [Errno 54] Connection reset by peer)\n",
      "on_error invoked (session id: 07624ebb-bb9c-4a8b-b75e-0ba40c6a762b, error: ConnectionResetError, message: [Errno 54] Connection reset by peer)\n",
      "on_error invoked (session id: 183c3cc6-bcd2-4ef6-95af-69a6f6ed5255, error: ConnectionResetError, message: [Errno 54] Connection reset by peer)\n",
      "on_error invoked (session id: 399e6d77-5cd1-47e5-b43b-864ab4603d40, error: ConnectionResetError, message: [Errno 54] Connection reset by peer)\n",
      "on_error invoked (session id: e6e05239-cdba-4d78-8c91-23d861ee10b5, error: ConnectionResetError, message: [Errno 54] Connection reset by peer)\n",
      "on_error invoked (session id: 80d24f1b-796a-4e95-81b2-7f253a5ae1a8, error: ConnectionResetError, message: [Errno 54] Connection reset by peer)\n",
      "on_error invoked (session id: e0c9f5cb-a0c9-488f-a73c-328cad612dfb, error: ConnectionResetError, message: [Errno 54] Connection reset by peer)\n",
      "on_error invoked (session id: 516221f5-9bef-4736-bf29-367bdbadd163, error: ConnectionResetError, message: [Errno 54] Connection reset by peer)\n",
      "Failed to send a request to Slack API server: <urlopen error [Errno 8] nodename nor servname provided, or not known>\n",
      "Failed to send a request to Slack API server: <urlopen error [Errno 8] nodename nor servname provided, or not known>\n",
      "Failed to check the current session or reconnect to the server (session id: ad23bb83-7006-4729-978e-c9ad0617ff79, error: URLError, message: <urlopen error [Errno 8] nodename nor servname provided, or not known>)\n",
      "Failed to send a request to Slack API server: <urlopen error [Errno 8] nodename nor servname provided, or not known>\n",
      "Failed to send a request to Slack API server: <urlopen error [Errno 8] nodename nor servname provided, or not known>\n",
      "Failed to check the current session or reconnect to the server (session id: ad23bb83-7006-4729-978e-c9ad0617ff79, error: URLError, message: <urlopen error [Errno 8] nodename nor servname provided, or not known>)\n",
      "Failed to send a request to Slack API server: <urlopen error [Errno 8] nodename nor servname provided, or not known>\n",
      "Failed to send a request to Slack API server: <urlopen error [Errno 8] nodename nor servname provided, or not known>\n",
      "Failed to check the current session or reconnect to the server (session id: ad23bb83-7006-4729-978e-c9ad0617ff79, error: URLError, message: <urlopen error [Errno 8] nodename nor servname provided, or not known>)\n",
      "Failed to send a request to Slack API server: <urlopen error [Errno 8] nodename nor servname provided, or not known>\n",
      "Failed to send a request to Slack API server: <urlopen error [Errno 8] nodename nor servname provided, or not known>\n",
      "Failed to check the current session or reconnect to the server (session id: ad23bb83-7006-4729-978e-c9ad0617ff79, error: URLError, message: <urlopen error [Errno 8] nodename nor servname provided, or not known>)\n",
      "Failed to send a request to Slack API server: <urlopen error [Errno 8] nodename nor servname provided, or not known>\n",
      "Failed to send a request to Slack API server: <urlopen error [Errno 8] nodename nor servname provided, or not known>\n",
      "Failed to check the current session or reconnect to the server (session id: ad23bb83-7006-4729-978e-c9ad0617ff79, error: URLError, message: <urlopen error [Errno 8] nodename nor servname provided, or not known>)\n",
      "Failed to send a request to Slack API server: <urlopen error [Errno 8] nodename nor servname provided, or not known>\n",
      "Failed to send a request to Slack API server: <urlopen error [Errno 8] nodename nor servname provided, or not known>\n",
      "Failed to check the current session or reconnect to the server (session id: ad23bb83-7006-4729-978e-c9ad0617ff79, error: URLError, message: <urlopen error [Errno 8] nodename nor servname provided, or not known>)\n",
      "Failed to send a request to Slack API server: <urlopen error [Errno 8] nodename nor servname provided, or not known>\n",
      "Failed to send a request to Slack API server: <urlopen error [Errno 8] nodename nor servname provided, or not known>\n",
      "Failed to check the current session or reconnect to the server (session id: ad23bb83-7006-4729-978e-c9ad0617ff79, error: URLError, message: <urlopen error [Errno 8] nodename nor servname provided, or not known>)\n",
      "Failed to send a request to Slack API server: <urlopen error [Errno 8] nodename nor servname provided, or not known>\n",
      "Failed to send a request to Slack API server: <urlopen error [Errno 8] nodename nor servname provided, or not known>\n",
      "Failed to check the current session or reconnect to the server (session id: ad23bb83-7006-4729-978e-c9ad0617ff79, error: URLError, message: <urlopen error [Errno 8] nodename nor servname provided, or not known>)\n",
      "Failed to send a request to Slack API server: <urlopen error [Errno 8] nodename nor servname provided, or not known>\n",
      "Failed to send a request to Slack API server: <urlopen error [Errno 8] nodename nor servname provided, or not known>\n",
      "Failed to check the current session or reconnect to the server (session id: ad23bb83-7006-4729-978e-c9ad0617ff79, error: URLError, message: <urlopen error [Errno 8] nodename nor servname provided, or not known>)\n",
      "Failed to send a request to Slack API server: <urlopen error [Errno 8] nodename nor servname provided, or not known>\n",
      "Failed to send a request to Slack API server: <urlopen error [Errno 8] nodename nor servname provided, or not known>\n",
      "Failed to check the current session or reconnect to the server (session id: ad23bb83-7006-4729-978e-c9ad0617ff79, error: URLError, message: <urlopen error [Errno 8] nodename nor servname provided, or not known>)\n",
      "Failed to send a request to Slack API server: <urlopen error [Errno 8] nodename nor servname provided, or not known>\n",
      "Failed to send a request to Slack API server: <urlopen error [Errno 8] nodename nor servname provided, or not known>\n",
      "Failed to check the current session or reconnect to the server (session id: ad23bb83-7006-4729-978e-c9ad0617ff79, error: URLError, message: <urlopen error [Errno 8] nodename nor servname provided, or not known>)\n",
      "Failed to send a request to Slack API server: <urlopen error [Errno 8] nodename nor servname provided, or not known>\n",
      "Failed to send a request to Slack API server: <urlopen error [Errno 8] nodename nor servname provided, or not known>\n",
      "Failed to send a request to Slack API server: <urlopen error [Errno 8] nodename nor servname provided, or not known>\n",
      "Failed to check the current session or reconnect to the server (session id: 081a128c-f339-4077-8789-4c6a81690c12, error: URLError, message: <urlopen error [Errno 8] nodename nor servname provided, or not known>)\n",
      "Failed to send a request to Slack API server: <urlopen error [Errno 8] nodename nor servname provided, or not known>\n",
      "Failed to send a request to Slack API server: <urlopen error [Errno 8] nodename nor servname provided, or not known>\n",
      "Failed to check the current session or reconnect to the server (session id: 081a128c-f339-4077-8789-4c6a81690c12, error: URLError, message: <urlopen error [Errno 8] nodename nor servname provided, or not known>)\n",
      "Failed to send a request to Slack API server: <urlopen error [Errno 8] nodename nor servname provided, or not known>\n",
      "Failed to send a request to Slack API server: <urlopen error [Errno 8] nodename nor servname provided, or not known>\n",
      "Failed to check the current session or reconnect to the server (session id: 081a128c-f339-4077-8789-4c6a81690c12, error: URLError, message: <urlopen error [Errno 8] nodename nor servname provided, or not known>)\n",
      "Failed to send a request to Slack API server: <urlopen error [Errno 8] nodename nor servname provided, or not known>\n",
      "Failed to send a request to Slack API server: <urlopen error [Errno 8] nodename nor servname provided, or not known>\n",
      "Failed to check the current session or reconnect to the server (session id: 081a128c-f339-4077-8789-4c6a81690c12, error: URLError, message: <urlopen error [Errno 8] nodename nor servname provided, or not known>)\n",
      "Failed to send a request to Slack API server: <urlopen error [Errno 8] nodename nor servname provided, or not known>\n",
      "Failed to send a request to Slack API server: <urlopen error [Errno 8] nodename nor servname provided, or not known>\n",
      "Failed to check the current session or reconnect to the server (session id: 081a128c-f339-4077-8789-4c6a81690c12, error: URLError, message: <urlopen error [Errno 8] nodename nor servname provided, or not known>)\n",
      "Failed to send a request to Slack API server: <urlopen error [Errno 8] nodename nor servname provided, or not known>\n",
      "Failed to send a request to Slack API server: <urlopen error [Errno 8] nodename nor servname provided, or not known>\n",
      "Failed to check the current session or reconnect to the server (session id: 081a128c-f339-4077-8789-4c6a81690c12, error: URLError, message: <urlopen error [Errno 8] nodename nor servname provided, or not known>)\n"
     ]
    },
    {
     "name": "stdout",
     "output_type": "stream",
     "text": [
      "이벤트 수신: message\n"
     ]
    },
    {
     "name": "stderr",
     "output_type": "stream",
     "text": [
      "Failed to send a request to Slack API server: <urlopen error [Errno 8] nodename nor servname provided, or not known>\n",
      "Failed to send a request to Slack API server: <urlopen error [Errno 8] nodename nor servname provided, or not known>\n",
      "Failed to check the current session or reconnect to the server (session id: 2ea67e4b-8a01-4560-ac19-13e5a9f83131, error: URLError, message: <urlopen error [Errno 8] nodename nor servname provided, or not known>)\n",
      "Failed to send a request to Slack API server: <urlopen error [Errno 8] nodename nor servname provided, or not known>\n",
      "Failed to send a request to Slack API server: <urlopen error [Errno 8] nodename nor servname provided, or not known>\n",
      "Failed to check the current session or reconnect to the server (session id: 2ea67e4b-8a01-4560-ac19-13e5a9f83131, error: URLError, message: <urlopen error [Errno 8] nodename nor servname provided, or not known>)\n",
      "Failed to send a request to Slack API server: <urlopen error [Errno 8] nodename nor servname provided, or not known>\n",
      "Failed to send a request to Slack API server: <urlopen error [Errno 8] nodename nor servname provided, or not known>\n",
      "Failed to check the current session or reconnect to the server (session id: 2ea67e4b-8a01-4560-ac19-13e5a9f83131, error: URLError, message: <urlopen error [Errno 8] nodename nor servname provided, or not known>)\n",
      "Failed to send a request to Slack API server: <urlopen error [Errno 8] nodename nor servname provided, or not known>\n",
      "Failed to send a request to Slack API server: <urlopen error [Errno 8] nodename nor servname provided, or not known>\n",
      "Failed to check the current session or reconnect to the server (session id: 2ea67e4b-8a01-4560-ac19-13e5a9f83131, error: URLError, message: <urlopen error [Errno 8] nodename nor servname provided, or not known>)\n",
      "Failed to send a request to Slack API server: <urlopen error [Errno 8] nodename nor servname provided, or not known>\n",
      "Failed to send a request to Slack API server: <urlopen error [Errno 8] nodename nor servname provided, or not known>\n",
      "Failed to check the current session or reconnect to the server (session id: 2ea67e4b-8a01-4560-ac19-13e5a9f83131, error: URLError, message: <urlopen error [Errno 8] nodename nor servname provided, or not known>)\n",
      "Failed to send a request to Slack API server: <urlopen error [Errno 8] nodename nor servname provided, or not known>\n",
      "Failed to send a request to Slack API server: <urlopen error [Errno 8] nodename nor servname provided, or not known>\n",
      "Failed to check the current session or reconnect to the server (session id: 2ea67e4b-8a01-4560-ac19-13e5a9f83131, error: URLError, message: <urlopen error [Errno 8] nodename nor servname provided, or not known>)\n",
      "Failed to send a request to Slack API server: <urlopen error [Errno 8] nodename nor servname provided, or not known>\n",
      "Failed to send a request to Slack API server: <urlopen error [Errno 8] nodename nor servname provided, or not known>\n",
      "Failed to check the current session or reconnect to the server (session id: 2ea67e4b-8a01-4560-ac19-13e5a9f83131, error: URLError, message: <urlopen error [Errno 8] nodename nor servname provided, or not known>)\n",
      "Failed to send a request to Slack API server: <urlopen error [Errno 8] nodename nor servname provided, or not known>\n",
      "Failed to send a request to Slack API server: <urlopen error [Errno 8] nodename nor servname provided, or not known>\n",
      "Failed to check the current session or reconnect to the server (session id: 2ea67e4b-8a01-4560-ac19-13e5a9f83131, error: URLError, message: <urlopen error [Errno 8] nodename nor servname provided, or not known>)\n",
      "Failed to send a request to Slack API server: <urlopen error [Errno 8] nodename nor servname provided, or not known>\n",
      "Failed to send a request to Slack API server: <urlopen error [Errno 8] nodename nor servname provided, or not known>\n",
      "Failed to check the current session or reconnect to the server (session id: 2ea67e4b-8a01-4560-ac19-13e5a9f83131, error: URLError, message: <urlopen error [Errno 8] nodename nor servname provided, or not known>)\n",
      "Failed to send a request to Slack API server: <urlopen error [Errno 8] nodename nor servname provided, or not known>\n",
      "Failed to send a request to Slack API server: <urlopen error [Errno 8] nodename nor servname provided, or not known>\n",
      "Failed to check the current session or reconnect to the server (session id: 2ea67e4b-8a01-4560-ac19-13e5a9f83131, error: URLError, message: <urlopen error [Errno 8] nodename nor servname provided, or not known>)\n",
      "Failed to send a request to Slack API server: <urlopen error [Errno 8] nodename nor servname provided, or not known>\n",
      "Failed to send a request to Slack API server: <urlopen error [Errno 8] nodename nor servname provided, or not known>\n",
      "Failed to check the current session or reconnect to the server (session id: 2ea67e4b-8a01-4560-ac19-13e5a9f83131, error: URLError, message: <urlopen error [Errno 8] nodename nor servname provided, or not known>)\n",
      "Failed to send a request to Slack API server: <urlopen error [Errno 8] nodename nor servname provided, or not known>\n",
      "Failed to send a request to Slack API server: <urlopen error [Errno 8] nodename nor servname provided, or not known>\n",
      "Failed to check the current session or reconnect to the server (session id: 2ea67e4b-8a01-4560-ac19-13e5a9f83131, error: URLError, message: <urlopen error [Errno 8] nodename nor servname provided, or not known>)\n",
      "Failed to send a request to Slack API server: <urlopen error [Errno 8] nodename nor servname provided, or not known>\n",
      "Failed to send a request to Slack API server: <urlopen error [Errno 8] nodename nor servname provided, or not known>\n",
      "Failed to check the current session or reconnect to the server (session id: 2ea67e4b-8a01-4560-ac19-13e5a9f83131, error: URLError, message: <urlopen error [Errno 8] nodename nor servname provided, or not known>)\n",
      "Failed to send a request to Slack API server: <urlopen error [Errno 8] nodename nor servname provided, or not known>\n",
      "Failed to send a request to Slack API server: <urlopen error [Errno 8] nodename nor servname provided, or not known>\n",
      "Failed to check the current session or reconnect to the server (session id: 2ea67e4b-8a01-4560-ac19-13e5a9f83131, error: URLError, message: <urlopen error [Errno 8] nodename nor servname provided, or not known>)\n",
      "Failed to send a request to Slack API server: <urlopen error [Errno 8] nodename nor servname provided, or not known>\n",
      "Failed to send a request to Slack API server: <urlopen error [Errno 8] nodename nor servname provided, or not known>\n",
      "Failed to check the current session or reconnect to the server (session id: 2ea67e4b-8a01-4560-ac19-13e5a9f83131, error: URLError, message: <urlopen error [Errno 8] nodename nor servname provided, or not known>)\n",
      "Failed to send a request to Slack API server: <urlopen error [Errno 8] nodename nor servname provided, or not known>\n",
      "Failed to send a request to Slack API server: <urlopen error [Errno 8] nodename nor servname provided, or not known>\n",
      "Failed to check the current session or reconnect to the server (session id: 2ea67e4b-8a01-4560-ac19-13e5a9f83131, error: URLError, message: <urlopen error [Errno 8] nodename nor servname provided, or not known>)\n",
      "Failed to send a request to Slack API server: <urlopen error [Errno 8] nodename nor servname provided, or not known>\n",
      "Failed to send a request to Slack API server: <urlopen error [Errno 8] nodename nor servname provided, or not known>\n",
      "Failed to check the current session or reconnect to the server (session id: ab8617ee-7df8-4184-8499-74f4fc6fcb1e, error: URLError, message: <urlopen error [Errno 8] nodename nor servname provided, or not known>)\n",
      "on_error invoked (session id: b54e45df-b777-42de-809c-1ef7288a93c5, error: ConnectionResetError, message: [Errno 54] Connection reset by peer)\n",
      "Failed to send a request to Slack API server: <urlopen error [Errno 8] nodename nor servname provided, or not known>\n",
      "Failed to send a request to Slack API server: <urlopen error [Errno 8] nodename nor servname provided, or not known>\n",
      "Failed to check the current session or reconnect to the server (session id: c55cb67b-44c3-4a4b-bfe0-03b05401535d, error: URLError, message: <urlopen error [Errno 8] nodename nor servname provided, or not known>)\n",
      "Failed to send a request to Slack API server: <urlopen error [Errno 8] nodename nor servname provided, or not known>\n",
      "Failed to send a request to Slack API server: <urlopen error [Errno 8] nodename nor servname provided, or not known>\n",
      "Failed to check the current session or reconnect to the server (session id: c55cb67b-44c3-4a4b-bfe0-03b05401535d, error: URLError, message: <urlopen error [Errno 8] nodename nor servname provided, or not known>)\n",
      "Failed to send a request to Slack API server: <urlopen error [Errno 8] nodename nor servname provided, or not known>\n",
      "Failed to send a request to Slack API server: <urlopen error [Errno 8] nodename nor servname provided, or not known>\n",
      "Failed to check the current session or reconnect to the server (session id: c55cb67b-44c3-4a4b-bfe0-03b05401535d, error: URLError, message: <urlopen error [Errno 8] nodename nor servname provided, or not known>)\n",
      "Failed to send a request to Slack API server: <urlopen error [Errno 8] nodename nor servname provided, or not known>\n",
      "Failed to send a request to Slack API server: <urlopen error [Errno 8] nodename nor servname provided, or not known>\n",
      "Failed to check the current session or reconnect to the server (session id: c55cb67b-44c3-4a4b-bfe0-03b05401535d, error: URLError, message: <urlopen error [Errno 8] nodename nor servname provided, or not known>)\n",
      "on_error invoked (session id: 64d9544f-5a6c-4d9a-ac9d-85001ea2498e, error: TimeoutError, message: [Errno 60] Operation timed out)\n",
      "on_error invoked (session id: 6445fdb0-f2ef-4e76-876c-b8e5c826ffc1, error: ConnectionResetError, message: [Errno 54] Connection reset by peer)\n",
      "on_error invoked (session id: ffc5c252-46ff-4623-94da-553715470473, error: ConnectionResetError, message: [Errno 54] Connection reset by peer)\n"
     ]
    },
    {
     "name": "stdout",
     "output_type": "stream",
     "text": [
      "이벤트 수신: message\n"
     ]
    }
   ],
   "source": [
    "handler = SocketModeHandler(app, SLACK_APP_TOKEN)\n",
    "handler.start()"
   ]
  }
 ],
 "metadata": {
  "kernelspec": {
   "display_name": "receipt",
   "language": "python",
   "name": "python3"
  },
  "language_info": {
   "codemirror_mode": {
    "name": "ipython",
    "version": 3
   },
   "file_extension": ".py",
   "mimetype": "text/x-python",
   "name": "python",
   "nbconvert_exporter": "python",
   "pygments_lexer": "ipython3",
   "version": "3.9.20"
  }
 },
 "nbformat": 4,
 "nbformat_minor": 2
}
