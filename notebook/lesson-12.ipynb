{
 "cells": [
  {
   "cell_type": "markdown",
   "metadata": {},
   "source": [
    "## API들을 활용한 통합 workflow 구현"
   ]
  },
  {
   "cell_type": "code",
   "execution_count": 1,
   "metadata": {},
   "outputs": [],
   "source": [
    "import os, sys, logging\n",
    "from pathlib import Path\n",
    "from dotenv import load_dotenv\n",
    "from slack_bolt import App\n",
    "from slack_bolt.adapter.socket_mode import SocketModeHandler\n",
    "from langchain.chains import SequentialChain, LLMChain\n",
    "from langchain.chat_models import ChatOpenAI"
   ]
  },
  {
   "cell_type": "markdown",
   "metadata": {},
   "source": [
    "#### 환경변수로부터 API Key 불러오기"
   ]
  },
  {
   "cell_type": "code",
   "execution_count": 2,
   "metadata": {},
   "outputs": [],
   "source": [
    "load_dotenv('../.env')\n",
    "SLACK_BOT_TOKEN = os.getenv(\"SLACK-BOT\")\n",
    "SLACK_APP_TOKEN = os.getenv(\"SLACK-APP\")\n",
    "OPEN_AI_KEY = os.getenv(\"OPEN-AI\")"
   ]
  },
  {
   "cell_type": "markdown",
   "metadata": {},
   "source": [
    "#### 제작해 놓은 클래스 및 함수 불러오기"
   ]
  },
  {
   "cell_type": "code",
   "execution_count": 3,
   "metadata": {},
   "outputs": [],
   "source": [
    "sys.path.append('../python')\n",
    "from utils import download_file, upload_to_s3, add_receipt_to_notion_no_assistant\n",
    "from chains import OCRChain, SearchChain\n",
    "from prompts import analysis_prompt\n",
    "from tools import search_tool"
   ]
  },
  {
   "cell_type": "markdown",
   "metadata": {},
   "source": [
    "#### logging 설정"
   ]
  },
  {
   "cell_type": "code",
   "execution_count": 4,
   "metadata": {},
   "outputs": [],
   "source": [
    "logging.basicConfig(level=logging.INFO)\n",
    "logger = logging.getLogger(__name__)"
   ]
  },
  {
   "cell_type": "markdown",
   "metadata": {},
   "source": [
    "#### Slack Bolt 앱 객체화"
   ]
  },
  {
   "cell_type": "code",
   "execution_count": 5,
   "metadata": {},
   "outputs": [],
   "source": [
    "# Slack 앱을 초기화합니다\n",
    "app = App(token=SLACK_BOT_TOKEN)"
   ]
  },
  {
   "cell_type": "markdown",
   "metadata": {},
   "source": [
    "### 이벤트 처리"
   ]
  },
  {
   "cell_type": "code",
   "execution_count": 6,
   "metadata": {},
   "outputs": [],
   "source": [
    "# 모든 이벤트를 로깅하는 미들웨어\n",
    "@app.middleware\n",
    "def log_request(logger, body, next):\n",
    "    print(f\"이벤트 수신: {body['event']['type']}\")\n",
    "    next()\n",
    "    \n",
    "    \n",
    "    # 모든 이벤트를 로깅하는 미들웨어\n",
    "# Slack SDK(특히 Bolt 프레임워크)에서 **미들웨어(Middleware)**는 이벤트가 애플리케이션에서 처리되기 전에, 요청(request)을 전처리하거나, 애플리케이션의 동작을 확장하는 데 사용되는 코드 블록\n",
    "# 미들웨어는 모든 이벤트나 요청이 애플리케이션의 특정 핸들러로 전달되기 전에 실행되므로, 공통 작업을 처리하는 데 유용함\n",
    "# @app.middleware 데코레이터는 이 함수를 애플리케이션의 미들웨어로 등록\n",
    "@app.middleware\n",
    "def log_request(logger, body, next):\n",
    "    print(f\"이벤트 수신: {body['event']['type']}\")\n",
    "    next() # next()를 호출해 다음 단계로 처리를 넘김.\n",
    "    \n",
    "# 파일이 공유될 때 실행되는 이벤트 리스너\n",
    "@app.event(\"file_shared\")\n",
    "def handle_file_shared(event, say, logger, client):\n",
    "    # 현재 경로\n",
    "    current_path = Path.cwd()\n",
    "    # 이미지 파일인지 확인합니다\n",
    "    file_id = event[\"file_id\"]\n",
    "    logger.info(f\"새로운 이미지가 공유되었습니다. 파일 ID: {file_id}\")\n",
    "    # 파일 정보를 가져옵니다\n",
    "    file_info = client.files_info(file=file_id)\n",
    "    file = file_info[\"file\"]\n",
    "    file_url = file[\"url_private_download\"]\n",
    "    image_path = current_path / '../image' / file[\"name\"]\n",
    "    if download_file(file_url, image_path, SLACK_BOT_TOKEN):\n",
    "        say(f\"파일 '{image_path}'을 성공적으로 다운로드했습니다.\")\n",
    "        print(f\"파일 '{image_path}'을 성공적으로 다운로드했습니다.\")\n",
    "        #####################################\n",
    "        # langchain으로 정보 처리\n",
    "        # OCRChain 초기화\n",
    "        ocr_chain = OCRChain()\n",
    "        # SearchChain 초기화\n",
    "        search_chain = SearchChain(search_tool)\n",
    "        # Analysis Chain (검색결과로부터 업종 판단) 초기화\n",
    "        analysis_chain = LLMChain(\n",
    "            llm = ChatOpenAI(\n",
    "                model=\"gpt-4\", \n",
    "                temperature=0,\n",
    "                openai_api_key = OPEN_AI_KEY\n",
    "            ),\n",
    "            prompt=analysis_prompt,\n",
    "            output_key=\"business_category\",  # 출력 키를 명시적으로 설정\n",
    "        )\n",
    "        try:\n",
    "            sequential_chain = SequentialChain(\n",
    "                chains=[ocr_chain, search_chain, analysis_chain],\n",
    "                input_variables=[\"image_path\"],\n",
    "                output_variables=[\"business_category\", \"ocr_response\"],\n",
    "                verbose=True\n",
    "            )\n",
    "            # 실행\n",
    "            result = sequential_chain.invoke({\"image_path\": image_path})\n",
    "            logger.info(\"\\n최종 결과:\")\n",
    "            logger.info(result[\"business_category\"])\n",
    "        except Exception as e:\n",
    "            logger.error(f\"Chain 실행 중 오류 발생: {e}\")\n",
    "\n",
    "        # Notion DB에 정보 추가\n",
    "        try:\n",
    "            s3_file_url = upload_to_s3(image_path, image_path.name)\n",
    "            add_receipt_to_notion_no_assistant(result['ocr_response'], s3_file_url, result['business_category'])\n",
    "            say(f\"데이터가 성공적으로 Notion에 저장되었습니다.\")\n",
    "        except Exception as e:\n",
    "            logger.error(f\"Notion에 데이터를 추가하는 중 오류 발생: {e}\")\n",
    "        \n",
    "        \n",
    "@app.event(\"message\")\n",
    "def handle_message_events(event, logger, say):\n",
    "    pass\n",
    "\n",
    "# 에러 핸들러\n",
    "@app.error\n",
    "def custom_error_handler(error, body, logger):\n",
    "    logger.info(f\"에러 발생: {error}\")"
   ]
  },
  {
   "cell_type": "code",
   "execution_count": null,
   "metadata": {},
   "outputs": [
    {
     "name": "stderr",
     "output_type": "stream",
     "text": [
      "INFO:915965383.py:handle_file_shared:새로운 이미지가 공유되었습니다. 파일 ID: F089LNPHDJ5\n"
     ]
    },
    {
     "name": "stdout",
     "output_type": "stream",
     "text": [
      "이벤트 수신: file_shared\n",
      "이벤트 수신: file_shared\n",
      "파일 '/Users/kionkim/Documents/projects/learnus/notebook/../image/IMG_9382.jpg'을 성공적으로 다운로드했습니다.\n",
      "\n",
      "\n",
      "\u001b[1m> Entering new SequentialChain chain...\u001b[0m\n"
     ]
    },
    {
     "name": "stderr",
     "output_type": "stream",
     "text": [
      "INFO:httpx:HTTP Request: POST https://api.openai.com/v1/chat/completions \"HTTP/1.1 200 OK\"\n",
      "INFO:googleapiclient.discovery_cache:file_cache is only supported with oauth2client<4.0.0\n"
     ]
    },
    {
     "name": "stdout",
     "output_type": "stream",
     "text": [
      "raw_response = {'상호명': '복성각 서울역점(연세빌딩)', '날짜': '2025-01-09', '항목': [{'이름': '판매 금액', '가격': 170005}, {'이름': '부가세액', '가격': 16995}], '총액': 187000}\n",
      "business_name =  복성각 서울역점(연세빌딩)\n",
      "item =  판매 금액,부가세액\n",
      "query =  복성각 서울역점(연세빌딩),판매 금액,부가세액\n"
     ]
    },
    {
     "name": "stderr",
     "output_type": "stream",
     "text": [
      "INFO:httpx:HTTP Request: POST https://api.openai.com/v1/chat/completions \"HTTP/1.1 200 OK\"\n",
      "INFO:915965383.py:handle_file_shared:\n",
      "최종 결과:\n",
      "INFO:915965383.py:handle_file_shared:식당\n"
     ]
    },
    {
     "name": "stdout",
     "output_type": "stream",
     "text": [
      "\n",
      "\u001b[1m> Finished chain.\u001b[0m\n"
     ]
    },
    {
     "name": "stderr",
     "output_type": "stream",
     "text": [
      "INFO:httpx:HTTP Request: POST https://api.notion.com/v1/pages \"HTTP/1.1 200 OK\"\n"
     ]
    },
    {
     "name": "stdout",
     "output_type": "stream",
     "text": [
      "데이터가 성공적으로 Notion에 저장되었습니다: 17f7f429-5f56-81f0-995a-d0cc16420d3f\n"
     ]
    }
   ],
   "source": [
    "handler = SocketModeHandler(app, SLACK_APP_TOKEN)\n",
    "handler.start()"
   ]
  },
  {
   "cell_type": "code",
   "execution_count": null,
   "metadata": {},
   "outputs": [],
   "source": []
  }
 ],
 "metadata": {
  "kernelspec": {
   "display_name": "receipt",
   "language": "python",
   "name": "python3"
  },
  "language_info": {
   "codemirror_mode": {
    "name": "ipython",
    "version": 3
   },
   "file_extension": ".py",
   "mimetype": "text/x-python",
   "name": "python",
   "nbconvert_exporter": "python",
   "pygments_lexer": "ipython3",
   "version": "3.9.20"
  }
 },
 "nbformat": 4,
 "nbformat_minor": 2
}
