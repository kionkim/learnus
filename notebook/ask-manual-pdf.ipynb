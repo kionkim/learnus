{
 "cells": [
  {
   "cell_type": "code",
   "execution_count": 10,
   "metadata": {},
   "outputs": [],
   "source": [
    "import os, openai, pdfplumber, pprint\n",
    "from langchain_community.document_loaders import PyPDFLoader\n",
    "from langchain.text_splitter import RecursiveCharacterTextSplitter, CharacterTextSplitter\n",
    "from langchain.embeddings.openai import OpenAIEmbeddings\n",
    "from langchain.vectorstores import FAISS\n",
    "from langchain.chains import RetrievalQA\n",
    "from langchain.chat_models import ChatOpenAI\n",
    "from itertools import chain\n",
    "from dotenv import load_dotenv"
   ]
  },
  {
   "cell_type": "code",
   "execution_count": 4,
   "metadata": {},
   "outputs": [],
   "source": [
    "load_dotenv('../.env')\n",
    "openai.api_key = os.getenv(\"CHATGPT-RECEIPT\")"
   ]
  },
  {
   "cell_type": "code",
   "execution_count": 15,
   "metadata": {},
   "outputs": [],
   "source": [
    "# def load_and_split_pdf(pdf_path):\n",
    "#     pdf_loader = PyPDFLoader(pdf_path)\n",
    "#     pdf_text = pdf_loader.load()\n",
    "#     splitter = RecursiveCharacterTextSplitter(chunk_size=1000, chunk_overlap=100)\n",
    "#     return splitter.split_documents(pdf_text)\n",
    "\n",
    "def extract_text_with_pdfplumber(pdf_path):\n",
    "    \"\"\"\n",
    "    PDF 파일에서 텍스트를 추출합니다 (pdfplumber 사용).\n",
    "    Args:\n",
    "        pdf_path (str): PDF 파일 경로.\n",
    "    Returns:\n",
    "        str: PDF에서 추출한 텍스트.\n",
    "    \"\"\"\n",
    "    try:\n",
    "        with pdfplumber.open(pdf_path) as pdf:\n",
    "            text = \"\"\n",
    "            for page in pdf.pages:\n",
    "                text += page.extract_text()\n",
    "        return text\n",
    "    except Exception as e:\n",
    "        print(f\"PDF 텍스트 추출 중 오류 발생: {e}\")\n",
    "        return \"\"\n",
    "\n",
    "\n",
    "def chunk_text(text, chunk_size=1000, chunk_overlap=100):\n",
    "    \"\"\"\n",
    "    긴 텍스트를 청크로 나눕니다.\n",
    "    Args:\n",
    "        text (str): 입력 텍스트.\n",
    "        chunk_size (int): 각 청크의 최대 길이.\n",
    "        chunk_overlap (int): 청크 간의 겹치는 부분 길이.\n",
    "    Returns:\n",
    "        list: 청크 리스트.\n",
    "    \"\"\"\n",
    "    splitter = RecursiveCharacterTextSplitter(chunk_size=chunk_size, chunk_overlap=chunk_overlap)\n",
    "    chunks = splitter.split_text(text)\n",
    "    return chunks\n",
    "\n",
    "\n",
    "def embed_and_store(chunks, vectorstore_path=\"faiss_index\"):\n",
    "    \"\"\"\n",
    "    텍스트 청크를 벡터화하고 FAISS에 저장합니다.\n",
    "    Args:\n",
    "        chunks (list): 텍스트 청크 리스트.\n",
    "        vectorstore_path (str): FAISS 저장소 경로.\n",
    "    Returns:\n",
    "        FAISS: 생성된 벡터 저장소.\n",
    "    \"\"\"\n",
    "    try:\n",
    "        embeddings = OpenAIEmbeddings(openai_api_key=openai.api_key)\n",
    "        vectorstore = FAISS.from_texts(chunks, embeddings)\n",
    "        vectorstore.save_local(vectorstore_path)\n",
    "        print(f\"FAISS 저장소가 '{vectorstore_path}'에 저장되었습니다.\")\n",
    "        return vectorstore\n",
    "    except Exception as e:\n",
    "        print(f\"임베딩 또는 FAISS 저장 중 오류 발생: {e}\")\n",
    "        return None\n",
    "\n",
    "\n",
    "def build_retrieval_qa(vectorstore):\n",
    "    '''ArithmeticError\n",
    "    벡터 저장소를 사용하여 검색 기반 질의 응답 모델을 생성합니다.\n",
    "    Args:\n",
    "        vectorstore (FAISS): 벡터 저장소 객체\n",
    "    Returns:\n",
    "        RetrievalQA: 검색 기반 질의 응답 모델 객체\n",
    "    '''\n",
    "    retriever = vectorstore.as_retriever()\n",
    "    qa_chain = RetrievalQA.from_chain_type(\n",
    "        llm = ChatOpenAI(model = 'gpt-4', openai_api_key = openai.api_key),\n",
    "        retriever = retriever,\n",
    "        return_source_documents = True\n",
    "    )\n",
    "    return qa_chain\n"
   ]
  },
  {
   "cell_type": "markdown",
   "metadata": {},
   "source": [
    "#### 예제"
   ]
  },
  {
   "cell_type": "markdown",
   "metadata": {},
   "source": [
    "#### FAISS Vector DB\n",
    "* 너무 시간이 오래 걸림\n",
    "* 메모리도 너무 많이 차지함"
   ]
  },
  {
   "cell_type": "code",
   "execution_count": 31,
   "metadata": {},
   "outputs": [],
   "source": [
    "pdf_path = [\"grant_guideline.pdf\", \"grant_usecase.pdf\", \"r-d-innovation.pdf\"]\n",
    "pdf_text = [extract_text_with_pdfplumber(f'../pdf/{x}') for x in pdf_path]\n",
    "chunks = list(chain.from_iterable(pdf_text))\n",
    "print(f\"총 {len(chunks)}개의 청크로 나누었습니다.\")\n",
    "len(chunks)\n",
    "# 텍스트 청크를 임베딩하고 FAISS 저장소에 저장\n",
    "vectorstore = embed_and_store(chunks, vectorstore_path=\"faiss_index\")"
   ]
  },
  {
   "cell_type": "markdown",
   "metadata": {},
   "source": [
    "##### GPT없이 similarity만으로 검색"
   ]
  },
  {
   "cell_type": "code",
   "execution_count": 8,
   "metadata": {},
   "outputs": [],
   "source": [
    "def load_vectorstore(vectorstore_path=\"faiss_index\"):\n",
    "    \"\"\"\n",
    "    로컬 FAISS 저장소를 로드합니다.\n",
    "    Args:\n",
    "        vectorstore_path (str): FAISS 저장소 경로.\n",
    "    Returns:\n",
    "        FAISS: 로드된 벡터 저장소.\n",
    "    \"\"\"\n",
    "    try:\n",
    "        return FAISS.load_local(vectorstore_path, OpenAIEmbeddings(openai_api_key=openai.api_key))\n",
    "    except Exception as e:\n",
    "        print(f\"FAISS 저장소 로드 중 오류 발생: {e}\")\n",
    "        return None\n",
    "\n",
    "\n",
    "def query_vectorstore(query, vectorstore):\n",
    "    \"\"\"\n",
    "    FAISS 저장소를 쿼리하고 관련 텍스트를 검색합니다.\n",
    "    Args:\n",
    "        query (str): 사용자 질문.\n",
    "        vectorstore (FAISS): 벡터 저장소.\n",
    "    Returns:\n",
    "        list: 검색된 텍스트 결과.\n",
    "    \"\"\"\n",
    "    try:\n",
    "        retriever = vectorstore.as_retriever()\n",
    "        results = retriever.get_relevant_documents(query)\n",
    "        return [result.page_content for result in results]\n",
    "    except Exception as e:\n",
    "        print(f\"검색 중 오류 발생: {e}\")\n",
    "        return []"
   ]
  },
  {
   "cell_type": "code",
   "execution_count": 9,
   "metadata": {},
   "outputs": [
    {
     "name": "stderr",
     "output_type": "stream",
     "text": [
      "/var/folders/39/jrqp49_54fj1tl_h3pjv45780000gn/T/ipykernel_90963/4274326300.py:27: LangChainDeprecationWarning: The method `BaseRetriever.get_relevant_documents` was deprecated in langchain-core 0.1.46 and will be removed in 1.0. Use :meth:`~invoke` instead.\n",
      "  results = retriever.get_relevant_documents(query)\n"
     ]
    },
    {
     "name": "stdout",
     "output_type": "stream",
     "text": [
      "\n",
      "검색 결과:\n",
      "1: 사무용기기 및 사무용 ㆍ최종(단계)종료 2개월 전까지\n",
      "➡ ㆍ최종(단계)종료 전까지\n",
      "소프트웨어 구입기한 (개인용PC는 비영리기관만 허용)\n",
      "Q30. 실험실 책상 수리비?\n",
      "실험실 내 학생의 책상 수리를 진행하고자 합니다. 연구실운영비(연구환경유지비)로 집행하면 될 지 확인을\n",
      "부탁드립니다.\n",
      "A. 가능합니다. 단, 자체규정을 확인해야 합니다.\n",
      "정부연구개발비(직접비)는 수행연구과제와 직접적인 관련이 있고 연구목적 달성에 필요한 경우 사용합니다.\n",
      "문의하신 실험실 책상 수리가 이에 부합하는지 검토할 필요가 있습니다. 국가연구개발사업 연구개발비 사용기준\n",
      "제25조(연구활동비 공통 사용기준) ⑩항에 따르면 연구실운영비는 연구개발기관 자체규정에 따라 사용하여야\n",
      "합니다. 따라서 문의내용은 관련 내용을 종합적으로 검토하여 판단해야 할 것으로 사료됩니다.\n",
      "Q31. 연구근접지원인력 출장비 사용?\n",
      "수행연구과제의 연구행정을 맡고 있는 연구근접지원인력에 대한 출장비 사용이 가능한가요?\n",
      "A. 가능합니다.\n",
      "종전에는 연구지원인력에 대해 출장비 등 연구활동비 사용비 불가했으나, 혁신법에서는 연구과제와의 직접적인\n",
      "관련이 있는 경우 연구활동비(출장비 등) 사용이 가능합니다.\n",
      "53정부연구개발비 사용 Q&A 사례집\n",
      "Q32. 내부참석자만의 회의비 처리?\n",
      "인문사회분야 학술지원사업에서 내부 소속 인력만 참석하는 회의비(식비) 사용이 가능한가요?\n",
      "A. 불가합니다.\n",
      "국가연구개발혁신법에서 수행하는 연구개발과제는 해당 연구개발기관에 소속된 자만 참여하는 회의에 대하여는\n",
      "회의비 중 식비를 사용할 수 없습니다. 해당 연구개발기관이 아닌 다른 곳에 소속된 자가 1인 이상 참석해야\n",
      "합니다(국가연구개발사업연구개발비 사용기준 제25조(연구활동비 공통 사용기준).\n",
      "<국가연구개발사업 연구개발비 사용 기준 제25조(연구활동비 공통 사용기준)\n",
      "③ 연구개발기관의 장은 해당 연구개발기관에 소속된 자만 참여하는 회의에 대하여는 회의비 중 식비를 계상하여서는\n",
      "아니 된다. 다만, 정부출연기관의 기본사업에 대해서는 계상할 수 있다.\n",
      "2: 현물로 계상 가능한 부분인지요? 2. 연구과제 협약 시작 후에 구입한 비용에 대해서 현물로 계상 가능한\n",
      "부분인지요? 3. 다른 연구과제로 집행하여 구입한 연구재료비 비용도 현물로 중복 계상이 가능한지요?\n",
      "A. 현물 계상은 가능하나, 중복 계상은 불가합니다.\n",
      "국가연구개발사업 연구개발비 사용 기준 제24조(연구재료비 공통 사용기준)에 따를 때 연구개발기관의 장은\n",
      "연구개발기관이 보유 또는 생산하여 자산으로 등록하는 시험제품․시험설비에 대하여는 자산등록가로 계상하여야\n",
      "합니다. 연구과제 협약 시작 전에 구입한 비용, 협약 시작 후에 구입한 비용은 현물 계상이 가능하나, 다른\n",
      "연구과제로 집행하여 구입한 연구재료는 현물로 중복 계상이 불가한 것으로 사료됩니다. 가령 A과제에서 구입한\n",
      "재료는 A과제를 위해 사용되어야 하는데, B과제의 현물로 계상하면 A과제가 문제가 될 수 있습니다.\n",
      "702. 정부연구개발비 사용 Q&A 사례\n",
      "참고\n",
      "<국가연구개발사업 연구개발비 사용기준> 제24조(연구재료비 공통 사용기준) 제21조제1항에도 불구하고 연구개발기관의\n",
      "장은 연구개발기관이 보유 또는 생산하여 자산으로 등록하는 시험제품·시험설비에 대하여는 자산등록가로 계상하여야\n",
      "한다.\n",
      "555 연구활동비\n",
      "Q61. 학회장 겸직인 연구책임자의 학회출장비?\n",
      "연구책임자인 대학 교수님이 학회장을 겸직하고 있을 경우 연구책임자 및 소속 연구원, 학생들의 학회 등록비,\n",
      "학회 출장비 등이 지급 가능한지요?\n",
      "A. 참여연구원인 경우 가능하나, 중복 집행은 불가합니다.\n",
      "정부연구개발비는 수행연구과제와 관련이 있고(직접비), 연구목적 달성에 필요한 경우, 참여연구원인 경우\n",
      "사용합니다. 연구책임자가 학회장이라면 학회 임원으로서 학회 참석 등에 대한 비용 지급이 학회에서 지급되는지\n",
      "확인해야 하며, 연구개발비와 중복 지급 되지 않도록 주의해야 합니다. 연구책임자 소속 연구원, 학생들의 등록비,\n",
      "학회 출장비를 지급하기 위해서는 수행연구과제의 참여연구원이며, 수행연구과제와 직접적인 관련이 있고,\n",
      "3: 시행령 별표2(연구개발비 사용용도)에 따르면 연구시설․장비비는 연구시설․장비의 운영․유지비가 포함되므로\n",
      "문의하신 연구장비의 소규모 보수비용은 연구시설․장비비에서 사용할 수 있습니다.\n",
      "Q58. 연구과제 종료 후 연구장비 철거 가능?\n",
      "연구과제 종료 이후 연구장비의 철거까지 연구계획으로 되어 있는 경우 연구과제 종료 이후 철거되는 건에\n",
      "대하여 연구 과제 종료 전에 연구시설·장비비로 사용할 수 있나요?\n",
      "A. 지출원인행위가 있다면 가능합니다.\n",
      "정부연구개발비는 연구개발기간 종료일 이전에 사용하여야 하지만 연구개발기간 종료일 이전에 지출원인행위한\n",
      "금액은 연구개발비 사용실적 보고일까지 사용할 수 있습니다(국가연구개발사업 연구개발비사용 기준 제22조\n",
      "(연구개발비 공통 인정기준 ④항). 이에 따라 문의하신 장비 철거에 필요한 비용은 연구개발 종료일 이전에\n",
      "지출원인행위가 있다면 집행이 가능합니다.\n",
      "682. 정부연구개발비 사용 Q&A 사례\n",
      "참고\n",
      "<국가연구개발사업 연구개발비 사용 기준> 제39조(정부출연기관 인건비 사용기준)\n",
      "제22조(연구개발비 공통 인정기준) ① 연구개발기관의 장은 연구개발비를 계상한 바에 따라 사용하여야 한다.\n",
      "② 연구개발기관의 장은 연구개발비 사용(재난, 재해, 그 밖에 경제적·사회적으로 중대한 사유 발생에 따라 물품 및\n",
      "서비스를 위한 계약이 취소·변경되어 수수료 등 부대비용이 발생하여 사용한 것을 포함한다)을 입증할 증명자료를\n",
      "갖추어야 한다.\n",
      "③ 연구개발기관의 장은 연구시설·장비와 연구재료(연구활동비 또는 간접비로 구매하는 경우를 포함한다. 이하 이 조에서\n",
      "같다)를 구매하는 경우 자체규정에 따라 구매·검수하여야 한다.\n",
      "④ 연구개발기관의 장은 연구개발비를 연구개발기간 종료일 이전에 사용하여야 한다. 다만, 다음 각 호의 어느 하나에\n",
      "해당하는 비용에 대하여는 영 제26조제1항에 따른 연구개발비 사용실적 보고일까지 사용할 수 있다.\n",
      "1. 보고서 발간 및 평가 관련 비용, 정산 수수료, 공공요금, 제세공과금\n",
      "2. 연구수당\n",
      "4: - 건당 3천만원 이상의 장비 구매취소 - <좌동>\n",
      "- <신설> - 연구시설장비 구축목적으로 하는 연구과\n",
      "제로 구축된 연구시설장비를 원래계획에\n",
      "따른 공간 외 장소에 설치운영\n",
      "∙직접비를 다음연도 이월(다년도 협약과제 ∙다음단계로 직접비(현물제외) 이월(단계내\n",
      "제외) 자동이월)\n",
      "∙영리기관이 현금 계상 인건비 변경\n",
      "281. 정부지원 연구개발비의 올바른 사용을 위한 권고사항\n",
      "구분 종전 혁신법\n",
      "∙신규 채용 중소기업 소속 연구자 변경 ∙위탁연구개발비를 원래계획보다 20% 증액\n",
      "∙위탁연구개발비를 원래계획보다 20% 증액\n",
      "<공동관리규정 제12조의2 제1항> ∙전체(단계)별 간접비 총액 증액 시\n",
      "∙차년도 직접비를 당해연도에 사전집행하기\n",
      "위한 간접비 비율 조정사항\n",
      "<처리규정 제18조제3항>\n",
      "∙15일 내 통보\n",
      "사전승인 통보기한 ∙별도 통보기한 없음 (기한 연장가능하나, 연장시 연구개발기관에\n",
      "사전 통보)\n",
      "∙인건비의 20% 증액\n",
      "전문기관 보고사항 <삭제>\n",
      "∙참여연구자 변경(연구개발정보관리)\n",
      "∙경미한 사항(통보만으로 협약변경)\n",
      "* 연구자변경, 연구개발비 사용계획 변경 등\n",
      "통보사항 ∙별도 없음\n",
      "* 통합정보시스템에 변경된 내용 반영\n",
      "<시행령 제43조제3항>\n",
      "11. 연구개발비 정산 및 회수 절차\n",
      "구분 종전 혁신법\n",
      "∙법 제13조제3항에 따른 사용용도와 법 제13조\n",
      "정산정의 ∙별도없음 제4항에 따른 사용 기준에 부합하게 사용\n",
      "되었는지를 확인하는 행위\n",
      "∙단계정산\n",
      "(단계구분 없으면 총연구기간 정산)\n",
      "∙연차별 정산\n",
      "정산주기 - (연차) 사용내역 연구비통합관리시스템\n",
      "(연차별 사용실적보고서 제출)\n",
      "입력\n",
      "- (단계(최종)) 사용실적보고서 제출\n",
      "∙사용실적보고서, 자체회계감사의견서, ∙<좌동>\n",
      "정산 제출서류 현물부담확인서\n",
      "∙<신설> ∙연구개발기관 자체규정\n",
      "∙모든 과제 정산\n",
      "- 단, 정부출연기관 기본사업, 연구지원체계\n",
      "∙일부 과제 추출정산(5% 이상)\n",
      "정산대상 평가 우수기관, 자체정산 역량 보유기관에\n",
      "- 연구지원체계평가 최우수기관 제외\n",
      "대해서는 사용실적보고서 및 자체 회계\n",
      "감사 의견서 제출로 정산 대체 가능\n"
     ]
    }
   ],
   "source": [
    "query = \"연구비로 가구 구매가 가능해?\"\n",
    "results = query_vectorstore(query, vectorstore)\n",
    "print(\"\\n검색 결과:\")\n",
    "for idx, result in enumerate(results):\n",
    "    print(f\"{idx + 1}: {result}\")"
   ]
  },
  {
   "cell_type": "markdown",
   "metadata": {},
   "source": [
    "##### GPT를 활용한 응답"
   ]
  },
  {
   "cell_type": "code",
   "execution_count": 13,
   "metadata": {},
   "outputs": [
    {
     "name": "stderr",
     "output_type": "stream",
     "text": [
      "/var/folders/39/jrqp49_54fj1tl_h3pjv45780000gn/T/ipykernel_90963/2522637370.py:71: LangChainDeprecationWarning: The class `ChatOpenAI` was deprecated in LangChain 0.0.10 and will be removed in 1.0. An updated version of the class exists in the :class:`~langchain-openai package and should be used instead. To use it run `pip install -U :class:`~langchain-openai` and import as `from :class:`~langchain_openai import ChatOpenAI``.\n",
      "  llm = ChatOpenAI(model = 'gpt-4', openai_api_key = openai.api_key),\n"
     ]
    }
   ],
   "source": [
    "qa_system = build_retrieval_qa(vectorstore)"
   ]
  },
  {
   "cell_type": "code",
   "execution_count": 24,
   "metadata": {},
   "outputs": [
    {
     "name": "stdout",
     "output_type": "stream",
     "text": [
      "검색 결과:{'query': '국가연구개발혁신법 24조 내용을 말해줘.', 'result': '죄송합니다, 제공된 정보 내에 국가연구개발혁신법 제24조의 구체적인 내용이 들어있지 않습니다. 해당 법률의 내용은 관련 법률 자료를 통해 확인하실 수 있습니다.', 'source_documents': [Document(id='eeb7f33c-861b-4a2a-b067-adfa4fd6a5e8', metadata={}, page_content='관련 국가연구개발혁신법 시행령 제24조(연구개발비의 관리), 국가연구개발사업 연구개발비 사용 기준 제22조\\n법규 (연구개발비 공통 인정기준) ⑤항\\n⑧ 연구개발비는 객관적인 증명서류(전자증빙 등)를 구비하여 집행한다.\\n- (증명자료) 결의서, 영수증서(카드매출전표, 계좌이체 확인서, 세금계산서 등) 등\\n- 증명자료는 연구개발기간(단계) 종료 후 5년동안 보관해야 하며, 「전자문서 및 전자거래\\n기본법」등에 따른 전자문서, 전자화문서로 보관가능(다만, 다른 법령에 특별한 규정이 있는\\n경우에는 그 법령의 해당 규정에 따름)\\n- (연구개발비 사용내역 입력) 연구개발비통합정보시스템(www.gaia.go.kr)에 등록\\n관련 국가연구개발혁신법 제24조(연구개발비의 관리), 국가연구개발사업 연구개발비 사용 기준 제22조(연구개발비\\n법규 공통 인정기준) ②항 및 제72조(연구개발비 사용 증명자료의 보관)\\n5정부연구개발비 사용 Q&A 사례집\\n이해충돌 회피\\n⑨ 연구개발과제의 인건비와 연구수당은 참여연구자별 인건비 계상률과\\n기여도에 따라 합리적이고 공정하게 지급하여야 한다.\\n- 인건비나 연구수당 지급액과 관련된 당사자들 간에 갈등이 발생하지 않도록 당초 연구개발\\n계획에 따라 연구를 수행하되, 계획 변경이 필요한 경우는 이해 당사자들에게 변경사항을\\n문서를 통해 알려야 한다.\\n관련 국가연구개발사업 연구개발비 사용 기준 제26조(연구수당 공통 사용기준) ④항\\n법규\\n➉ 연구개발비 집행은 공무(公務)이므로 사무(私務)와 명확히 구분한다.\\n- 부득이 공무(公務)와 사무(私務)가 중복되는 경우에는 명확한 근거에 따라 관련 비용을\\n분리하여 집행해야 한다.\\n관련 국가연구개발혁신법 제2조(정의) 1. 국가연구개발사업\\n법규\\n4. 대학 등 연구개발기관이 지켜야 할 사항\\nㅇ 대학 등 연구개발기관은 소속 연구자들이 본 권고사항을 명확히 숙지하고\\n연구개발비를 사용하도록 안내해야 합니다.\\n- 대학 등 연구개발기관은 필요 시 본 권고기준에 근거한 관련 규정을 마련하여 시행할 수\\n있습니다.'), Document(id='88162520-b451-4425-a313-837baa4a052e', metadata={}, page_content='’21. 1월 국가연구개발혁신법에 따른 제재처분 제도의 대대적 개편\\n(시효도입, 연구자권익보호위원회 신설 등)\\n- (국가연구개발혁신법(이하, ‘혁신법’)\\n11국가연구개발사업 제재처분 가이드라인[절차편]\\n제3절 주요용어\\n1. 국가연구개발사업 및 연구개발과제\\n국가연구개발사업이란 중앙행정기관이 법령에 근거하여 연구개발을 위하여 예산 또는 기금으로 지원\\n하는 사업임(혁신법 제2조 제1호)\\n연구개발과제란 국가연구개발사업을 추진하기 위하여 선정평가 등 관련 절차를 통해 소관 중앙행정\\n기관의 장이 선정하는 과제를 의미함(혁신법 제2조 제2호)\\n2. 참여제한\\n제재사유에 귀책사유가 있는 연구개발기관, 연구책임자, 연구자, 연구지원인력 또는 연구개발기관\\n소속 임직원에 대하여 사안의 경중을 고려하여 10년 이내의 범위에서 국가연구개발활동(연구지원은\\n제외)에 대한 참여를 제한하는 행정처분(혁신법 제32조 제1항)\\n3. 제재부가금\\n제재사유에 귀책사유가 있는 연구개발기관, 연구책임자, 연구자, 연구지원인력 또는 연구개발기관\\n소속 임직원에 대하여 사안의 경중을 고려하여 이미 지급한 정부 연구개발비의 5배의 범위에서\\n부과되는 금액(혁신법 제32조 제1항)\\n4. 회수\\n연구개발과제의 각 단계가 종료된 날부터 3개월 이내 실시되는 정산 결과 아래와 같은 금액을\\n회수하는 것(혁신법 제13조 제7항, 시행령 제26조 제5항 각호)\\n1. 직접비 사용 잔액(제20조제4항제1호 또는 제2호에 따른 사용 기준이 적용되는 학생인건비 또는\\n연구시설･장비비는 제외한다)\\n2. 제2항에 따른 정산 결과 사용용도와 사용기준을 위반하여 연구개발기관이 연구개발비를 사용한\\n경우에는 위반하여 사용한 연구개발비 전액\\n3. 직접비 집행비율이 100분의 50 이하인 연구개발과제의 간접비 집행비율이 직접비 집행비율을\\n초과한 경우에는 다음 계산식에 따라 계산한 금액\\n간접비 총액 × (간접비 집행비율 – 직접비 집행비율)\\n4. 법 제11조제4항에 따라 연구개발과제협약이 해약된 경우에는 간접비 사용 잔액'), Document(id='e6614ef5-ca0e-40ba-9c6b-af9da1138ed9', metadata={}, page_content='5. 보안대책 위반 (혁신법 제31조 제1항 제4호)····························································60\\n6. 보안사항 국내유출 (혁신법 제31조 제1항 제4호)·····················································62\\n7. 보안사항 국외유출 (혁신법 제31조 제1항 제4호)·····················································64\\n8. 거짓 또는 부정한 방법으로 연구개발과제 신청 또는 수행\\n(혁신법 제31조 제1항 제5호)·····················································································66\\n9. 그 밖에 연구개발활동의 건전성 저해행위 (혁신법 제31조 제1항 제6호)················68\\n10. 연구개발과제의 수행 포기 (혁신법 제32조 제1항 제4호)······································70\\n11. 기술료 또는 수익 미납 (혁신법 제32조 제1항 제5호)···········································72\\n12. 연구개발비 회수 금액 미납 (혁신법 제32조 제1항 제6호)····································73\\n13. 연구개발비의 사용용도 및 사용기준 위반 (혁신법 제31조 제1항 제2호)·············74국가연구개발사업 제재처분\\n가이드라인\\n절 차 편제1장 제제재도 개요\\n제1장 제재제도 개요\\n제1절 법적 근거\\n1. 국가연구개발혁신법 (이하 ‘법’)\\n중앙행정기관의 장은 제재처분 사유(제32조 제1항 각호)에 해당하는 경우 해당 연구개발기관, 연구\\n책임자, 연구자, 연구지원인력 또는 연구개발기관 소속 임직원에 대하여 10년 이내의 범위에서 국가'), Document(id='1c10e667-82e2-4f9d-ba90-656d9a413ed7', metadata={}, page_content='행위”라 한다) 제보자에 대한 같은 조 제2항 및\\n제3항에 따른 검증･조치 및 조사의 공정성･객관\\n성을 해치는 다음 각 목의 행위\\n가. 신분상의 불이익 조치\\n나. 위협･협박\\n6. 그 밖에 국가연구개발활동의 건전성을 저해하는\\n2. 연구개발비 사용의 건전성을 해치는 다음 각\\n행위로서 대통령령으로 정하는 행위\\n목의 행위\\n가. 제24조제3항에 따른 증명자료의 위조･변조\\n나. 제25조제1항에 따른 사용내역의 거짓보고\\n3. 「생명윤리 및 안전에 관한 법률」 제64조부터\\n제68조까지의 규정에 해당하는 행위\\n4. 「연구실 안전환경 조성에 관한 법률」 제43조에\\n해당하는 행위\\n15국가연구개발사업 제재처분 가이드라인[절차편]\\n제4절 혁신법에 따른 제재처분 주요내용\\n1. 기본사업에도 제재처분의 효력 미침\\n혁신법 제3조(적용범위)에서 ‘제4장 국가연구개발사업 관련 연구윤리 확보 및 제재처분\\n(31조~35조)’을 예외로 두고 있지 않아 출연연 기본사업 등에도 참여제한 등 제재처분 효력이 미침\\n법 제3조(적용 범위) 다음 각 호의 어느 하나에 해당하는 국가연구개발사업에 관하여는 제9조부터\\n제18조까지의 규정*을 적용하지 아니한다.\\n1. 중앙행정기관(그 소속 기관을 포함한다)이 소관 업무를 위하여 직접 수행하는 사업\\n2. 정부가 국제기구, 외국의 정부･기관･단체와 체결한 협정･조약 등에 따라 정해진 금액을 납부하여\\n추진하는 사업\\n3. 제21조제2항에 따른 보안과제로 구성된 국방 분야의 사업\\n4. 정책의 개발 또는 주요 정책현안에 대한 조사･연구 등을 목적으로 추진되는 사업\\n5. 전문기관의 업무 대행 및 제38조에 따라 위탁한 업무 수행에 필요한 비용을 지원하는 사업\\n* 제9조(예고 및 공모 등), 제10조(연구개발과제 및 수행 연구개발기관의 선정), 제11조(연구개발과제 협약 등),\\n제12조(연구개발과제의 수행 및 관리), 제13조(연구개발비의 지급 및 사용 등), 제14조(연구개발과제의')]}\n"
     ]
    }
   ],
   "source": [
    "query = \"국가연구개발혁신법 24조 내용을 말해줘.\"\n",
    "results = qa_system({\"query\": query})\n",
    "print(f\"검색 결과:{results}\")"
   ]
  },
  {
   "cell_type": "code",
   "execution_count": 25,
   "metadata": {},
   "outputs": [
    {
     "name": "stdout",
     "output_type": "stream",
     "text": [
      "('죄송합니다, 제공된 정보 내에 국가연구개발혁신법 제24조의 구체적인 내용이 들어있지 않습니다. 해당 법률의 내용은 관련 법률 자료를 통해 '\n",
      " '확인하실 수 있습니다.')\n"
     ]
    }
   ],
   "source": [
    "pprint.pprint(results['result'])"
   ]
  },
  {
   "cell_type": "markdown",
   "metadata": {},
   "source": [
    "#### GPT Assistant를 사용"
   ]
  },
  {
   "cell_type": "code",
   "execution_count": 7,
   "metadata": {},
   "outputs": [],
   "source": [
    "loader= PyPDFLoader(\"../pdf/KLM Quantum-textbook.pdf\")\n",
    "documents = loader.load()\n",
    "text_splitter = CharacterTextSplitter(chunk_size=1000, chunk_overlap=200)\n",
    "texts = text_splitter.split_documents(documents)\n",
    "embeddings = OpenAIEmbeddings(openai_api_key=openai.api_key)\n",
    "vector_store = FAISS.from_documents(texts, embeddings)"
   ]
  },
  {
   "cell_type": "code",
   "execution_count": null,
   "metadata": {},
   "outputs": [],
   "source": [
    "pdf_text = extract_text_with_pdfplumber('../pdf/r-d-innovation.pdf')\n",
    "texts = chunk_text(pdf_text)\n",
    "embeddings = OpenAIEmbeddings(openai_api_key=openai.api_key)\n",
    "vector_store = FAISS.from_texts(texts, embeddings)"
   ]
  },
  {
   "cell_type": "code",
   "execution_count": 49,
   "metadata": {},
   "outputs": [],
   "source": [
    "# Vector Store에서 검색\n",
    "def search_documents(query):\n",
    "    retriever = vector_store.as_retriever()\n",
    "    docs = retriever.get_relevant_documents(query, k = 4)\n",
    "    return docs\n",
    "\n",
    "# Assistant + Vector Store    \n",
    "def call_assistant_with_docs(user_input):\n",
    "    # 파일 검색 결과 가져오기\n",
    "    relevant_docs = search_documents(user_input)\n",
    "    relevant_texts = \"\\n\\n\".join([doc.page_content for doc in relevant_docs])\n",
    "    print(f\"검색 결과: {len(relevant_docs)}개의 문서에서 발견됨.\")\n",
    "    # print(f'relevant_texts: {relevant_texts}')\n",
    "    messages = []\n",
    "    # 대화 시작 시 시스템 지침 추가 (한 번만 추가)\n",
    "    if len(messages) == 0:\n",
    "        messages.append(\n",
    "            {\n",
    "                \"role\": \"system\", \n",
    "                \"content\": \"\"\"\n",
    "                넌 국가연구개발 혁신법에 대해 잘 아는 행정 관련 전문가야.\n",
    "                만약 Q&A에 해당 내용이 있으면 이에 대해 자세하고 친절하게 답변해줘.\n",
    "                정확하다고 생각되는 답을 찾았으면, 가장 먼저 \"예\" 혹은 \"아니오\"로 답변을 시작하고, 그렇지 않으면 \"모르겠어\"라고 말해줘.\n",
    "                답한 내용의 근거를 정확하게 말해주되 문서내 검색한 내용만 답해 줘.\n",
    "                \"\"\"\n",
    "            }\n",
    "        )\n",
    "    \n",
    "    # 사용자 입력과 검색된 문서를 추가\n",
    "    messages.append({\"role\": \"user\", \"content\": user_input})\n",
    "    if relevant_texts.strip():  # 검색 결과가 있을 경우에만 추가\n",
    "        messages.append({\"role\": \"system\", \"content\": f\"다음 문서를 참고하세요:\\n{relevant_texts}\"})\n",
    "    \n",
    "    # OpenAI API 호출\n",
    "    response = openai.chat.completions.create(\n",
    "        model=\"gpt-4-1106-preview\",\n",
    "        messages=messages,\n",
    "        max_tokens=500,\n",
    "        temperature=0.7,\n",
    "    )\n",
    "    \n",
    "    # 모델 응답\n",
    "    assistant_response = response.choices[0].message.content\n",
    "    messages.append({\"role\": \"assistant\", \"content\": assistant_response})\n",
    "    return assistant_response"
   ]
  },
  {
   "cell_type": "code",
   "execution_count": 51,
   "metadata": {},
   "outputs": [
    {
     "name": "stdout",
     "output_type": "stream",
     "text": [
      "검색 결과: 4개의 문서에서 발견됨.\n"
     ]
    },
    {
     "data": {
      "text/plain": [
       "'예, 공동연구기관 변경을 하기 위해서는 다음과 같은 절차를 밟아야 합니다:\\n\\n1. 변경 사유와 내용을 중앙행정기관의 장에게 제출합니다.\\n2. 필요한 경우, 중앙행정기관의 장은 보완을 요구할 수 있습니다.\\n3. 중앙행정기관의 장은 연구개발비 사용 계획의 변경 승인 여부를 사용 계획 변경 신청 접수 후 15일 이내에 연구개발기관의 장에게 통보해야 합니다. 변경 승인 여부를 결정하기 어려운 경우 기간을 연장할 수 있으며, 연장한 기간을 연구개발기관의 장에게 통보해야 합니다.\\n4. 부처, 전문기관 및 연구개발기관은 상호간에 문서로 사전에 협의해야 합니다. 이는 협약변경 내용과 사유를 담은 공문을 발송하거나 통합정보 시스템을 통해 당사자 간 사전에 협의를 진행하는 것을 포함합니다.\\n5. 특별평가를 거쳐 연구개발과제의 목표, 연구책임자 등을 변경하거나 연구개발과제를 중단할 수 있는 경우도 있습니다.\\n\\n위 내용은 국가연구개발혁신법에 관한 문서에서 확인할 수 있습니다.'"
      ]
     },
     "execution_count": 51,
     "metadata": {},
     "output_type": "execute_result"
    }
   ],
   "source": [
    "call_assistant_with_docs(\"공동연구기관 변경을 하기 위해서는 어떤 절차를 밟아야 하나요?\")"
   ]
  },
  {
   "cell_type": "code",
   "execution_count": null,
   "metadata": {},
   "outputs": [],
   "source": [
    "'예, 공동연구기관 변경을 하기 위해서는 다음과 같은 절차를 밟아야 합니다:\\n\\n\n",
    "1. 변경 사유와 내용을 중앙행정기관의 장에게 제출합니다.\\n\n",
    "2. 필요한 경우, 중앙행정기관의 장은 보완을 요구할 수 있습니다.\\n\n",
    "3. 중앙행정기관의 장은 연구개발비 사용 계획의 변경 승인 여부를 사용 계획 변경 신청 접수 후 15일 이내에 연구개발기관의 장에게 통보해야 합니다. 변경 승인 여부를 결정하기 어려운 경우 기간을 연장할 수 있으며, 연장한 기간을 연구개발기관의 장에게 통보해야 합니다.\\n\n",
    "4. 부처, 전문기관 및 연구개발기관은 상호간에 문서로 사전에 협의해야 합니다. 이는 협약변경 내용과 사유를 담은 공문을 발송하거나 통합정보 시스템을 통해 당사자 간 사전에 협의를 진행하는 것을 포함합니다.\\n\n",
    "5. 특별평가를 거쳐 연구개발과제의 목표, 연구책임자 등을 변경하거나 연구개발과제를 중단할 수 있는 경우도 있습니다.\\n\\n\n",
    "위 내용은 국가연구개발혁신법에 관한 문서에서 확인할 수 있습니다.'"
   ]
  },
  {
   "cell_type": "code",
   "execution_count": 52,
   "metadata": {},
   "outputs": [
    {
     "name": "stdout",
     "output_type": "stream",
     "text": [
      "검색 결과: 4개의 문서에서 발견됨.\n"
     ]
    },
    {
     "data": {
      "text/plain": [
       "'예, 변경할 내용에 대해 자세한 자료 및 근거를 준비해야 하는 경우, 부처별 자체지침을 우선 적용하며, 가이드라인을 참고하여야 합니다. 특히, 국가연구개발혁신법 시행령 제31조에 따르면, 특별평가를 실시할 경우 연구개발기관 또는 연구책임자에게 특별평가 실시 시기, 사유, 소명 자료의 제출 시한 등을 통보해야 하며, 변경이나 중단을 요청할 때는 과학기술정보통신부령으로 정하는 요청서에 해당 사유를 증명하는 서류를 첨부하여 제출해야 합니다.\\n\\n협약 변경 시에는 상호간 문서를 통한 사전 협의 또는 특별평가를 명시하고 있으며, 연구개발환경의 변경 등으로 연구개발과제를 계속 수행하는 것이 불필요하다고 판단되어 특별평가를 거쳐 연구개발과제를 중단하는 경우 최종평가가 실시되어야 함을 규정하고 있습니다.\\n\\n따라서 변경할 내용에 대한 자세한 자료 및 근거 준비 시 해당 부처의 자체지침을 참조하고, 필요한 경우 특별평가 요청서 및 증명 서류를 준비해야 합니다. 양식은 부처 또는 관련 법령에 따라 정해질 수 있으므로, 구체적인 양식'"
      ]
     },
     "execution_count": 52,
     "metadata": {},
     "output_type": "execute_result"
    }
   ],
   "source": [
    "call_assistant_with_docs(\"변경할 내용에 대해 자세한 자료 및 근거는 어떤 것들을 준비해야 해? 양식이 따로 있나?\")"
   ]
  },
  {
   "cell_type": "code",
   "execution_count": 53,
   "metadata": {},
   "outputs": [
    {
     "name": "stdout",
     "output_type": "stream",
     "text": [
      "검색 결과: 4개의 문서에서 발견됨.\n"
     ]
    },
    {
     "data": {
      "text/plain": [
       "'모르겠어'"
      ]
     },
     "execution_count": 53,
     "metadata": {},
     "output_type": "execute_result"
    }
   ],
   "source": [
    "call_assistant_with_docs(\"내가 앞에서 물어본 변경이 무슨 변경이야?\")"
   ]
  },
  {
   "cell_type": "code",
   "execution_count": null,
   "metadata": {},
   "outputs": [],
   "source": []
  }
 ],
 "metadata": {
  "kernelspec": {
   "display_name": "receipt",
   "language": "python",
   "name": "python3"
  },
  "language_info": {
   "codemirror_mode": {
    "name": "ipython",
    "version": 3
   },
   "file_extension": ".py",
   "mimetype": "text/x-python",
   "name": "python",
   "nbconvert_exporter": "python",
   "pygments_lexer": "ipython3",
   "version": "3.9.20"
  }
 },
 "nbformat": 4,
 "nbformat_minor": 2
}
