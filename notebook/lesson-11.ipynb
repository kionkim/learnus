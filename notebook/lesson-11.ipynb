{
 "cells": [
  {
   "cell_type": "markdown",
   "metadata": {},
   "source": [
    "## Notion API 연결"
   ]
  },
  {
   "cell_type": "code",
   "execution_count": 1,
   "metadata": {},
   "outputs": [],
   "source": [
    "import os\n",
    "import boto3\n",
    "from dotenv import load_dotenv\n",
    "from notion_client import Client\n",
    "import urllib.parse\n",
    "\n",
    "load_dotenv('../.env')\n",
    "NOTION_DATABASE_ID = os.getenv(\"NOTION-DB\")\n",
    "NOTION_API_KEY = os.getenv(\"NOTION\")\n",
    "AWS_ACCESS_KEY = os.getenv(\"AWS-ACCESS-KEY\")\n",
    "AWS_SECRET_KEY = os.getenv(\"AWS-SECRET-KEY\")\n",
    "S3_BUCKET_NAME = os.getenv(\"S3-BUCKET-NAME\")\n",
    "S3_REGION = os.getenv(\"S3-BUCKET-REGION\")"
   ]
  },
  {
   "cell_type": "markdown",
   "metadata": {},
   "source": [
    "### 파일 업로드 함수"
   ]
  },
  {
   "cell_type": "code",
   "execution_count": 2,
   "metadata": {},
   "outputs": [],
   "source": [
    "def upload_to_s3(file_path, file_name):\n",
    "    s3_client = boto3.client(\n",
    "        \"s3\",\n",
    "        aws_access_key_id=AWS_ACCESS_KEY,\n",
    "        aws_secret_access_key=AWS_SECRET_KEY,\n",
    "        region_name=S3_REGION,\n",
    "    )\n",
    "    try:\n",
    "        encoded_file_name = urllib.parse.quote(file_name)\n",
    "        # S3에 파일 업로드\n",
    "        s3_client.upload_file(\n",
    "            file_path, \n",
    "            S3_BUCKET_NAME, \n",
    "            file_name,\n",
    "            # ExtraArgs={\"ACL\": \"public-read\"}\n",
    "        )\n",
    "        # S3 URL 생성\n",
    "        file_url = f\"https://{S3_BUCKET_NAME}.s3.{S3_REGION}.amazonaws.com/{encoded_file_name}\"\n",
    "        return file_url\n",
    "    except Exception as e:\n",
    "        print(\"S3 업로드 오류:\", e)\n",
    "        return None"
   ]
  },
  {
   "cell_type": "markdown",
   "metadata": {},
   "source": [
    "### DB 적재 함수"
   ]
  },
  {
   "cell_type": "code",
   "execution_count": 3,
   "metadata": {},
   "outputs": [],
   "source": [
    "def add_receipt_to_notion(data, file_url):\n",
    "    notion = Client(auth=NOTION_API_KEY)\n",
    "    try:\n",
    "        file_name = file_url.split(\"/\")[-1]  # URL의 마지막 부분을 파일 이름으로 사용\n",
    "        encoded_file_name = urllib.parse.quote(file_name)\n",
    "        response = notion.pages.create(\n",
    "            parent={\"database_id\": NOTION_DATABASE_ID},\n",
    "            properties={\n",
    "                \"상호명\": {\"title\": [{\"text\": {\"content\": data[\"상호명\"]}}]},\n",
    "                \"날짜\": {\"date\": {\"start\": data[\"날짜\"]}},\n",
    "                \"총액\": {\"number\": data[\"총액\"]},\n",
    "                \"영수증\": {\n",
    "                    \"files\": [\n",
    "                        {\n",
    "                            \"type\": \"external\", \n",
    "                            \"external\": {\"url\": file_url},\n",
    "                            \"name\": encoded_file_name  # 파일 이름 설정\n",
    "                        }\n",
    "                    ]\n",
    "                }\n",
    "            },\n",
    "            children=[\n",
    "                {\n",
    "                    \"object\": \"block\",\n",
    "                    \"type\": \"bulleted_list_item\",\n",
    "                    \"bulleted_list_item\": {\n",
    "                        \"rich_text\": [\n",
    "                            {\n",
    "                                \"type\": \"text\", \n",
    "                                \"text\": {\"content\": f\"{item['이름']}: {item['가격']}원\"}\n",
    "                            }\n",
    "                        ]\n",
    "                    },\n",
    "                }\n",
    "                for item in data[\"항목\"]\n",
    "            ]\n",
    "        )\n",
    "        print(\"데이터가 성공적으로 Notion에 저장되었습니다:\", response[\"id\"])\n",
    "    except Exception as e:\n",
    "        print(\"Notion 저장 오류:\", e)"
   ]
  },
  {
   "cell_type": "code",
   "execution_count": 4,
   "metadata": {},
   "outputs": [
    {
     "name": "stdout",
     "output_type": "stream",
     "text": [
      "S3 파일 URL: https://receipt-bucket-1227.s3.ap-southeast-2.amazonaws.com/air-korean.pdf\n",
      "데이터가 성공적으로 Notion에 저장되었습니다: 17d81589-428d-81db-b131-d67693140476\n"
     ]
    }
   ],
   "source": [
    "notion = Client(auth=NOTION_API_KEY)\n",
    "\n",
    "# 영수증 파일 경로\n",
    "receipt_file_path = \"../image/air-korean.pdf\"\n",
    "receipt_file_name = \"air-korean.pdf\"  # S3에 저장될 파일 이름\n",
    "# 1. S3에 파일 업로드 및 URL 생성\n",
    "s3_file_url = upload_to_s3(receipt_file_path, receipt_file_name)\n",
    "print(\"S3 파일 URL:\", s3_file_url)\n",
    "if s3_file_url:\n",
    "    # 2. ChatGPT로 추출된 영수증 데이터 (예제)\n",
    "    extracted_data = {\n",
    "        \"상호명\": \"대한항공\",\n",
    "        \"날짜\": \"2023-12-27\",\n",
    "        \"항목\": [\n",
    "            {\"이름\": \"상품1\", \"가격\": 10000},\n",
    "            {\"이름\": \"상품2\", \"가격\": 5000},\n",
    "        ],\n",
    "        \"총액\": 15000,\n",
    "    }\n",
    "    # 3. Notion 데이터베이스에 데이터 저장\n",
    "    add_receipt_to_notion(extracted_data, s3_file_url)"
   ]
  },
  {
   "cell_type": "code",
   "execution_count": null,
   "metadata": {},
   "outputs": [],
   "source": []
  }
 ],
 "metadata": {
  "kernelspec": {
   "display_name": "receipt",
   "language": "python",
   "name": "python3"
  },
  "language_info": {
   "codemirror_mode": {
    "name": "ipython",
    "version": 3
   },
   "file_extension": ".py",
   "mimetype": "text/x-python",
   "name": "python",
   "nbconvert_exporter": "python",
   "pygments_lexer": "ipython3",
   "version": "3.9.20"
  }
 },
 "nbformat": 4,
 "nbformat_minor": 2
}
