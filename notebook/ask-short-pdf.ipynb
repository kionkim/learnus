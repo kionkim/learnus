{
 "cells": [
  {
   "cell_type": "code",
   "execution_count": 1,
   "metadata": {},
   "outputs": [],
   "source": [
    "import os, re, json, base64, openai\n",
    "from dotenv import load_dotenv\n",
    "import PyPDF2"
   ]
  },
  {
   "cell_type": "code",
   "execution_count": 2,
   "metadata": {},
   "outputs": [],
   "source": [
    "load_dotenv('../.env')\n",
    "openai.api_key = os.getenv(\"CHATGPT-RECEIPT\")"
   ]
  },
  {
   "cell_type": "code",
   "execution_count": 5,
   "metadata": {},
   "outputs": [],
   "source": [
    "def extract_text_from_pdf(pdf_path):\n",
    "    try:\n",
    "        with open(pdf_path, 'rb') as pdf_file:\n",
    "            reader = PyPDF2.PdfReader(pdf_file)\n",
    "            text = ''\n",
    "            for page in reader.pages:\n",
    "                text += page.extract_text()\n",
    "        return text\n",
    "    except Exception as e:\n",
    "        print(f'PDF 텍스트 추출 중 오류 발생: {e}')\n",
    "        return ''"
   ]
  },
  {
   "cell_type": "code",
   "execution_count": 10,
   "metadata": {},
   "outputs": [],
   "source": [
    "def ask_chatpgt_with_pdf_context(pdf_text, user_question):\n",
    "    try:\n",
    "        prompt = f\"\"\"다음은 PDF 문서의 내용입니다.\n",
    "                    {pdf_text}\n",
    "                    위 내용을 참고하여 다음 질문에 답해주세요.\n",
    "                    {user_question}\n",
    "        \"\"\"\n",
    "        # OpenAI API 요청\n",
    "        response = openai.chat.completions.create(\n",
    "            model=\"gpt-4\",\n",
    "            messages = [{'role': 'user', 'content': prompt}]\n",
    "        )\n",
    "        return response.choices[0].message.content\n",
    "    except Exception as e:\n",
    "        print(f'ChatGPT 요청 중 오류 발생: {e}')\n",
    "        return ''"
   ]
  },
  {
   "cell_type": "code",
   "execution_count": 11,
   "metadata": {},
   "outputs": [
    {
     "name": "stdout",
     "output_type": "stream",
     "text": [
      "PDF에서 질문을 생성합니다.\n",
      "\n",
      "ChatGPT의 응답:\n",
      "The title is \"1규격서 (예시)\".\n"
     ]
    }
   ],
   "source": [
    "# PDF 파일 경로\n",
    "pdf_path = \"../image/구매서식_규격서(예시).pdf\"\n",
    "# PDF 텍스트 추출\n",
    "pdf_text = extract_text_from_pdf(pdf_path)\n",
    "if not pdf_text:\n",
    "    print(\"PDF에서 텍스트를 추출할 수 없습니다.\")\n",
    "    exit()\n",
    "# 사용자 질문 입력\n",
    "print(\"PDF에서 질문을 생성합니다.\")\n",
    "user_question = input(\"PDF 내용을 기반으로 물어볼 질문을 입력하세요: \")\n",
    "# ChatGPT에 질문 및 응답 출력\n",
    "answer = ask_chatpgt_with_pdf_context(pdf_text, user_question)\n",
    "print(\"\\nChatGPT의 응답:\")\n",
    "print(answer)"
   ]
  },
  {
   "cell_type": "code",
   "execution_count": null,
   "metadata": {},
   "outputs": [],
   "source": []
  }
 ],
 "metadata": {
  "kernelspec": {
   "display_name": "receipt",
   "language": "python",
   "name": "python3"
  },
  "language_info": {
   "codemirror_mode": {
    "name": "ipython",
    "version": 3
   },
   "file_extension": ".py",
   "mimetype": "text/x-python",
   "name": "python",
   "nbconvert_exporter": "python",
   "pygments_lexer": "ipython3",
   "version": "3.9.20"
  }
 },
 "nbformat": 4,
 "nbformat_minor": 2
}
