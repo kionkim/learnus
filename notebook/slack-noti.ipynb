{
 "cells": [
  {
   "cell_type": "code",
   "execution_count": 1,
   "metadata": {},
   "outputs": [],
   "source": [
    "import os\n",
    "from pathlib import Path\n",
    "from dotenv import load_dotenv\n",
    "from slack_bolt import App\n",
    "from slack_bolt.adapter.socket_mode import SocketModeHandler"
   ]
  },
  {
   "cell_type": "code",
   "execution_count": 2,
   "metadata": {},
   "outputs": [],
   "source": [
    "load_dotenv('../.env')\n",
    "SLACK_BOT_TOKEN = os.getenv(\"SLACK-BOT-RECEIPT\")\n",
    "CHANNEL_ID = 'C086KU2133M' # Channel ID\n",
    "SLACK_APP_TOKEN = os.getenv(\"SLACK-APP-RECEIPT\")"
   ]
  },
  {
   "cell_type": "code",
   "execution_count": 3,
   "metadata": {},
   "outputs": [],
   "source": [
    "# Slack 앱을 초기화합니다\n",
    "app = App(token=SLACK_BOT_TOKEN)"
   ]
  },
  {
   "cell_type": "code",
   "execution_count": 5,
   "metadata": {},
   "outputs": [],
   "source": [
    "# 모든 이벤트를 로깅하는 미들웨어\n",
    "@app.middleware\n",
    "def log_request(logger, body, next):\n",
    "    print(f\"이벤트 수신: {body['event']['type']}\")\n",
    "    next()"
   ]
  },
  {
   "cell_type": "code",
   "execution_count": 6,
   "metadata": {},
   "outputs": [],
   "source": [
    "# 메시지 이벤트를 처리하는 리스너\n",
    "@app.message()\n",
    "def handle_message(message, logger, say):\n",
    "    # 메시지 내용을 가져옵니다\n",
    "    text = message['text']\n",
    "    print(f\"메시지를 받았습니다: {text}\")\n",
    "    # 메시지에 대한 응답을 보냅니다\n",
    "    say(f\"메시지를 받았습니다: {text}\", channel=CHANNEL_ID)"
   ]
  },
  {
   "cell_type": "code",
   "execution_count": 7,
   "metadata": {},
   "outputs": [],
   "source": [
    "# 에러 핸들러\n",
    "@app.error\n",
    "def custom_error_handler(error, body, logger):\n",
    "    print(f\"에러 발생: {error}\")"
   ]
  },
  {
   "cell_type": "code",
   "execution_count": null,
   "metadata": {},
   "outputs": [],
   "source": [
    "handler = SocketModeHandler(app, SLACK_APP_TOKEN)\n",
    "handler.start()"
   ]
  },
  {
   "cell_type": "markdown",
   "metadata": {},
   "source": [
    "### 채널로부터 이미지 가지고 오기"
   ]
  },
  {
   "cell_type": "code",
   "execution_count": 9,
   "metadata": {},
   "outputs": [],
   "source": [
    "from slack_sdk import WebClient\n",
    "from slack_sdk.errors import SlackApiError\n",
    "from slack_sdk.socket_mode import SocketModeClient\n",
    "from slack_sdk.socket_mode.request import SocketModeRequest\n",
    "from dotenv import load_dotenv\n",
    "\n",
    "client = WebClient(token=SLACK_BOT_TOKEN)\n",
    "socket_client = SocketModeClient(app_token=SLACK_APP_TOKEN, web_client=client)"
   ]
  },
  {
   "cell_type": "code",
   "execution_count": 10,
   "metadata": {},
   "outputs": [],
   "source": [
    "def fetch_images_from_channel(channel_id):\n",
    "    \"\"\"\n",
    "    주어진 Slack 채널에서 이미지를 가져옵니다.\n",
    "    Args:\n",
    "        channel_id (str): Slack 채널 ID.\n",
    "    Returns:\n",
    "        list: 이미지 파일 URL 목록.\n",
    "    \"\"\"\n",
    "    try:\n",
    "        # 채널 메시지 가져오기\n",
    "        print('try..')\n",
    "        response = client.conversations_history(channel=channel_id)\n",
    "        print(f'response = {response}')\n",
    "        messages = response['messages']\n",
    "        \n",
    "        image_urls = []\n",
    "        \n",
    "        # 메시지 내 파일 확인\n",
    "        for message in messages:\n",
    "            if 'files' in message:  # 파일이 포함된 메시지인지 확인\n",
    "                for file in message['files']:\n",
    "                    if file['mimetype'].startswith('image/'):  # 이미지 파일만 필터링\n",
    "                        image_urls.append(file['url_private'])\n",
    "\n",
    "        return image_urls\n",
    "\n",
    "    except SlackApiError as e:\n",
    "        print(f\"Slack API 오류: {e.response['error']}\")\n",
    "        return []"
   ]
  },
  {
   "cell_type": "code",
   "execution_count": null,
   "metadata": {},
   "outputs": [],
   "source": [
    "# 이미지 가져오기\n",
    "image_urls = fetch_images_from_channel(CHANNEL_ID)\n",
    "\n",
    "# 결과 출력\n",
    "print(\"이미지 URL 목록:\")\n",
    "for url in image_urls:\n",
    "    print(url)"
   ]
  }
 ],
 "metadata": {
  "kernelspec": {
   "display_name": "receipt",
   "language": "python",
   "name": "python3"
  },
  "language_info": {
   "codemirror_mode": {
    "name": "ipython",
    "version": 3
   },
   "file_extension": ".py",
   "mimetype": "text/x-python",
   "name": "python",
   "nbconvert_exporter": "python",
   "pygments_lexer": "ipython3",
   "version": "3.9.20"
  }
 },
 "nbformat": 4,
 "nbformat_minor": 2
}
