{
 "cells": [
  {
   "cell_type": "markdown",
   "metadata": {},
   "source": [
    "## 구글 Search asssistant"
   ]
  },
  {
   "cell_type": "code",
   "execution_count": 1,
   "metadata": {},
   "outputs": [],
   "source": [
    "import os, dotenv\n",
    "from googleapiclient.discovery import build\n",
    "\n",
    "dotenv.load_dotenv('../.env')\n",
    "GOOGLE_API_KEY = os.getenv(\"GOOGLE-SEARCH-API-KEY\")\n",
    "SEARCH_ENGINE_ID = os.getenv(\"SEARCH-ENGINE-ID\")"
   ]
  },
  {
   "cell_type": "code",
   "execution_count": null,
   "metadata": {},
   "outputs": [],
   "source": [
    "# Google Search API 클라이언트 초기화\n",
    "# build(serviceName, version, developerKey=None, credentials=None)\n",
    "# crediantials: OAuth 2.0 인증을 사용하려면 자격 증명 객체를 전달합니다. API 키 대신 더 세부적인 인증이 필요한 경우 사용됩니다.\n",
    "service = build(\"customsearch\", \"v1\", developerKey = GOOGLE_API_KEY)\n",
    "\n",
    "# 검색어 설정\n",
    "query = \"코레일, KTX\"\n",
    "\n",
    "# API 호출\n",
    "response = service.cse().list(q = query, cx = SEARCH_ENGINE_ID, num = 10).execute()\n",
    "\n",
    "# 결과 출력\n",
    "# Snippet의 데이터 소스\n",
    "# 페이지의 메타 설명(meta description):\n",
    "# 페이지의 HTML에 있는 <meta name=\"description\"> 태그에 지정된 내용을 기반으로 생성.\n",
    "\n",
    "if \"items\" in response:\n",
    "    for item in response[\"items\"]:\n",
    "        print(f\"Title: {item['title']}\")\n",
    "        print(f\"Link: {item['link']}\")\n",
    "        print(f\"Snippet: {item['snippet']}\")\n",
    "        print(\"-\" * 40)\n",
    "else:\n",
    "    print(\"No results found.\")"
   ]
  },
  {
   "cell_type": "code",
   "execution_count": 4,
   "metadata": {},
   "outputs": [],
   "source": [
    "items = response.get(\"items\", [])\n",
    "res = [\n",
    "        {\n",
    "            \"title\": item[\"title\"], \"snippet\": item.get(\"snippet\")  # 본문 내용 추가\n",
    "        } \n",
    "        for item in items\n",
    "        if item.get(\"snippet\") is not None\n",
    "    ]\n",
    "res"
   ]
  },
  {
   "cell_type": "code",
   "execution_count": null,
   "metadata": {},
   "outputs": [],
   "source": [
    "res"
   ]
  },
  {
   "cell_type": "code",
   "execution_count": null,
   "metadata": {},
   "outputs": [],
   "source": []
  }
 ],
 "metadata": {
  "kernelspec": {
   "display_name": "receipt",
   "language": "python",
   "name": "python3"
  },
  "language_info": {
   "codemirror_mode": {
    "name": "ipython",
    "version": 3
   },
   "file_extension": ".py",
   "mimetype": "text/x-python",
   "name": "python",
   "nbconvert_exporter": "python",
   "pygments_lexer": "ipython3",
   "version": "3.9.20"
  }
 },
 "nbformat": 4,
 "nbformat_minor": 2
}
