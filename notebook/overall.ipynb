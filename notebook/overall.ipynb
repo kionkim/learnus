{
 "cells": [
  {
   "cell_type": "markdown",
   "metadata": {},
   "source": [
    "### 전체 process\n",
    "\n",
    "1. slack_noti를 받는다. slack_bolt를 이용해서 SocketMode로 channel을 listening한다.\n",
    "  - slack Bot을 만들고, bot API Key를 받는다.\n",
    "  - SocketMode를 이용하기 위해서 App API Key를 받는다.\n",
    "  - Auth와 Permission을 설정한다. (비공개 채널에는 groups 권한이 필요하다.)\n",
    "  - Bot을 channel에 등록한다.\n",
    "2. handle_file_shared 메쏘드 내에서 langchain을 구성한다.\n",
    "  - 이를 위해 openAI에서 개발자 key를 발급받는다.\n",
    "  - OCR을 진행해서, 영수증에 대한 json을 추출한다.\n",
    "  - json을 assistant.ipynb의 내용에 따라, chatgpt assistant에 질의하여, 항목을 판단받는다.\n",
    "    - ask-manual-pdf.ipynb 에서는 local에서 vector_store를 구성하였으나, context가 없다. 여기의 목적에서는 사용이 가능할 것 같다.\n",
    "3. json에 항목을 추가한 후 notion DB에 적재한다.\n",
    "  - Notion integrated API를 발급받는다.\n",
    "  - Notion DB를 만든 후 DB ID를 받는다.\n",
    "  - DB 적재 결과를 보여주기 위해 Slack과 연결한다.\n",
    "  - DB 적재 결과를 Slack에서 message로 내보낸다.\n",
    "  \n"
   ]
  },
  {
   "cell_type": "code",
   "execution_count": null,
   "metadata": {},
   "outputs": [],
   "source": []
  },
  {
   "cell_type": "markdown",
   "metadata": {},
   "source": []
  }
 ],
 "metadata": {
  "kernelspec": {
   "display_name": "receipt",
   "language": "python",
   "name": "python3"
  },
  "language_info": {
   "name": "python",
   "version": "3.9.20"
  }
 },
 "nbformat": 4,
 "nbformat_minor": 2
}
