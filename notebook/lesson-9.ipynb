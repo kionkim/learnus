{
 "cells": [
  {
   "cell_type": "markdown",
   "metadata": {},
   "source": [
    "## Langchain 연결하기"
   ]
  },
  {
   "cell_type": "code",
   "execution_count": 1,
   "metadata": {},
   "outputs": [],
   "source": [
    "import os, openai\n",
    "from openai import OpenAI\n",
    "from langchain.tools import Tool\n",
    "from langchain.chains import SequentialChain, LLMChain\n",
    "from langchain.chains.base import Chain\n",
    "from langchain.chat_models import ChatOpenAI\n",
    "from langchain.prompts import PromptTemplate\n",
    "from googleapiclient.discovery import build\n",
    "\n",
    "from typing import Dict\n",
    "from typing import Dict\n",
    "from dotenv import load_dotenv"
   ]
  },
  {
   "cell_type": "code",
   "execution_count": 2,
   "metadata": {},
   "outputs": [],
   "source": [
    "import sys\n",
    "sys.path.append('../python')\n",
    "from utils import is_pdf_by_signature, encode_image, pdf_to_image, extract_json_from_string"
   ]
  },
  {
   "cell_type": "code",
   "execution_count": 3,
   "metadata": {},
   "outputs": [],
   "source": [
    "# 환경 변수에서 API 키 로드\n",
    "load_dotenv('../.env')\n",
    "\n",
    "GOOGLE_API_KEY = os.getenv(\"GOOGLE-SEARCH-API-KEY\")\n",
    "SEARCH_ENGINE_ID = os.getenv(\"SEARCH-ENGINE-ID\")\n",
    "openai.api_key = os.getenv(\"OPEN-AI\")\n",
    "client = OpenAI(api_key = openai.api_key)"
   ]
  },
  {
   "cell_type": "markdown",
   "metadata": {},
   "source": [
    "### OCR Chain"
   ]
  },
  {
   "cell_type": "code",
   "execution_count": 4,
   "metadata": {},
   "outputs": [],
   "source": [
    "class OCRChain(Chain):\n",
    "    \"\"\"\n",
    "    OpenAI를 이용해서 OCR을 진행하는 사용자 정의 체인.\n",
    "    \"\"\"\n",
    "    def __init__(self):\n",
    "        super().__init__()\n",
    "\n",
    "    @property\n",
    "    def input_keys(self):\n",
    "        return [\"image_path\"]\n",
    "\n",
    "    @property\n",
    "    def output_keys(self):\n",
    "        return [\"ocr_response\"]  # 출력값으로 Assistant의 응답을 반환\n",
    "\n",
    "    def _call(self, inputs: Dict[str, str]) -> Dict[str, str]:\n",
    "        image_path = inputs[\"image_path\"]\n",
    "        # print(f\"Image path: {image_path}\")\n",
    "        try:\n",
    "            # 이미지 파일 열기\n",
    "            if is_pdf_by_signature(image_path):\n",
    "                base64_image = pdf_to_image(image_path)\n",
    "            else:\n",
    "                base64_image = encode_image(image_path)\n",
    "            response = openai.chat.completions.create(\n",
    "                model=\"gpt-4o\",  # GPT-4 Vision 모델 사용\n",
    "                messages=[\n",
    "                    {\n",
    "                        \"role\": \"system\", \n",
    "                        \"content\": \"You are an assistant that extracts information from receipt images.\"\n",
    "                    },\n",
    "                    {\n",
    "                        \"role\": \"user\", \n",
    "                        \"content\": [\n",
    "                            {\n",
    "                                \"type\": \"text\",\n",
    "                                \"text\": '''다음 텍스트는 영수증의 정보입니다. 이 텍스트에서 가게 이름, 날짜, 항목, 총액을 분석하고, 아래의 JSON형식으로 결과를 반환해 주세요.\n",
    "                                JSON 형식:\n",
    "                                {\n",
    "                                    \"상호명\": \"가게 이름\",\n",
    "                                    \"날짜\": \"YYYY-MM-DD\",\n",
    "                                    \"항목\": [\n",
    "                                        {\"이름\": \"상품1\", \"가격\": 상품1 가격},\n",
    "                                        {\"이름\": \"상품2\", \"가격\": 상품2 가격}\n",
    "                                    ],\n",
    "                                    \"총액\": 총액\n",
    "                                }\n",
    "                                반환할 JSON 형식은 반드시 위의 구조와 일치해야 하며, 불필요한 설명은 포함하지 마세요.\n",
    "                                영수증 텍스트:\n",
    "                                \"\"\"\n",
    "                                [여기에 영수증의 텍스트 또는 OCR로 추출한 내용이 들어갑니다]\n",
    "                                \"\"\"\n",
    "                                결과:''' \n",
    "                            },{\n",
    "                                \"type\": \"image_url\",\n",
    "                                \"image_url\": {\"url\": f\"data:image/jpeg;base64,{base64_image}\"},\n",
    "                            }\n",
    "                        ],\n",
    "                    },\n",
    "                ],\n",
    "            )\n",
    "            \n",
    "            # 응답 파싱\n",
    "            raw_response = extract_json_from_string(response.choices[0].message.content)\n",
    "            return {\"ocr_response\": raw_response}\n",
    "        except Exception as e:\n",
    "            \n",
    "            return {\"ocr_response\": f\"Error during OpenAI API call: {e}\"}"
   ]
  },
  {
   "cell_type": "code",
   "execution_count": 7,
   "metadata": {},
   "outputs": [],
   "source": [
    "image_path = \"../image/IMG_9258.jpg\"  # 실제 이미지 파일 경로를 여기에 설정\n",
    "# OCRChain 초기화\n",
    "ocr_chain = OCRChain()\n",
    "ocr_response = ocr_chain.invoke({\"image_path\": image_path})"
   ]
  },
  {
   "cell_type": "code",
   "execution_count": 8,
   "metadata": {},
   "outputs": [
    {
     "data": {
      "text/plain": [
       "{'image_path': '../image/IMG_9258.jpg',\n",
       " 'ocr_response': {'상호명': '현대프리미엄아울렛 김포점 바버',\n",
       "  '날짜': '2024-12-15',\n",
       "  '항목': [{'이름': '바버/남성캐주얼', '가격': 207300}],\n",
       "  '총액': 207300}}"
      ]
     },
     "execution_count": 8,
     "metadata": {},
     "output_type": "execute_result"
    }
   ],
   "source": [
    "ocr_response"
   ]
  },
  {
   "cell_type": "markdown",
   "metadata": {},
   "source": [
    "### SearchChain"
   ]
  },
  {
   "cell_type": "code",
   "execution_count": 5,
   "metadata": {},
   "outputs": [],
   "source": [
    "def search_with_google_api(query, num_results=10):\n",
    "    api_key = GOOGLE_API_KEY  # Google API 키\n",
    "    cse_id = SEARCH_ENGINE_ID   # Custom Search Engine ID\n",
    "    try:\n",
    "        service = build(\"customsearch\", \"v1\", developerKey=api_key)\n",
    "        results = service.cse().list(q=query, cx=cse_id, num=num_results).execute()\n",
    "        print('results = ', results)\n",
    "        items = results.get(\"items\", [])\n",
    "        return [\n",
    "            {\n",
    "                \"title\": item[\"title\"], \"snippet\": item.get(\"snippet\")  # 본문 내용 추가\n",
    "            } \n",
    "            for item in items\n",
    "            if item.get(\"snippet\") is not None\n",
    "        ]\n",
    "    except Exception as e:\n",
    "        return f'Google Search API Error: {e}'\n",
    "\n",
    "\n",
    "class SearchChain(Chain):\n",
    "    def __init__(self, tool):\n",
    "        super().__init__()\n",
    "        self._tool = tool\n",
    "\n",
    "    @property\n",
    "    def input_keys(self):\n",
    "        return [\"ocr_response\"]\n",
    "\n",
    "    @property\n",
    "    def output_keys(self):\n",
    "        return [\"search_results\", \"business_name\"]\n",
    "\n",
    "    def _call(self, inputs, **kwargs):\n",
    "        business_name = inputs['ocr_response'][\"상호명\"]\n",
    "        item = ','.join([x[\"이름\"] for x in inputs['ocr_response']['항목']])\n",
    "        print('business_name = ', business_name)\n",
    "        print('item = ', item)\n",
    "        if len(item) > 0:\n",
    "            query = ','.join([business_name, item])\n",
    "        else:\n",
    "            query = business_name\n",
    "        print('query = ', query)\n",
    "        search_results = self._tool.func(query)\n",
    "        return {\"search_results\": search_results, \"business_name\": business_name}\n",
    "\n",
    "# Tool로 검색 기능 정의\n",
    "search_tool = Tool(\n",
    "    name = \"SearchBusinessCategory\",\n",
    "    func = lambda business_name: \"\\n\".join(\n",
    "        list([x['snippet'] for x in search_with_google_api(business_name)])\n",
    "    ),\n",
    "    description=\"상호명을 검색하여 관련 업종 정보를 제공합니다.\"\n",
    ")"
   ]
  },
  {
   "cell_type": "code",
   "execution_count": 9,
   "metadata": {},
   "outputs": [],
   "source": [
    "# SearchChain 초기화\n",
    "search_chain = SearchChain(search_tool)\n",
    "search_response = search_chain.invoke(ocr_response)"
   ]
  },
  {
   "cell_type": "markdown",
   "metadata": {},
   "source": [
    "### Analysis chain"
   ]
  },
  {
   "cell_type": "code",
   "execution_count": 6,
   "metadata": {},
   "outputs": [],
   "source": [
    "# Prompt 정의\n",
    "analyze_prompt = PromptTemplate(\n",
    "    input_variables=[\"business_name\", \"search_results\"],\n",
    "    template=\"\"\"\n",
    "    다음은 상호명 '{business_name}'에 대한 검색 결과입니다:\n",
    "    {search_results}\n",
    "    검색 결과를 기반으로 해당 상호의 업종을 추론하세요. 가능한 경우 단답형으로 업종만 답변하세요.\n",
    "    예: \"식당\", \"카페\", \"의류\", \"교통\" 등. \n",
    "    \"\"\"\n",
    ")"
   ]
  },
  {
   "cell_type": "code",
   "execution_count": 11,
   "metadata": {},
   "outputs": [
    {
     "name": "stderr",
     "output_type": "stream",
     "text": [
      "/var/folders/39/jrqp49_54fj1tl_h3pjv45780000gn/T/ipykernel_48104/1281889064.py:6: LangChainDeprecationWarning: The class `ChatOpenAI` was deprecated in LangChain 0.0.10 and will be removed in 1.0. An updated version of the class exists in the :class:`~langchain-openai package and should be used instead. To use it run `pip install -U :class:`~langchain-openai` and import as `from :class:`~langchain_openai import ChatOpenAI``.\n",
      "  llm = ChatOpenAI(\n",
      "/var/folders/39/jrqp49_54fj1tl_h3pjv45780000gn/T/ipykernel_48104/1281889064.py:5: LangChainDeprecationWarning: The class `LLMChain` was deprecated in LangChain 0.1.17 and will be removed in 1.0. Use :meth:`~RunnableSequence, e.g., `prompt | llm`` instead.\n",
      "  analysis_chain = LLMChain(\n"
     ]
    }
   ],
   "source": [
    "# 검색 결과를 분석하는 LLMChain\n",
    "analysis_chain = LLMChain(\n",
    "    llm = ChatOpenAI(\n",
    "        model=\"gpt-4\", \n",
    "        temperature=0,\n",
    "        openai_api_key = openai.api_key\n",
    "    ),\n",
    "    prompt=analyze_prompt,\n",
    "    output_key=\"business_category\",  # 출력 키를 명시적으로 설정\n",
    ")"
   ]
  },
  {
   "cell_type": "markdown",
   "metadata": {},
   "source": [
    "### 전체 Chain"
   ]
  },
  {
   "cell_type": "code",
   "execution_count": 12,
   "metadata": {},
   "outputs": [],
   "source": [
    "# SequentialChain 구성\n",
    "sequential_chain = SequentialChain(\n",
    "    chains=[ocr_chain, search_chain, analysis_chain],\n",
    "    input_variables=[\"image_path\"],\n",
    "    output_variables=[\"business_category\"],\n",
    "    verbose=True\n",
    ")"
   ]
  },
  {
   "cell_type": "code",
   "execution_count": 13,
   "metadata": {},
   "outputs": [
    {
     "name": "stdout",
     "output_type": "stream",
     "text": [
      "\n",
      "\n",
      "\u001b[1m> Entering new SequentialChain chain...\u001b[0m\n",
      "business_name =  네이버파이낸셜 주식회사\n",
      "item =  \n",
      "query =  네이버파이낸셜 주식회사\n",
      "results =  {'kind': 'customsearch#search', 'url': {'type': 'application/json', 'template': 'https://www.googleapis.com/customsearch/v1?q={searchTerms}&num={count?}&start={startIndex?}&lr={language?}&safe={safe?}&cx={cx?}&sort={sort?}&filter={filter?}&gl={gl?}&cr={cr?}&googlehost={googleHost?}&c2coff={disableCnTwTranslation?}&hq={hq?}&hl={hl?}&siteSearch={siteSearch?}&siteSearchFilter={siteSearchFilter?}&exactTerms={exactTerms?}&excludeTerms={excludeTerms?}&linkSite={linkSite?}&orTerms={orTerms?}&dateRestrict={dateRestrict?}&lowRange={lowRange?}&highRange={highRange?}&searchType={searchType}&fileType={fileType?}&rights={rights?}&imgSize={imgSize?}&imgType={imgType?}&imgColorType={imgColorType?}&imgDominantColor={imgDominantColor?}&alt=json'}, 'queries': {'request': [{'title': 'Google Custom Search - 네이버파이낸셜 주식회사', 'totalResults': '57400', 'searchTerms': '네이버파이낸셜 주식회사', 'count': 10, 'startIndex': 1, 'inputEncoding': 'utf8', 'outputEncoding': 'utf8', 'safe': 'off', 'cx': '50aee7f4193e043e4'}], 'nextPage': [{'title': 'Google Custom Search - 네이버파이낸셜 주식회사', 'totalResults': '57400', 'searchTerms': '네이버파이낸셜 주식회사', 'count': 10, 'startIndex': 11, 'inputEncoding': 'utf8', 'outputEncoding': 'utf8', 'safe': 'off', 'cx': '50aee7f4193e043e4'}]}, 'context': {'title': 'business-category'}, 'searchInformation': {'searchTime': 0.337063, 'formattedSearchTime': '0.34', 'totalResults': '57400', 'formattedTotalResults': '57,400'}, 'items': [{'kind': 'customsearch#result', 'title': '네이버파이낸셜', 'htmlTitle': '<b>네이버파이낸셜</b>', 'link': 'https://www.naverfincorp.com/', 'displayLink': 'www.naverfincorp.com', 'snippet': 'NAVER FINANCIAL · 회사소개 · 언론보도 · 인재모집 · 금융소비자보호 · 공지사항. 금융을 넓히는 기술, 네이버페이. 결제 · 대출 · 보험 · 카드 · 증권 · 부동산까지\\xa0...', 'htmlSnippet': '<b>NAVER</b> FINANCIAL &middot; 회사소개 &middot; 언론보도 &middot; 인재모집 &middot; 금융소비자보호 &middot; 공지사항. 금융을 넓히는 기술, <b>네이버</b>페이. 결제 · 대출 · 보험 · 카드 · 증권 · 부동산까지&nbsp;...', 'formattedUrl': 'https://www.naverfincorp.com/', 'htmlFormattedUrl': 'https://www.naverfincorp.com/', 'pagemap': {'metatags': [{'naver-site-verification': '4319e44326f47756171ca4d409bcf37ee306502b', 'viewport': 'width=device-width, initial-scale=1, shrink-to-fit=no, user-scalable=no', 'og:title': 'NAVER FINANCIAL', 'og:url': 'https://www.naverfincorp.com/', 'og:description': '네이버파이낸셜 회사 소개, 공지사항 및 채용 정보 제공', 'format-detection': 'telephone=no'}]}}, {'kind': 'customsearch#result', 'title': '네이버 결제내역 확인 방법(모르는 결제내역 확인) : 네이버 전반 고객 ...', 'htmlTitle': '<b>네이버</b> 결제내역 확인 방법(모르는 결제내역 확인) : <b>네이버</b> 전반 고객 ...', 'link': 'https://help.naver.com/service/30016/contents/22496?lang=ko', 'displayLink': 'help.naver.com', 'snippet': '네이버에서 결제한 내역을 확인할 수 있도록 네이버페이 > 결제내역 페이지를 제공하고 있습니다.만약, 네이버파이낸셜 또는 네이버파이낸셜 주식회사에서 결제\\xa0...', 'htmlSnippet': '네이버에서 결제한 내역을 확인할 수 있도록 네이버페이 &gt; 결제내역 페이지를 제공하고 있습니다.만약, <b>네이버파이낸셜</b> 또는 <b>네이버파이낸셜 주식회사</b>에서 결제&nbsp;...', 'formattedUrl': 'https://help.naver.com/service/30016/contents/22496?lang=ko', 'htmlFormattedUrl': 'https://help.naver.com/service/30016/contents/22496?lang=ko', 'pagemap': {'cse_thumbnail': [{'src': 'https://encrypted-tbn0.gstatic.com/images?q=tbn:ANd9GcSP5uhvOt30DAjoe7-8PKNU-zHKDmntN8PM_cjUqATNxk9w4eD49uxBQeU&s', 'width': '310', 'height': '163'}], 'metatags': [{'og:image': 'https://ssl.pstatic.net/static/help/new_help/img/og_image.png', 'next-head-count': '18', 'twitter:card': 'summary', 'twitter:title': '네이버 결제내역 확인 방법(모르는 결제내역 확인) : 네이버 전반 고객센터', 'naver-site-verification': '218e702234f90b98e4510edd65de2fee948d0650', 'twitter:domain': '네이버 고객센터', 'viewport': 'initial-scale=1.0, width=device-width', 'twitter:description': '\\u200b네이버에서 결제한 내역을 확인할 수 있도록 네이버페이 &gt; 결제내역 페이지를 제공하고 있습니다.만약, 네이버파이낸셜 또는 네이버파이낸셜 주식회사에서 결제되었다는 문자를 받아 보셨다면 결제내역 페이지를 확인해 보세요.                                                                                                                                                                                                                                                                                                                                                                                                                                                                                                                            온라인과 오프라인 결제 내역을 구분하여 조회할 수 있고, 네이버 예약/주문, 현장결제, 유료 콘텐츠 구매 등의 결제내역 뿐만 아니라 외부쇼핑몰(네이버페 ', 'og:title': '네이버 결제내역 확인 방법(모르는 결제내역 확인) : 네이버 전반 고객센터', 'og:url': 'https://help.naver.com/service/30016/contents/22496?lang=ko', 'og:description': '\\u200b네이버에서 결제한 내역을 확인할 수 있도록 네이버페이 &gt; 결제내역 페이지를 제공하고 있습니다.만약, 네이버파이낸셜 또는 네이버파이낸셜 주식회사에서 결제되었다는 문자를 받아 보셨다면 결제내역 페이지를 확인해 보세요.                                                                                                                                                                                                                                                                                                                                                                                                                                                                                                                            온라인과 오프라인 결제 내역을 구분하여 조회할 수 있고, 네이버 예약/주문, 현장결제, 유료 콘텐츠 구매 등의 결제내역 뿐만 아니라 외부쇼핑몰(네이버페 ', 'twitter:image': 'https://ssl.pstatic.net/static/help/new_help/img/og_image.png'}], 'cse_image': [{'src': 'https://ssl.pstatic.net/static/help/new_help/img/og_image.png'}]}}, {'kind': 'customsearch#result', 'title': '네이버파이낸셜 - 나무위키', 'htmlTitle': '<b>네이버파이낸셜</b> - 나무위키', 'link': 'https://namu.wiki/w/%EB%84%A4%EC%9D%B4%EB%B2%84%ED%8C%8C%EC%9D%B4%EB%82%B8%EC%85%9C', 'displayLink': 'namu.wiki', 'snippet': 'LY 주식회사 (라인 · 야후! 재팬). 관계기업. 위버스 컴퍼니. 경영진. 총수 | CEO. 네이버파이낸셜 주식회사. NAVER Financial Corporation. NAVER_FL.png. 설립일. 2019년\\xa0...', 'htmlSnippet': 'LY <b>주식회사</b> (라인 · 야후! 재팬). 관계기업. 위버스 컴퍼니. 경영진. 총수 | CEO. <b>네이버파이낸셜 주식회사</b>. NAVER Financial Corporation. NAVER_FL.png. 설립일. 2019년&nbsp;...', 'formattedUrl': 'https://namu.wiki/w/네이버파이낸셜', 'htmlFormattedUrl': 'https://namu.wiki/w/<b>네이버파이낸셜</b>', 'pagemap': {'cse_thumbnail': [{'src': 'https://encrypted-tbn0.gstatic.com/images?q=tbn:ANd9GcTw5NOkJDMhOOoFJE9dOfUBycCs10ZVWaBdFvsNjLJyGsSUnvEX-F55xro&s', 'width': '225', 'height': '225'}], 'metatags': [{'application-name': '나무위키', 'msapplication-starturl': '/w/%EB%82%98%EB%AC%B4%EC%9C%84%ED%82%A4:%EB%8C%80%EB%AC%B8', 'og:image': '//i.namu.wiki/i/Z3Zdn7tvyUAzD8SOvLIC6RuKcDJJhMVzPYZCYVvVEhd6xlhUpUyhQI7WFHcFu3_NA6VBUbRQjnxogv16y4-nqA.webp', 'og:type': 'article', 'theme-color': '#00a69c', 'og:site_name': '나무위키', 'viewport': 'user-scalable=no, initial-scale=1, width=device-width, viewport-fit=cover', 'msapplication-tooltip': '나무위키', 'og:title': '네이버파이낸셜', 'mobile-web-app-capable': 'yes', 'og:url': 'https://namu.wiki/w/%EB%84%A4%EC%9D%B4%EB%B2%84%ED%8C%8C%EC%9D%B4%EB%82%B8%EC%85%9C', 'og:description': '2019년   11월 1일  금융 서비스 강화를 위해 태어난  네이버페이  분할 법인 기업이다. 배경 2019년'}], 'cse_image': [{'src': 'x-raw-image:///05c12c552cbbdaecbe36a0c6a5f6be036064e662099553b03d7fe0074d7f3d99'}]}}, {'kind': 'customsearch#result', 'title': '네이버페이_DEGICA_네이버파이낸셜 주식회사 이용내역 : 네이버 ...', 'htmlTitle': '네이버페이_DEGICA_<b>네이버파이낸셜 주식회사</b> 이용내역 : 네이버 ...', 'link': 'https://blog.naver.com/boramy0930/223453932399', 'displayLink': 'blog.naver.com', 'snippet': 'May 21, 2024 ... 스마일카드의 유효기간이 다 되어가서 롯데카드(로카)를 발급받아 사용하고 있는데 완전 별로다 ㅋㅋ. 지난번엔 이거 갖고 마트를 갔더니 로카가 빼먹는\\xa0...', 'htmlSnippet': 'May 21, 2024 <b>...</b> 스마일카드의 유효기간이 다 되어가서 롯데카드(로카)를 발급받아 사용하고 있는데 완전 별로다 ㅋㅋ. 지난번엔 이거 갖고 마트를 갔더니 로카가 빼먹는&nbsp;...', 'formattedUrl': 'https://blog.naver.com/boramy0930/223453932399', 'htmlFormattedUrl': 'https://blog.naver.com/boramy0930/223453932399', 'pagemap': {'metatags': [{'og:image': 'https://blogthumb.pstatic.net/MjAyNDA1MjFfMjUg/MDAxNzE2Mjg0MjMyNzE1.Q-k4wpcQ2CX22-z-Lcho5ljdNs4B92kuUYNOLXqzTusg.XTLqkwZQnbFjAHMdoHs3B28aq8NdyTdDQJXzY_dezagg.JPEG/Screenshot%A3%DF20240503%A3%DF190359.jpg?type=w2', 'og:type': 'article', 'og:site_name': '네이버 블로그 | 식도락꾼', 'og:title': '네이버페이_DEGICA_네이버파이낸셜 주식회사 이용내역', 'naverblog:profile_image': 'https://blogpfthumb-phinf.pstatic.net/20120215_259/boramy0930_1329236325488_yIw85I_jpg/194633374F2FBE7620C03F.jpg?type=s1', 'napp-site-analysis': 'gdid=90000003_000000000000003406E46B6F,service=blog,collection=blog', 'og:description': '스마일카드의 유효기간이 다 되어가서 롯데카드(로카)를 발급받아 사용하고 있는데 완전 별로다 ㅋㅋ 지난...', 'referrer': 'always', 'naverblog:nickname': '네이디엄', 'me:feed:serviceid': 'blog', 'viewport': 'width=device-width,initial-scale=1,minimum-scale=1,maximum-scale=1,user-scalable=no,viewport-fit=cover', 'og:url': 'https://blog.naver.com/boramy0930/223453932399', 'og:article:author': '식도락꾼 | 블로그', 'format-detection': 'telephone=no'}], 'cse_image': [{'src': 'https://blogthumb.pstatic.net/MjAyNDA1MjFfMjUg/MDAxNzE2Mjg0MjMyNzE1.Q-k4wpcQ2CX22-z-Lcho5ljdNs4B92kuUYNOLXqzTusg.XTLqkwZQnbFjAHMdoHs3B28aq8NdyTdDQJXzY_dezagg.JPEG/Screenshot%A3%DF20240503%A3%DF190359.jpg?type=w2'}]}}, {'kind': 'customsearch#result', 'title': '네이버파이낸셜 주식회사', 'htmlTitle': '<b>네이버파이낸셜 주식회사</b>', 'link': 'https://privacy.naver.com/download/Naver_Pay_SOC3_Report_2019.pdf', 'displayLink': 'privacy.naver.com', 'snippet': \"Apr 10, 2020 ... 딜로이트 안진회계법인(이하 '서비스 감사인' 또는 '우리')은 네이버파이낸셜 주식회사(이하 '서비스 조직' 또는. '회사')의 네이버페이 서비스\\xa0...\", 'htmlSnippet': 'Apr 10, 2020 <b>...</b> 딜로이트 안진회계법인(이하 &#39;서비스 감사인&#39; 또는 &#39;우리&#39;)은 <b>네이버파이낸셜 주식회사</b>(이하 &#39;서비스 조직&#39; 또는. &#39;회사&#39;)의 네이버페이 서비스&nbsp;...', 'formattedUrl': 'https://privacy.naver.com/download/Naver_Pay_SOC3_Report_2019.pdf', 'htmlFormattedUrl': 'https://privacy.naver.com/download/Naver_Pay_SOC3_Report_2019.pdf', 'pagemap': {'cse_thumbnail': [{'src': 'https://encrypted-tbn0.gstatic.com/images?q=tbn:ANd9GcQ-lT92hyXgo49ggjSR8QNLvabEt7ZoFAfEwwCnuu772UNuzKrtRrx0mII&s', 'width': '189', 'height': '267'}], 'metatags': [{'moddate': \"D:20200429224219+09'00'\", 'creationdate': \"D:20200429133700+09'00'\", 'producer': 'ezPDF Builder Supreme'}], 'cse_image': [{'src': 'x-raw-image:///73fb5600a09b4e8ee4bed1cddcab127d821e4cd10deff815eedadd09ec18879c'}]}, 'mime': 'application/pdf', 'fileFormat': 'PDF/Adobe Acrobat'}, {'kind': 'customsearch#result', 'title': '네이버파이낸셜 주식회사로 출금이체가 등록되었습니다 이게뭐지 ...', 'htmlTitle': '<b>네이버파이낸셜 주식회사</b>로 출금이체가 등록되었습니다 이게뭐지 ...', 'link': 'https://blog.naver.com/merurharem/222387518606', 'displayLink': 'blog.naver.com', 'snippet': 'Jun 6, 2021 ... 카테고리 이동 일상에서 나를 발견하다 · \\u200b. \\u200b · 1589-1599번호로 와있는 문자! · \\u200b. \\u200b. \\u200b · \\u200b. \\u200b. 네이버 쇼핑. 주문할때 결제등록시 나오는 화면예요.', 'htmlSnippet': 'Jun 6, 2021 <b>...</b> 카테고리 이동 일상에서 나를 발견하다 &middot; \\u200b. \\u200b &middot; 1589-1599번호로 와있는 문자! &middot; \\u200b. \\u200b. \\u200b &middot; \\u200b. \\u200b. <b>네이버</b> 쇼핑. 주문할때 결제등록시 나오는 화면예요.', 'formattedUrl': 'https://blog.naver.com/merurharem/222387518606', 'htmlFormattedUrl': 'https://blog.naver.com/merurharem/222387518606', 'pagemap': {'cse_thumbnail': [{'src': 'https://encrypted-tbn0.gstatic.com/images?q=tbn:ANd9GcQfbl_NZgdSYg7PsyhWroFAXyPos_pxB8p5sUeTKG9CVGYZxgWn8sl3hYvv&s', 'width': '187', 'height': '269'}], 'metatags': [{'og:image': 'https://blogthumb.pstatic.net/MjAyMTA2MDZfMzMg/MDAxNjIyOTg2MDM5NjI1.-ntj-7AQdHo5j0P-apjwLU0PyyT-NulRHOBRbEQhLFsg.xzdgohLfqPF0TE54fYKTQ7guQibZ7yv9NF71of3UQdMg.JPEG.merurharem/Screenshot%A3%DF20210606%A3%AD221346%A3%DFMessages.jpg?type=w2', 'og:type': 'article', 'og:site_name': '네이버 블로그 | 일상에서 나를 발견하다', 'og:title': '네이버파이낸셜 주식회사로 출금이체가 등록되었습니다 이게뭐지? 네이버페이 계좌 간편결제 등록 진행방법도 여기에 있어요 (네이버쇼핑 물품구매시)', 'naverblog:profile_image': 'https://blogpfthumb-phinf.pstatic.net/MjAxODA4MDZfODIg/MDAxNTMzNDgxODkwNDc0.EzAMu5P9U1hMG-XOH8Kgmj5xWfqiwA8NM8E5Pv_1yz0g.2g5Vf1yiyBUJebgOuUrCNB4pLcPpG_2JkVqVJUyOqvgg.JPEG.merurharem/profileImage.jpg?type=s1', 'napp-site-analysis': 'gdid=90000003_0000000000000033C7543C8E,service=blog,collection=blog', 'og:description': '이런 문자가 왜 와있는걸까? 하신다면... 1589-1599번호로 와있는 문자! 아래와 같은 과정을 거친것은 아니...', 'referrer': 'always', 'naverblog:nickname': '얏호', 'me:feed:serviceid': 'blog', 'viewport': 'width=device-width,initial-scale=1,minimum-scale=1,maximum-scale=1,user-scalable=no,viewport-fit=cover', 'og:url': 'https://blog.naver.com/merurharem/222387518606', 'og:article:author': '일상에서 .. | 블로그', 'format-detection': 'telephone=no'}], 'cse_image': [{'src': 'https://blogthumb.pstatic.net/MjAyMTA2MDZfMzMg/MDAxNjIyOTg2MDM5NjI1.-ntj-7AQdHo5j0P-apjwLU0PyyT-NulRHOBRbEQhLFsg.xzdgohLfqPF0TE54fYKTQ7guQibZ7yv9NF71of3UQdMg.JPEG.merurharem/Screenshot%A3%DF20210606%A3%AD221346%A3%DFMessages.jpg?type=w2'}]}}, {'kind': 'customsearch#result', 'title': '네이버파이낸셜 개인정보 처리방침', 'htmlTitle': '<b>네이버파이낸셜</b> 개인정보 처리방침', 'link': 'https://new-m.pay.naver.com/member/terms-policy/privacy', 'displayLink': 'new-m.pay.naver.com', 'snippet': '네이버파이낸셜 주식회사(이하 “회사”)는 정보통신망 이용촉진 및 정보보호 등에 관한 법률, 개인정보보호법, 신용정보의 이용 및 보호에 관한 법률 등 관련 개인정보\\xa0...', 'htmlSnippet': '<b>네이버파이낸셜 주식회사</b>(이하 “회사”)는 정보통신망 이용촉진 및 정보보호 등에 관한 법률, 개인정보보호법, 신용정보의 이용 및 보호에 관한 법률 등 관련 개인정보&nbsp;...', 'formattedUrl': 'https://new-m.pay.naver.com/member/terms-policy/privacy', 'htmlFormattedUrl': 'https://new-m.pay.naver.com/member/terms-policy/privacy', 'pagemap': {'cse_thumbnail': [{'src': 'https://encrypted-tbn0.gstatic.com/images?q=tbn:ANd9GcTO53wH_Z4Phwyi6ae66f48InQkpRyuwfiXY57T0T5qdmY68YdvcnAovT5s&s', 'width': '224', 'height': '224'}], 'metatags': [{'next-head-count': '3', 'og:image': 'https://financial.pstatic.net/static/public/image/npay_og_260x260.png', 'viewport': 'width=device-width,initial-scale=1.0,maximum-scale=1.0,minimum-scale=1.0,user-scalable=no', 'og:title': '네이버페이', 'og:url': 'https://new-m.pay.naver.com', 'og:description': '네이버 ID로 간편구매, 네이버페이', 'format-detection': 'telephone=no'}], 'cse_image': [{'src': 'https://financial.pstatic.net/static/public/image/npay_og_260x260.png'}]}}, {'kind': 'customsearch#result', 'title': '네이버파이낸셜(주) 2025년 기업정보 | 기업리뷰 38건, 4.4 리뷰평점', 'htmlTitle': '<b>네이버파이낸셜</b>(<b>주</b>) 2025년 기업정보 | 기업리뷰 38건, 4.4 리뷰평점', 'link': 'https://www.jobplanet.co.kr/companies/361899', 'displayLink': 'www.jobplanet.co.kr', 'snippet': '네이버파이낸셜(주) 기업정보 - 장단점 키워드: 풀, 환경, 금융 | 기업리뷰: 다들열심히하고 노력에 대한 보상이 충분합니다 | 네이버파이낸셜(주)의 관련 뉴스,\\xa0...', 'htmlSnippet': '<b>네이버파이낸셜</b>(<b>주</b>) 기업정보 - 장단점 키워드: 풀, 환경, 금융 | 기업리뷰: 다들열심히하고 노력에 대한 보상이 충분합니다 | <b>네이버파이낸셜</b>(<b>주</b>)의 관련 뉴스,&nbsp;...', 'formattedUrl': 'https://www.jobplanet.co.kr/companies/361899', 'htmlFormattedUrl': 'https://www.jobplanet.co.kr/companies/361899', 'pagemap': {'cse_thumbnail': [{'src': 'https://encrypted-tbn0.gstatic.com/images?q=tbn:ANd9GcQ04Dvsyx3bvE_GoMTqBmrjef0TFuKqLv1_3VAHP_KX_Kpls7fzBt57UHyI&s', 'width': '165', 'height': '306'}], 'metatags': [{'msapplication-tilecolor': '#ffffff', 'theme-color': '#ffffff', 'apple-mobile-web-app-status-bar-style': 'black', 'branch:deeplink:$deeplink_path': 'jobplanet://company/review?id=361899', 'viewport': 'width=device-width,initial-scale=1.0,minimum-scale=1.0,maximum-scale=2.0,user-scalable=yes', 'apple-mobile-web-app-capable': 'yes', 'apple-mobile-web-app-title': 'JOBPLANET', 'mobile-web-app-capable': 'yes', 'msapplication-tileimage': '/ms-icon-144x144.png'}], 'cse_image': [{'src': 'https://jpassets.jobplanet.co.kr/production/uploads/material/media/12506/reviewtab_blind_moweb.jpg'}]}}, {'kind': 'customsearch#result', 'title': 'KISA 정보보호 및 개인정보보호관리체계 인증 ISMS-P 인증서 발급현황', 'htmlTitle': 'KISA 정보보호 및 개인정보보호관리체계 인증 ISMS-P 인증서 발급현황', 'link': 'https://isms.kisa.or.kr/main/ispims/issue/?certificationMode=list&crtfYear=2023&pageIndex=3', 'displayLink': 'isms.kisa.or.kr', 'snippet': '네이버파이낸셜 주식회사, 네이버파이낸셜 서비스, 2023-10-05 ~ 2026-10-04. ISMS-P-KISA-2023-043, 네이버클라우드 주식회사, 네이버 클라우드 플랫폼(NAVER Cloud\\xa0...', 'htmlSnippet': '<b>네이버파이낸셜 주식회사</b>, <b>네이버파이낸셜</b> 서비스, 2023-10-05 ~ 2026-10-04. ISMS-P-KISA-2023-043, 네이버클라우드 <b>주식회사</b>, 네이버 클라우드 플랫폼(NAVER Cloud&nbsp;...', 'formattedUrl': 'https://isms.kisa.or.kr/main/ispims/issue/?certificationMode=list...3', 'htmlFormattedUrl': 'https://isms.kisa.or.kr/main/ispims/issue/?certificationMode=list...3', 'pagemap': {'metatags': [{'viewport': 'width=device-width'}]}}, {'kind': 'customsearch#result', 'title': '『부가가치세』 네이버페이 매출조회 : 네이버 블로그', 'htmlTitle': '『부가가치세』 <b>네이버</b>페이 매출조회 : <b>네이버</b> 블로그', 'link': 'https://m.blog.naver.com/jed1113/222037336753', 'displayLink': 'm.blog.naver.com', 'snippet': 'Jul 21, 2020 ... 참고로, 네이버 파이낸셜 주식회사는 금융감독원에 결제대행업체로 등록이 되어 있으므로 신용카드 매출전표 등 발행 세액공제를 받을 수 있습니다. 등록\\xa0...', 'htmlSnippet': 'Jul 21, 2020 <b>...</b> 참고로, <b>네이버 파이낸셜 주식회사</b>는 금융감독원에 결제대행업체로 등록이 되어 있으므로 신용카드 매출전표 등 발행 세액공제를 받을 수 있습니다. 등록&nbsp;...', 'formattedUrl': 'https://m.blog.naver.com/jed1113/222037336753', 'htmlFormattedUrl': 'https://m.blog.naver.com/jed1113/222037336753', 'pagemap': {'cse_thumbnail': [{'src': 'https://encrypted-tbn0.gstatic.com/images?q=tbn:ANd9GcQuQsqst4G_OeHMTIlflc_0ogDkLcYO4eegc55OoT0x3suGr1Ys0eEddw&s', 'width': '434', 'height': '116'}], 'metatags': [{'og:image': 'https://blogthumb.pstatic.net/MjAyMDA3MjFfNjQg/MDAxNTk1MzE0NzQ5OTE1.E4fX61SsZSkSMCbz3a9LRFuP8FsHNAbfwm756AfdEOEg.ETxsiaWZKqx7o4P7eE2qLNdNYYAmWXEOeNI89ltlfiYg.PNG.jed1113/%BC%BC%B9%AB%C8%B8%B0%E8%B5%BF%C7%E0_%B8%DE%C0%CE%B7%CE%B0%ED.png?type=w2', 'og:type': 'article', 'og:site_name': '네이버 블로그 | 세무회계 同行', 'og:title': '『부가가치세』 네이버페이 매출조회', 'naverblog:profile_image': 'https://blogpfthumb-phinf.pstatic.net/MjAyMDA3MjFfMjky/MDAxNTk1MzI0MDkxMjk5.7jmvEP7Vq9afPMJOEO5983Ehm_rjmEGdgpYA--BcOSwg.TOkWC4K7b0HrYdTIWT61GNTbqqiDKwZSTp1OYUIFDucg.PNG.jed1113/%25EC%2584%25B8%25EB%25AC%25B4%25ED%259A%258C%25EA%25B3%2584%25EB%258F%2599%25ED%2596%2589%2B%25EC%25A0%2595%25EC%2582%25AC%25EA%25B0%2581%25ED%2598%2595%2B%25EB%25A1%259C%25EA%25B3%25A0.png?type=s1', 'napp-site-analysis': 'gdid=90000003_0000000000000033B274E2B1,service=blog,collection=blog', 'og:description': '안녕하세요 세무회계동행 이재언 세무사입니다. 7월은 부가가치세 신고의 달입니다. 꼭 27일(월)까지 신고...', 'referrer': 'always', 'naverblog:nickname': '동행 이재언 세무사', 'me:feed:serviceid': 'blog', 'viewport': 'width=device-width,initial-scale=1,minimum-scale=1,maximum-scale=1,user-scalable=no,viewport-fit=cover', 'og:url': 'https://blog.naver.com/jed1113/222037336753', 'og:article:author': '세무회계 .. | 블로그', 'format-detection': 'telephone=no'}], 'cse_image': [{'src': 'https://blogthumb.pstatic.net/MjAyMDA3MjFfNjQg/MDAxNTk1MzE0NzQ5OTE1.E4fX61SsZSkSMCbz3a9LRFuP8FsHNAbfwm756AfdEOEg.ETxsiaWZKqx7o4P7eE2qLNdNYYAmWXEOeNI89ltlfiYg.PNG.jed1113/%BC%BC%B9%AB%C8%B8%B0%E8%B5%BF%C7%E0_%B8%DE%C0%CE%B7%CE%B0%ED.png?type=w2'}]}}]}\n",
      "\n",
      "\u001b[1m> Finished chain.\u001b[0m\n",
      "\n",
      "최종 결과:\n",
      "\"금융\"\n"
     ]
    }
   ],
   "source": [
    "# 실행\n",
    "image_path = \"../image/naver.png\"  # 실제 이미지 파일 경로를 여기에 설정\n",
    "result = sequential_chain.invoke({\"image_path\": image_path})\n",
    "print(\"\\n최종 결과:\")\n",
    "print(result[\"business_category\"])"
   ]
  }
 ],
 "metadata": {
  "kernelspec": {
   "display_name": "receipt",
   "language": "python",
   "name": "python3"
  },
  "language_info": {
   "codemirror_mode": {
    "name": "ipython",
    "version": 3
   },
   "file_extension": ".py",
   "mimetype": "text/x-python",
   "name": "python",
   "nbconvert_exporter": "python",
   "pygments_lexer": "ipython3",
   "version": "3.9.20"
  }
 },
 "nbformat": 4,
 "nbformat_minor": 2
}
