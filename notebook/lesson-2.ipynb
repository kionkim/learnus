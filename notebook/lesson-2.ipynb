{
 "cells": [
  {
   "cell_type": "markdown",
   "metadata": {},
   "source": [
    "## OpenAI API"
   ]
  },
  {
   "cell_type": "code",
   "execution_count": null,
   "metadata": {},
   "outputs": [],
   "source": [
    "pip install openai"
   ]
  },
  {
   "cell_type": "code",
   "execution_count": 2,
   "metadata": {},
   "outputs": [],
   "source": [
    "import os\n",
    "import openai\n",
    "from dotenv import load_dotenv\n",
    "\n",
    "# 키 가져오기\n",
    "load_dotenv('../.env')\n",
    "openai.api_key = os.getenv('OPEN-AI')"
   ]
  },
  {
   "cell_type": "code",
   "execution_count": 3,
   "metadata": {},
   "outputs": [
    {
     "name": "stdout",
     "output_type": "stream",
     "text": [
      "OpenAI는 인공지능 연구에 열중한 비영리 조직입니다. 이들의 목표는 효율적이고, 공정한 방식으로 인공 지능(AI) 기술을 만들어내는 것입니다. 이 복잡한 문제에 접근하는 여러 가지 방식 중 하나는 '넓은 분산 수익' 원칙을 따르는 것이며, 이는 구체적으로 OpenAI가 필요 이상으로 AI를 통제하는 것을 방지하기 위한 것입니다. 이 과정에는 인류 전체를 대표하는 관점으로서의사결정에 참여하는 능력이 생기게 된다는 것을 의미합니다. OpenAI는 안전성에 관한 연구를 우선시하며, 경우에 따라서는 다른 조직과 경쟁하기보다는 알고리즘 또는 연구를 공개하는 것을 선택합니다. 이렇게 함으로써 OpenAI는 인공지능이 인류에게 이익을 가져다주도록 하며, 동시에 위험을 최소화하기 위해 노력합니다.\n"
     ]
    }
   ],
   "source": [
    "response = openai.chat.completions.create(\n",
    "    model=\"gpt-4\",\n",
    "    messages = [{'role': 'user', 'content': \"OpenAI란 무엇인가요?\"}]\n",
    ")\n",
    "print(response.choices[0].message.content)"
   ]
  },
  {
   "cell_type": "code",
   "execution_count": null,
   "metadata": {},
   "outputs": [],
   "source": []
  }
 ],
 "metadata": {
  "kernelspec": {
   "display_name": "receipt",
   "language": "python",
   "name": "python3"
  },
  "language_info": {
   "codemirror_mode": {
    "name": "ipython",
    "version": 3
   },
   "file_extension": ".py",
   "mimetype": "text/x-python",
   "name": "python",
   "nbconvert_exporter": "python",
   "pygments_lexer": "ipython3",
   "version": "3.9.20"
  }
 },
 "nbformat": 4,
 "nbformat_minor": 2
}
