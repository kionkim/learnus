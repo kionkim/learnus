{
 "cells": [
  {
   "cell_type": "code",
   "execution_count": 1,
   "metadata": {},
   "outputs": [],
   "source": [
    "import os, re, json, base64, openai\n",
    "from io import BytesIO\n",
    "from dotenv import load_dotenv\n",
    "from pdf2image import convert_from_path"
   ]
  },
  {
   "cell_type": "markdown",
   "metadata": {},
   "source": [
    "#### OpenAI token 설정"
   ]
  },
  {
   "cell_type": "code",
   "execution_count": 2,
   "metadata": {},
   "outputs": [],
   "source": [
    "load_dotenv('../.env')\n",
    "openai.api_key = os.getenv(\"CHATGPT-RECEIPT\")"
   ]
  },
  {
   "cell_type": "markdown",
   "metadata": {},
   "source": [
    "#### Image encoding"
   ]
  },
  {
   "cell_type": "code",
   "execution_count": 3,
   "metadata": {},
   "outputs": [],
   "source": [
    "def encode_image(image_path):\n",
    "    with open(image_path, \"rb\") as img_file:\n",
    "        return base64.b64encode(img_file.read()).decode('utf-8')"
   ]
  },
  {
   "cell_type": "markdown",
   "metadata": {},
   "source": [
    "#### PDF인지 판단하기\n",
    "* PDF는 이미지화 해서 정보 추출 진행"
   ]
  },
  {
   "cell_type": "code",
   "execution_count": 14,
   "metadata": {},
   "outputs": [
    {
     "name": "stdout",
     "output_type": "stream",
     "text": [
      "../image/taxi.pdf는 PDF 파일입니다.\n"
     ]
    }
   ],
   "source": [
    "def is_pdf_by_signature(file_path):\n",
    "    \"\"\"\n",
    "    파일의 첫 4바이트를 읽어 PDF Signature('%PDF')인지 확인.\n",
    "    \"\"\"\n",
    "    try:\n",
    "        with open(file_path, 'rb') as file:\n",
    "            header = file.read(4)  # 첫 4바이트 읽기\n",
    "            return header == b'%PDF'\n",
    "    except Exception as e:\n",
    "        print(f\"오류 발생: {e}\")\n",
    "        return False\n",
    "\n",
    "# 테스트\n",
    "file_path = \"../image/taxi.pdf\"\n",
    "if is_pdf_by_signature(file_path):\n",
    "    print(f\"{file_path}는 PDF 파일입니다.\")\n",
    "else:\n",
    "    print(f\"{file_path}는 PDF 파일이 아닙니다.\")"
   ]
  },
  {
   "cell_type": "markdown",
   "metadata": {},
   "source": [
    "#### PDF 처리"
   ]
  },
  {
   "cell_type": "code",
   "execution_count": 15,
   "metadata": {},
   "outputs": [],
   "source": [
    "def pdf_to_image(file_path):\n",
    "    try:\n",
    "        image = convert_from_path(file_path, first_page=0, last_page=1)[0]\n",
    "        buffered = BytesIO()\n",
    "        image.save(buffered, format=\"JPEG\")  # JPEG 포맷으로 저장\n",
    "        buffered.seek(0)\n",
    "\n",
    "        # Base64 인코딩\n",
    "        base64_image = base64.b64encode(buffered.read()).decode('utf-8')\n",
    "        return base64_image\n",
    "    except Exception as e:\n",
    "        print(e)\n",
    "        return None"
   ]
  },
  {
   "cell_type": "markdown",
   "metadata": {},
   "source": [
    "#### json 뽑아내기"
   ]
  },
  {
   "cell_type": "code",
   "execution_count": 16,
   "metadata": {},
   "outputs": [],
   "source": [
    "def extract_json_from_string(input_string):\n",
    "    \"\"\"\n",
    "    문자열에서 JSON 객체를 추출하여 Python dict로 변환.\n",
    "    Args:\n",
    "        input_string (str): 입력 문자열 (JSON 포함).\n",
    "    Returns:\n",
    "        dict: 추출된 JSON 객체.\n",
    "    \"\"\"\n",
    "    try:\n",
    "        # JSON 추출을 위한 정규식\n",
    "        json_match = re.search(r'\\{.*\\}', input_string, re.DOTALL)\n",
    "        if json_match:\n",
    "            json_str = json_match.group(0)  # JSON 부분만 추출\n",
    "            json_obj = json.loads(json_str)  # JSON 문자열을 Python dict로 변환\n",
    "            return json_obj\n",
    "        else:\n",
    "            raise ValueError(\"JSON 객체를 찾을 수 없습니다.\")\n",
    "    except Exception as e:\n",
    "        print(f\"오류 발생: {e}\")\n",
    "        return None"
   ]
  },
  {
   "cell_type": "markdown",
   "metadata": {},
   "source": [
    "#### 테스트"
   ]
  },
  {
   "cell_type": "code",
   "execution_count": 4,
   "metadata": {},
   "outputs": [],
   "source": [
    "base64_image = encode_image('../image/IMG_9257.jpg')"
   ]
  },
  {
   "cell_type": "code",
   "execution_count": 5,
   "metadata": {},
   "outputs": [],
   "source": [
    "response = openai.chat.completions.create(\n",
    "    model=\"gpt-4o\",  # GPT-4 Vision 모델 사용\n",
    "    messages=[\n",
    "        {\"role\": \"system\", \"content\": \"You are an assistant that extracts information from receipt images.\"},\n",
    "        {\n",
    "            \"role\": \"user\", \n",
    "            \"content\": [\n",
    "                {\n",
    "                    \"type\": \"text\",\n",
    "                    \"text\": '''다음 텍스트는 영수증의 정보입니다. 이 텍스트에서 가게 이름, 날짜, 항목, 총액을 분석하고, 아래의 JSON 형식으로 결과를 반환해 주세요.\n",
    "                    JSON 형식:\n",
    "                    {\n",
    "                        \"상호명\": \"가게 이름\",\n",
    "                        \"날짜\": \"YYYY-MM-DD\",\n",
    "                        \"항목\": [\n",
    "                            {\"이름\": \"상품1\", \"가격\": 상품1 가격},\n",
    "                            {\"이름\": \"상품2\", \"가격\": 상품2 가격}\n",
    "                        ],\n",
    "                        \"총액\": 총액\n",
    "                    }\n",
    "                    반환할 JSON 형식은 반드시 위의 구조와 일치해야 하며, 불필요한 설명은 포함하지 마세요.\n",
    "                    영수증 텍스트:\n",
    "                    \"\"\"\n",
    "                    [여기에 영수증의 텍스트 또는 OCR로 추출한 내용이 들어갑니다]\n",
    "                    \"\"\"\n",
    "\n",
    "                    결과:''' \n",
    "                },{\n",
    "                    \"type\": \"image_url\",\n",
    "                    \"image_url\": {\"url\": f\"data:image/jpeg;base64,{base64_image}\"},\n",
    "                }\n",
    "            ],\n",
    "        },\n",
    "    ],\n",
    "\n",
    ")"
   ]
  },
  {
   "cell_type": "code",
   "execution_count": 7,
   "metadata": {},
   "outputs": [
    {
     "name": "stdout",
     "output_type": "stream",
     "text": [
      "ChatGPT Response: ```json\n",
      "{\n",
      "    \"상호명\": \"르메이에르종로타운\",\n",
      "    \"날짜\": \"2024-12-13\",\n",
      "    \"항목\": [\n",
      "        {\"이름\": \"주차요금\", \"가격\": 13000},\n",
      "        {\"이름\": \"할인요금\", \"가격\": 12000}\n",
      "    ],\n",
      "    \"총액\": 1000\n",
      "}\n",
      "```\n"
     ]
    }
   ],
   "source": [
    "# 응답 데이터 파싱\n",
    "result = response.choices[0].message.content\n",
    "print(\"ChatGPT Response:\", result)"
   ]
  },
  {
   "cell_type": "code",
   "execution_count": 10,
   "metadata": {},
   "outputs": [
    {
     "data": {
      "text/plain": [
       "{'상호명': '르메이에르종로타운',\n",
       " '날짜': '2024-12-13',\n",
       " '항목': [{'이름': '주차요금', '가격': 13000}, {'이름': '할인요금', '가격': 12000}],\n",
       " '총액': 1000}"
      ]
     },
     "execution_count": 10,
     "metadata": {},
     "output_type": "execute_result"
    }
   ],
   "source": [
    "extract_json_from_string(result)"
   ]
  },
  {
   "cell_type": "markdown",
   "metadata": {},
   "source": [
    "#### 최종 정보를 추출하는 함수"
   ]
  },
  {
   "cell_type": "code",
   "execution_count": 12,
   "metadata": {},
   "outputs": [],
   "source": [
    "def extract_receipt_info(image_path):\n",
    "    \"\"\"\n",
    "    영수증 이미지를 ChatGPT로 분석하여 정보를 추출합니다.\n",
    "    \n",
    "    Args:\n",
    "        image_path (str): 영수증 이미지 파일 경로.\n",
    "    \n",
    "    Returns:\n",
    "        dict: 추출된 영수증 정보 (상호명, 날짜, 항목, 총액).\n",
    "    \"\"\"\n",
    "    try:\n",
    "        # 이미지 파일 열기\n",
    "        if is_pdf_by_signature(image_path):\n",
    "            base64_image = pdf_to_image(image_path)\n",
    "        else:\n",
    "            base64_image = encode_image(image_path)\n",
    "        response = openai.chat.completions.create(\n",
    "            model=\"gpt-4o\",  # GPT-4 Vision 모델 사용\n",
    "            messages=[\n",
    "                {\"role\": \"system\", \"content\": \"You are an assistant that extracts information from receipt images.\"},\n",
    "                {\n",
    "                    \"role\": \"user\", \n",
    "                    \"content\": [\n",
    "                        {\n",
    "                            \"type\": \"text\",\n",
    "                            \"text\": '''다음 텍스트는 영수증의 정보입니다. 이 텍스트에서 가게 이름, 날짜, 항목, 총액을 분석하고, 아래의 JSON형식으로 결과를 반환해 주세요.\n",
    "                            JSON 형식:\n",
    "                            {\n",
    "                                \"상호명\": \"가게 이름\",\n",
    "                                \"날짜\": \"YYYY-MM-DD\",\n",
    "                                \"항목\": [\n",
    "                                    {\"이름\": \"상품1\", \"가격\": 상품1 가격},\n",
    "                                    {\"이름\": \"상품2\", \"가격\": 상품2 가격}\n",
    "                                ],\n",
    "                                \"총액\": 총액\n",
    "                            }\n",
    "                            반환할 JSON 형식은 반드시 위의 구조와 일치해야 하며, 불필요한 설명은 포함하지 마세요.\n",
    "                            영수증 텍스트:\n",
    "                            \"\"\"\n",
    "                            [여기에 영수증의 텍스트 또는 OCR로 추출한 내용이 들어갑니다]\n",
    "                            \"\"\"\n",
    "                            결과:''' \n",
    "                        },{\n",
    "                            \"type\": \"image_url\",\n",
    "                            \"image_url\": {\"url\": f\"data:image/jpeg;base64,{base64_image}\"},\n",
    "                        }\n",
    "                    ],\n",
    "                },\n",
    "            ],\n",
    "        )\n",
    "        # 응답 데이터 파싱\n",
    "        result = extract_json_from_string(response.choices[0].message.content)\n",
    "        print(\"ChatGPT Response:\", result)\n",
    "        return result\n",
    "    \n",
    "    except Exception as e:\n",
    "        print(f\"오류 발생: {e}\")\n",
    "        return None"
   ]
  },
  {
   "cell_type": "code",
   "execution_count": 17,
   "metadata": {},
   "outputs": [
    {
     "name": "stdout",
     "output_type": "stream",
     "text": [
      "0000\n",
      "../image/IMG_9258.jpg\n",
      "ChatGPT Response: {'상호명': '현대프리미엄아울렛 김포점 바버', '날짜': '2024-12-15', '항목': [{'이름': '바버/남성캐주얼', '가격': 207300}], '총액': 207300}\n"
     ]
    }
   ],
   "source": [
    "answer = extract_receipt_info('../image/IMG_9258.jpg')"
   ]
  }
 ],
 "metadata": {
  "kernelspec": {
   "display_name": "receipt",
   "language": "python",
   "name": "python3"
  },
  "language_info": {
   "codemirror_mode": {
    "name": "ipython",
    "version": 3
   },
   "file_extension": ".py",
   "mimetype": "text/x-python",
   "name": "python",
   "nbconvert_exporter": "python",
   "pygments_lexer": "ipython3",
   "version": "3.9.20"
  }
 },
 "nbformat": 4,
 "nbformat_minor": 2
}
