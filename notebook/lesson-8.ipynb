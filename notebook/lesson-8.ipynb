{
 "cells": [
  {
   "cell_type": "markdown",
   "metadata": {},
   "source": [
    "## LangChain 구성요소 - 웹검색"
   ]
  },
  {
   "cell_type": "code",
   "execution_count": 1,
   "metadata": {},
   "outputs": [],
   "source": [
    "import os, openai\n",
    "import dotenv\n",
    "from langchain.tools import Tool\n",
    "from dotenv import load_dotenv\n",
    "from langchain.chains.base import Chain\n",
    "from langchain.agents import Tool\n",
    "from googleapiclient.discovery import build\n",
    "\n",
    "\n",
    "dotenv.load_dotenv('../.env')\n",
    "GOOGLE_API_KEY = os.getenv(\"GOOGLE-SEARCH-API-KEY\")\n",
    "SEARCH_ENGINE_ID = os.getenv(\"SEARCH-ENGINE-ID\")\n",
    "\n",
    "openai.api_key = os.getenv(\"CHATGPT-RECEIPT\")"
   ]
  },
  {
   "cell_type": "code",
   "execution_count": 28,
   "metadata": {},
   "outputs": [],
   "source": [
    "def search_with_google_api(query, num_results=5):\n",
    "    api_key = GOOGLE_API_KEY  # Google API 키\n",
    "    cse_id = SEARCH_ENGINE_ID   # Custom Search Engine ID\n",
    "    try:\n",
    "        service = build(\"customsearch\", \"v1\", developerKey=api_key)\n",
    "        results = service.cse().list(q=query, cx=cse_id, num=num_results).execute()\n",
    "        print('results = ', results)\n",
    "        items = results.get(\"items\", [])\n",
    "        for item in items:\n",
    "            print(f\"{item['title']}: {item['link']},  {item.get('snippet')}\")\n",
    "        return [\n",
    "            {\n",
    "                \"title\": item[\"title\"], \"snippet\": item.get(\"snippet\")  # 본문 내용 추가\n",
    "            } \n",
    "            for item in items if item.get(\"snippet\") is not None\n",
    "        ]\n",
    "    except Exception as e:\n",
    "        return f'Google Search API Error: {e}'\n",
    "\n",
    "\n",
    "class SearchChain(Chain):\n",
    "    def __init__(self, tool):\n",
    "        super().__init__()\n",
    "        self._tool = tool\n",
    "\n",
    "    @property\n",
    "    def input_keys(self):\n",
    "        return [\"business_name\"]\n",
    "\n",
    "    @property\n",
    "    def output_keys(self):\n",
    "        return [\"search_results\"]\n",
    "\n",
    "    def _call(self, inputs, **kwargs):\n",
    "        business_name = inputs[\"business_name\"]\n",
    "        search_results = self._tool.func(business_name)\n",
    "        return {\"search_results\": search_results}\n",
    "\n",
    "\n",
    "# Tool로 검색 기능 정의\n",
    "search_tool = Tool(\n",
    "    name = \"SearchBusinessCategory\",\n",
    "    func = lambda business_name: \"\\n\".join(\n",
    "        list([x['snippet'] for x in search_with_google_api(business_name)])\n",
    "    ),\n",
    "    description=\"상호명을 검색하여 관련 업종 정보를 제공합니다.\"\n",
    ")\n",
    "\n",
    "# Search chain\n",
    "search_chain = SearchChain(search_tool)"
   ]
  },
  {
   "cell_type": "code",
   "execution_count": 29,
   "metadata": {},
   "outputs": [
    {
     "name": "stdout",
     "output_type": "stream",
     "text": [
      "results =  {'kind': 'customsearch#search', 'url': {'type': 'application/json', 'template': 'https://www.googleapis.com/customsearch/v1?q={searchTerms}&num={count?}&start={startIndex?}&lr={language?}&safe={safe?}&cx={cx?}&sort={sort?}&filter={filter?}&gl={gl?}&cr={cr?}&googlehost={googleHost?}&c2coff={disableCnTwTranslation?}&hq={hq?}&hl={hl?}&siteSearch={siteSearch?}&siteSearchFilter={siteSearchFilter?}&exactTerms={exactTerms?}&excludeTerms={excludeTerms?}&linkSite={linkSite?}&orTerms={orTerms?}&dateRestrict={dateRestrict?}&lowRange={lowRange?}&highRange={highRange?}&searchType={searchType}&fileType={fileType?}&rights={rights?}&imgSize={imgSize?}&imgType={imgType?}&imgColorType={imgColorType?}&imgDominantColor={imgDominantColor?}&alt=json'}, 'queries': {'request': [{'title': 'Google Custom Search - 에어부산', 'totalResults': '10500000', 'searchTerms': '에어부산', 'count': 5, 'startIndex': 1, 'inputEncoding': 'utf8', 'outputEncoding': 'utf8', 'safe': 'off', 'cx': '50aee7f4193e043e4'}], 'nextPage': [{'title': 'Google Custom Search - 에어부산', 'totalResults': '10500000', 'searchTerms': '에어부산', 'count': 5, 'startIndex': 6, 'inputEncoding': 'utf8', 'outputEncoding': 'utf8', 'safe': 'off', 'cx': '50aee7f4193e043e4'}]}, 'context': {'title': 'business-category'}, 'searchInformation': {'searchTime': 0.123878, 'formattedSearchTime': '0.12', 'totalResults': '10500000', 'formattedTotalResults': '10,500,000'}, 'items': [{'kind': 'customsearch#result', 'title': 'Air Busan', 'htmlTitle': '<b>Air</b> Busan', 'link': 'https://www.airbusan.com/', 'displayLink': 'www.airbusan.com', 'formattedUrl': 'https://www.airbusan.com/', 'htmlFormattedUrl': 'https://www.airbusan.com/'}, {'kind': 'customsearch#result', 'title': '에어부산', 'htmlTitle': '<b>에어부산</b>', 'link': 'https://m.airbusan.com/', 'displayLink': 'm.airbusan.com', 'snippet': '항공권 예약, 운임안내, 스케줄, 한국(부산,서울,제주), 세부, 홍콩, 대만, 괌 등 운항노선 안내.', 'htmlSnippet': '항공권 예약, 운임안내, 스케줄, 한국(<b>부산</b>,서울,제주), 세부, 홍콩, 대만, 괌 등 운항노선 안내.', 'formattedUrl': 'https://m.airbusan.com/', 'htmlFormattedUrl': 'https://m.airbusan.com/', 'pagemap': {'organization': [{'url': 'https://airbusan.com/', 'sameas': 'https://www.youtube.com/channel/UCU_HJBVpr4KrKhvLIxkNSRw'}], 'metatags': [{'referrer': 'origin', 'viewport': 'width=device-width,initial-scale=1.0,minimum-scale=1.0,maximum-scale=2.0,user-scalable=yes, shrink-to-fit=no, viewport-fit=cover', 'host': 'm.airbusan.com', 'language': 'Korean', 'linkage': 'http://m.airbusan.com', 'distribution': 'global', 'format-detection': 'telephone=no'}]}}, {'kind': 'customsearch#result', 'title': '에어부산', 'htmlTitle': '<b>에어부산</b>', 'link': 'https://www.airbusan.com/web/individual/booking/flightsAvail', 'displayLink': 'www.airbusan.com', 'snippet': '인터넷 시스템 정기 작업으로 매일 23시50분~00시10분까지 항공권 예매 및 여정변경/환불 서비스가 제한되며, 매월 마지막 주 화요일 23시00분~00시10분까지 시스템 정기\\xa0...', 'htmlSnippet': '인터넷 시스템 정기 작업으로 매일 23시50분~00시10분까지 항공권 예매 및 여정변경/환불 서비스가 제한되며, 매월 마지막 주 화요일 23시00분~00시10분까지 시스템 정기&nbsp;...', 'formattedUrl': 'https://www.airbusan.com/web/individual/booking/flightsAvail', 'htmlFormattedUrl': 'https://www.airbusan.com/web/individual/booking/flightsAvail', 'pagemap': {'cse_thumbnail': [{'src': 'https://encrypted-tbn0.gstatic.com/images?q=tbn:ANd9GcTb4v2G9whjbPkCiciq8ZBiwxJ5jagNi5XrK8u6Ki0t78D1zDsF6vE9nA&s', 'width': '106', 'height': '129'}], 'metatags': [{'host': 'www.airbusan.com', 'language': 'Korean', 'linkage': 'http://www.airbusan.com', 'distribution': 'global'}], 'cse_image': [{'src': 'https://story.airbusan.com/content/assets/images/service/img_qrcode02_ko.png'}]}}, {'kind': 'customsearch#result', 'title': '에어부산 - 나무위키', 'htmlTitle': '<b>에어부산</b> - 나무위키', 'link': 'https://namu.wiki/w/%EC%97%90%EC%96%B4%EB%B6%80%EC%82%B0', 'displayLink': 'namu.wiki', 'snippet': '편도 기준으로 가격은 운임 +9,500원 (공항 사용료 4,000원, 유류 할증료 5,500원)으로 계산한다. 할인하지 않은 운임은 62,000원(월,화,수,목), 또는 72,000원(금,토,일)\\xa0...', 'htmlSnippet': '편도 기준으로 가격은 운임 +9,500원 (공항 사용료 4,000원, 유류 할증료 5,500원)으로 계산한다. 할인하지 않은 운임은 62,000원(월,화,수,목), 또는 72,000원(금,토,일)&nbsp;...', 'formattedUrl': 'https://namu.wiki/w/에어부산', 'htmlFormattedUrl': 'https://namu.wiki/w/<b>에어부산</b>', 'pagemap': {'cse_thumbnail': [{'src': 'https://encrypted-tbn0.gstatic.com/images?q=tbn:ANd9GcRk7hERvNy-K8l3LWouDDu3bg_wJnSSEGmfTElEDjQInfaKVuEei2ELl9M&s', 'width': '403', 'height': '125'}], 'metatags': [{'application-name': '나무위키', 'msapplication-starturl': '/w/%EB%82%98%EB%AC%B4%EC%9C%84%ED%82%A4:%EB%8C%80%EB%AC%B8', 'og:image': '//i.namu.wiki/i/6urLoGuA-HwgfIGGKjbZpfdlLfQz-MPLyAOXH4LWtz4-GO_GhMpmZooUAVi0RpoXA3ArDHrG-TlCGu-WE6hzpA.svg', 'og:type': 'article', 'theme-color': '#00a69c', 'og:site_name': '나무위키', 'viewport': 'user-scalable=no, initial-scale=1, width=device-width, viewport-fit=cover', 'msapplication-tooltip': '나무위키', 'og:title': '에어부산', 'mobile-web-app-capable': 'yes', 'og:url': 'https://namu.wiki/w/%EC%97%90%EC%96%B4%EB%B6%80%EC%82%B0', 'og:description': '대한민국 의  저비용 항공사 .  역사 2007.07.01. 부산항공설립추진위원회 발족 2007.08.31. 부산국'}], 'cse_image': [{'src': 'https://i.namu.wiki/i/6urLoGuA-HwgfIGGKjbZpfdlLfQz-MPLyAOXH4LWtz4-GO_GhMpmZooUAVi0RpoXA3ArDHrG-TlCGu-WE6hzpA.svg'}]}}, {'kind': 'customsearch#result', 'title': '에어부산', 'htmlTitle': '<b>에어부산</b>', 'link': 'https://www.airbusan.com/web/common/join/', 'displayLink': 'www.airbusan.com', 'snippet': '항공권 예약, 운임안내, 스케줄, 한국(부산,서울,제주), 세부, 홍콩, 대만, 괌 등 운항노선 안내.', 'htmlSnippet': '항공권 예약, 운임안내, 스케줄, 한국(<b>부산</b>,서울,제주), 세부, 홍콩, 대만, 괌 등 운항노선 안내.', 'formattedUrl': 'https://www.airbusan.com/web/common/join/', 'htmlFormattedUrl': 'https://www.airbusan.com/web/common/join/', 'pagemap': {'cse_thumbnail': [{'src': 'https://encrypted-tbn0.gstatic.com/images?q=tbn:ANd9GcTb4v2G9whjbPkCiciq8ZBiwxJ5jagNi5XrK8u6Ki0t78D1zDsF6vE9nA&s', 'width': '106', 'height': '129'}], 'metatags': [{'host': 'www.airbusan.com', 'language': 'Korean', 'linkage': 'http://www.airbusan.com', 'distribution': 'global'}], 'cse_image': [{'src': 'https://story.airbusan.com/content/assets/images/service/img_qrcode02_ko.png'}]}}]}\n",
      "Air Busan: https://www.airbusan.com/,  None\n",
      "에어부산: https://m.airbusan.com/,  항공권 예약, 운임안내, 스케줄, 한국(부산,서울,제주), 세부, 홍콩, 대만, 괌 등 운항노선 안내.\n",
      "에어부산: https://www.airbusan.com/web/individual/booking/flightsAvail,  인터넷 시스템 정기 작업으로 매일 23시50분~00시10분까지 항공권 예매 및 여정변경/환불 서비스가 제한되며, 매월 마지막 주 화요일 23시00분~00시10분까지 시스템 정기 ...\n",
      "에어부산 - 나무위키: https://namu.wiki/w/%EC%97%90%EC%96%B4%EB%B6%80%EC%82%B0,  편도 기준으로 가격은 운임 +9,500원 (공항 사용료 4,000원, 유류 할증료 5,500원)으로 계산한다. 할인하지 않은 운임은 62,000원(월,화,수,목), 또는 72,000원(금,토,일) ...\n",
      "에어부산: https://www.airbusan.com/web/common/join/,  항공권 예약, 운임안내, 스케줄, 한국(부산,서울,제주), 세부, 홍콩, 대만, 괌 등 운항노선 안내.\n",
      "항공권 예약, 운임안내, 스케줄, 한국(부산,서울,제주), 세부, 홍콩, 대만, 괌 등 운항노선 안내.\n",
      "인터넷 시스템 정기 작업으로 매일 23시50분~00시10분까지 항공권 예매 및 여정변경/환불 서비스가 제한되며, 매월 마지막 주 화요일 23시00분~00시10분까지 시스템 정기 ...\n",
      "편도 기준으로 가격은 운임 +9,500원 (공항 사용료 4,000원, 유류 할증료 5,500원)으로 계산한다. 할인하지 않은 운임은 62,000원(월,화,수,목), 또는 72,000원(금,토,일) ...\n",
      "항공권 예약, 운임안내, 스케줄, 한국(부산,서울,제주), 세부, 홍콩, 대만, 괌 등 운항노선 안내.\n"
     ]
    }
   ],
   "source": [
    "# Search chain invoke 예제 코드\n",
    "\n",
    "# 검색할 상호명\n",
    "business_name = \"에어부산\"\n",
    "\n",
    "# Search chain 호출\n",
    "inputs = {\"business_name\": business_name}\n",
    "result = search_chain.invoke(inputs)\n",
    "\n",
    "# 결과 출력\n",
    "print(result[\"search_results\"])\n"
   ]
  },
  {
   "cell_type": "code",
   "execution_count": null,
   "metadata": {},
   "outputs": [],
   "source": []
  }
 ],
 "metadata": {
  "kernelspec": {
   "display_name": "receipt",
   "language": "python",
   "name": "python3"
  },
  "language_info": {
   "codemirror_mode": {
    "name": "ipython",
    "version": 3
   },
   "file_extension": ".py",
   "mimetype": "text/x-python",
   "name": "python",
   "nbconvert_exporter": "python",
   "pygments_lexer": "ipython3",
   "version": "3.9.20"
  }
 },
 "nbformat": 4,
 "nbformat_minor": 2
}
