{
 "cells": [
  {
   "cell_type": "markdown",
   "metadata": {},
   "source": [
    "## LangChain 구성요소 - 웹검색"
   ]
  },
  {
   "cell_type": "code",
   "execution_count": 1,
   "metadata": {},
   "outputs": [],
   "source": [
    "import os, dotenv\n",
    "from googleapiclient.discovery import build\n",
    "from langchain.chains.base import Chain\n",
    "from langchain.agents import Tool\n",
    "\n",
    "\n",
    "dotenv.load_dotenv('../.env')\n",
    "GOOGLE_API_KEY = os.getenv(\"GOOGLE-SEARCH-API-KEY\")\n",
    "SEARCH_ENGINE_ID = os.getenv(\"SEARCH-ENGINE-ID\")\n",
    "# OPEN_AI_KEY= os.getenv(\"CHATGPT-RECEIPT\")"
   ]
  },
  {
   "cell_type": "markdown",
   "metadata": {},
   "source": [
    "#### Google Search 함수"
   ]
  },
  {
   "cell_type": "code",
   "execution_count": 2,
   "metadata": {},
   "outputs": [],
   "source": [
    "def search_with_google_api(query, num_results=5):\n",
    "    api_key = GOOGLE_API_KEY  # Google API 키\n",
    "    cse_id = SEARCH_ENGINE_ID   # Custom Search Engine ID\n",
    "    try:\n",
    "        service = build(\"customsearch\", \"v1\", developerKey=api_key)\n",
    "        results = service.cse().list(q=query, cx=cse_id, num=num_results).execute()\n",
    "        print('results = ', results)\n",
    "        items = results.get(\"items\", [])\n",
    "        for item in items:\n",
    "            print(f\"{item['title']}: {item['link']},  {item.get('snippet')}\")\n",
    "        return [\n",
    "            {\n",
    "                \"title\": item[\"title\"], \"snippet\": item.get(\"snippet\")  # 본문 내용 추가\n",
    "            } \n",
    "            for item in items if item.get(\"snippet\") is not None\n",
    "        ]\n",
    "    except Exception as e:\n",
    "        return f'Google Search API Error: {e}'\n"
   ]
  },
  {
   "cell_type": "markdown",
   "metadata": {},
   "source": [
    "#### Custom chain 정의 - SearchChain"
   ]
  },
  {
   "cell_type": "code",
   "execution_count": 3,
   "metadata": {},
   "outputs": [],
   "source": [
    "\n",
    "class SearchChain(Chain):\n",
    "    def __init__(self, tool):\n",
    "        super().__init__()\n",
    "        self._tool = tool\n",
    "\n",
    "    @property\n",
    "    def input_keys(self):\n",
    "        return [\"business_name\"]\n",
    "\n",
    "    @property\n",
    "    def output_keys(self):\n",
    "        return [\"search_results\"]\n",
    "\n",
    "    def _call(self, inputs, **kwargs):\n",
    "        business_name = inputs[\"business_name\"]\n",
    "        search_results = self._tool.func(business_name)\n",
    "        return {\"search_results\": search_results}"
   ]
  },
  {
   "cell_type": "markdown",
   "metadata": {},
   "source": [
    "#### Tool 정의"
   ]
  },
  {
   "cell_type": "code",
   "execution_count": 4,
   "metadata": {},
   "outputs": [],
   "source": [
    "\n",
    "# Tool로 검색 기능 정의\n",
    "search_tool = Tool(\n",
    "    name = \"SearchBusinessCategory\",\n",
    "    func = lambda business_name: \"\\n\".join(\n",
    "        list([x['snippet'] for x in search_with_google_api(business_name)])\n",
    "    ),\n",
    "    description=\"상호명을 검색하여 관련 업종 정보를 제공합니다.\"\n",
    ")"
   ]
  },
  {
   "cell_type": "markdown",
   "metadata": {},
   "source": [
    "#### SearchChain 객체 인스턴스화"
   ]
  },
  {
   "cell_type": "code",
   "execution_count": 5,
   "metadata": {},
   "outputs": [],
   "source": [
    "# Search chain\n",
    "search_chain = SearchChain(search_tool)"
   ]
  },
  {
   "cell_type": "markdown",
   "metadata": {},
   "source": [
    "#### Searchchain 구동하기"
   ]
  },
  {
   "cell_type": "code",
   "execution_count": null,
   "metadata": {},
   "outputs": [],
   "source": [
    "# Search chain invoke 예제 코드\n",
    "\n",
    "# 검색할 상호명\n",
    "business_name = \"복성각(서울역점)\"\n",
    "\n",
    "# Search chain 호출\n",
    "inputs = {\"business_name\": business_name}\n",
    "result = search_chain.invoke(inputs)\n",
    "\n",
    "# 결과 출력\n",
    "print(result[\"search_results\"])\n"
   ]
  }
 ],
 "metadata": {
  "kernelspec": {
   "display_name": "receipt",
   "language": "python",
   "name": "python3"
  },
  "language_info": {
   "codemirror_mode": {
    "name": "ipython",
    "version": 3
   },
   "file_extension": ".py",
   "mimetype": "text/x-python",
   "name": "python",
   "nbconvert_exporter": "python",
   "pygments_lexer": "ipython3",
   "version": "3.9.20"
  }
 },
 "nbformat": 4,
 "nbformat_minor": 2
}
