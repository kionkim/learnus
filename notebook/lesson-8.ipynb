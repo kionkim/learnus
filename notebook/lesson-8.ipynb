{
 "cells": [
  {
   "cell_type": "code",
   "execution_count": 1,
   "metadata": {},
   "outputs": [],
   "source": [
    "import os, openai\n",
    "import dotenv\n",
    "from langchain.tools import Tool\n",
    "from dotenv import load_dotenv\n",
    "from langchain.chains.base import Chain\n",
    "from langchain.agents import Tool\n",
    "from googleapiclient.discovery import build\n",
    "\n",
    "\n",
    "dotenv.load_dotenv('../.env')\n",
    "GOOGLE_API_KEY = os.getenv(\"GOOGLE-SEARCH-API-KEY\")\n",
    "SEARCH_ENGINE_ID = os.getenv(\"SEARCH-ENGINE-ID\")\n",
    "\n",
    "openai.api_key = os.getenv(\"CHATGPT-RECEIPT\")"
   ]
  },
  {
   "cell_type": "code",
   "execution_count": 2,
   "metadata": {},
   "outputs": [],
   "source": [
    "def search_with_google_api(query, num_results=5):\n",
    "    api_key = GOOGLE_API_KEY  # Google API 키\n",
    "    cse_id = SEARCH_ENGINE_ID   # Custom Search Engine ID\n",
    "    try:\n",
    "        service = build(\"customsearch\", \"v1\", developerKey=api_key)\n",
    "        results = service.cse().list(q=query, cx=cse_id, num=num_results).execute()\n",
    "        items = results.get(\"items\", [])\n",
    "        return [\n",
    "            {\n",
    "                \"title\": item[\"title\"], \"snippet\": item.get(\"snippet\")  # 본문 내용 추가\n",
    "            } \n",
    "            for item in items\n",
    "        ]\n",
    "    except Exception as e:\n",
    "        return f'Google Search API Error: {e}'\n",
    "\n",
    "\n",
    "class SearchChain(Chain):\n",
    "    def __init__(self, tool):\n",
    "        super().__init__()\n",
    "        self._tool = tool\n",
    "\n",
    "    @property\n",
    "    def input_keys(self):\n",
    "        return [\"business_name\"]\n",
    "\n",
    "    @property\n",
    "    def output_keys(self):\n",
    "        return [\"search_results\"]\n",
    "\n",
    "    def _call(self, inputs, **kwargs):\n",
    "        business_name = inputs[\"business_name\"]\n",
    "        search_results = self._tool.func(business_name)\n",
    "        return {\"search_results\": search_results}\n",
    "\n",
    "\n",
    "# Tool로 검색 기능 정의\n",
    "search_tool = Tool(\n",
    "    name = \"SearchBusinessCategory\",\n",
    "    func = lambda business_name: \"\\n\".join(\n",
    "        list([x['snippet'] for x in search_with_google_api(business_name)])\n",
    "    ),\n",
    "    description=\"상호명을 검색하여 관련 업종 정보를 제공합니다.\"\n",
    ")\n",
    "\n",
    "# Search chain\n",
    "search_chain = SearchChain(search_tool)"
   ]
  },
  {
   "cell_type": "code",
   "execution_count": 3,
   "metadata": {},
   "outputs": [
    {
     "name": "stdout",
     "output_type": "stream",
     "text": [
      "스타벅스 코리아 · COFFEE · 커피 · 스타벅스 원두 · MENU · 음료 · 콜드 브루 · STORE · 매장 찾기 · 퀵 검색 · RESPONSIBILITY · 사회공헌 캠페인 소개 · 지역 사회 참여 ...\n",
      "Good at participating U.S. stores for a handcrafted menu-sized beverage with qualifying purchase ($8 max value). Qualifying purchase excludes alcohol, Starbucks ...\n",
      "상품 · 백자 양각 매화문 세라믹 티팟 560ml. NEW · 모카 포트&원두 스쿱 세트 · 크림 컴프레소 · SS 그린 사이렌 케틀 550ml · 사이렌 고케틀.\n",
      "Jan 1, 2025 ... 스타벅스라는 이름은 허먼 멜빌의 유명한 소설 모비 딕에 등장하는 포경선 피쿼드(Pequod)호의 일등항해사 스타벅(Starbuck)에서 's'를 붙여서 탄생하게 ...\n",
      "사이렌 오더. ... 서비스 이용을 위해 권한 허용이 필요합니다. 허용하지 않으셔도 앱 이용은 가능하나 일부 서비스 이용에 제한이 있을 수 있습니다. ... * 스타벅스 앱의 ...\n"
     ]
    }
   ],
   "source": [
    "# Search chain invoke 예제 코드\n",
    "\n",
    "# 검색할 상호명\n",
    "business_name = \"스타벅스\"\n",
    "\n",
    "# Search chain 호출\n",
    "inputs = {\"business_name\": business_name}\n",
    "result = search_chain.invoke(inputs)\n",
    "\n",
    "# 결과 출력\n",
    "print(result[\"search_results\"])\n"
   ]
  },
  {
   "cell_type": "code",
   "execution_count": null,
   "metadata": {},
   "outputs": [],
   "source": []
  }
 ],
 "metadata": {
  "kernelspec": {
   "display_name": "receipt",
   "language": "python",
   "name": "python3"
  },
  "language_info": {
   "codemirror_mode": {
    "name": "ipython",
    "version": 3
   },
   "file_extension": ".py",
   "mimetype": "text/x-python",
   "name": "python",
   "nbconvert_exporter": "python",
   "pygments_lexer": "ipython3",
   "version": "3.9.20"
  }
 },
 "nbformat": 4,
 "nbformat_minor": 2
}
