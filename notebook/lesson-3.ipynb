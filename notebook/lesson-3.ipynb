{
 "cells": [
  {
   "cell_type": "code",
   "execution_count": null,
   "metadata": {},
   "outputs": [],
   "source": [
    "pip install openai"
   ]
  },
  {
   "cell_type": "code",
   "execution_count": 2,
   "metadata": {},
   "outputs": [],
   "source": [
    "import os\n",
    "import openai\n",
    "from dotenv import load_dotenv\n",
    "\n",
    "# 키 가져오기\n",
    "load_dotenv('../.env')\n",
    "load_dotenv('../.env')\n",
    "openai.api_key = os.getenv('OPEN-AI')"
   ]
  },
  {
   "cell_type": "code",
   "execution_count": 11,
   "metadata": {},
   "outputs": [
    {
     "name": "stdout",
     "output_type": "stream",
     "text": [
      "OpenAI는 인공 지능(AI)을 연구하는 비영리 조직으로, 안전하고 사람들에게 이익을 가져다주는 AI를 만드는 것을 통해 인류 전체를 대표하는 데 목표를 두고 있습니다. OpenAI는 AI를 개발하면서 그 영향력을 널리 분산시키기를 원하며, 궁극적인 목표는 인간의 인공 일반 지능(AGI)을 안전하게 만들고 배포하는 것입니다. 여기서 AGI는 사람이 수행하는 모든 종류의 경제적 업무를 수행할 수 있는 완전히 자율적인 시스템을 의미합니다. 이 조직은 AGI에 대한 이익을 어떤 특정 집단 모임 이전에 인류 전체에게 보장하려는 원칙을 가지고 있습니다.\n"
     ]
    }
   ],
   "source": [
    "response = openai.chat.completions.create(\n",
    "    model=\"gpt-4\",\n",
    "    messages = [{'role': 'user', 'content': \"OpenAI란 무엇인가요?\"}]\n",
    ")\n",
    "print(response.choices[0].message.content)"
   ]
  },
  {
   "cell_type": "code",
   "execution_count": null,
   "metadata": {},
   "outputs": [],
   "source": []
  }
 ],
 "metadata": {
  "kernelspec": {
   "display_name": "receipt",
   "language": "python",
   "name": "python3"
  },
  "language_info": {
   "codemirror_mode": {
    "name": "ipython",
    "version": 3
   },
   "file_extension": ".py",
   "mimetype": "text/x-python",
   "name": "python",
   "nbconvert_exporter": "python",
   "pygments_lexer": "ipython3",
   "version": "3.9.20"
  }
 },
 "nbformat": 4,
 "nbformat_minor": 2
}
