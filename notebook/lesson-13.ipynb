{
 "cells": [
  {
   "cell_type": "markdown",
   "metadata": {},
   "source": [
    "### Vector Store를 활용한 RAG 구현"
   ]
  },
  {
   "cell_type": "code",
   "execution_count": null,
   "metadata": {},
   "outputs": [],
   "source": [
    "import os, pprint\n",
    "from openai import OpenAI\n",
    "from dotenv import load_dotenv\n",
    "\n",
    "load_dotenv('../.env')"
   ]
  },
  {
   "cell_type": "code",
   "execution_count": 2,
   "metadata": {},
   "outputs": [],
   "source": [
    "client = OpenAI(api_key=os.getenv(\"OPEN-AI\"))"
   ]
  },
  {
   "cell_type": "code",
   "execution_count": null,
   "metadata": {},
   "outputs": [],
   "source": [
    "file = client.files.create(\n",
    "    file = open('../pdf/r-d-innovation.pdf', 'rb'),\n",
    "    purpose = 'assistants'\n",
    ")\n",
    "\n",
    "vector_store = client.beta.vector_stores.create(\n",
    "    name=\"R&D Innovation\"\n",
    ")\n",
    "\n",
    "# 파일을 Vector Store에 추가\n",
    "client.beta.vector_stores.files.create(\n",
    "    vector_store_id=vector_store.id,\n",
    "    file_id=file.id\n",
    ")"
   ]
  },
  {
   "cell_type": "code",
   "execution_count": 4,
   "metadata": {},
   "outputs": [],
   "source": [
    "# Assistant 생성\n",
    "assistant = client.beta.assistants.create(\n",
    "    name = \"My Assistant\",\n",
    "    instructions = \"\"\"\n",
    "                넌 국가연구개발 혁신법에 대해 잘 아는 행정 관련 전문가야.\n",
    "                만약 Q&A에 해당 내용이 있으면 이에 대해 자세하고 친절하게 답변해줘.\n",
    "                정확하다고 생각되는 답을 찾았으면, 가장 먼저 \"예\" 혹은 \"아니오\"로 답변을 시작하고, 그렇지 않으면 \"모르겠어\"라고 말해줘.\n",
    "                답한 내용의 근거를 정확하게 말해주되 문서내 검색한 내용만 답해 줘.\n",
    "                마침표 다음에 개행 문자를 넣어줘.\n",
    "    \"\"\",\n",
    "    model=\"gpt-4-turbo-preview\",\n",
    "    tools=[\n",
    "        {\"type\": \"code_interpreter\"},\n",
    "        {\"type\": \"file_search\"}\n",
    "    ],\n",
    "    tool_resources={\n",
    "        \"file_search\": {\"vector_store_ids\": [vector_store.id]}\n",
    "    }\n",
    ")"
   ]
  },
  {
   "cell_type": "code",
   "execution_count": null,
   "metadata": {},
   "outputs": [],
   "source": [
    "# Thread 생성\n",
    "thread = client.beta.threads.create()\n",
    "print(f'thread id = {thread.id}')\n",
    "# 메시지 추가\n",
    "message = client.beta.threads.messages.create(\n",
    "    thread_id=thread.id,\n",
    "    role=\"user\",\n",
    "    content=\"음식점에서 먹은 음식은 회의비로 처리가 가능해?\"\n",
    ")\n",
    "\n",
    "# Run 생성 및 실행\n",
    "run = client.beta.threads.runs.create(\n",
    "    thread_id=thread.id,\n",
    "    assistant_id=assistant.id\n",
    ")\n",
    "\n",
    "# Run 완료 대기\n",
    "while run.status != \"completed\":\n",
    "    run = client.beta.threads.runs.retrieve(thread_id=thread.id, run_id=run.id)\n",
    "\n",
    "# 결과 메시지 가져오기\n",
    "messages = client.beta.threads.messages.list(thread_id=thread.id)\n",
    "# 결과 출력\n",
    "for message in messages:\n",
    "    if message.role == \"assistant\":\n",
    "        print(message.content[0].text.value)"
   ]
  },
  {
   "cell_type": "code",
   "execution_count": null,
   "metadata": {},
   "outputs": [],
   "source": [
    "assistant.id"
   ]
  }
 ],
 "metadata": {
  "kernelspec": {
   "display_name": "receipt",
   "language": "python",
   "name": "python3"
  },
  "language_info": {
   "codemirror_mode": {
    "name": "ipython",
    "version": 3
   },
   "file_extension": ".py",
   "mimetype": "text/x-python",
   "name": "python",
   "nbconvert_exporter": "python",
   "pygments_lexer": "ipython3",
   "version": "3.9.20"
  }
 },
 "nbformat": 4,
 "nbformat_minor": 2
}
