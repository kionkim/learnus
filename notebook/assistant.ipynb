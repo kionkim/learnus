{
 "cells": [
  {
   "cell_type": "code",
   "execution_count": 2,
   "metadata": {},
   "outputs": [],
   "source": [
    "import os, pdfplumber, pprint, openai\n",
    "from openai import OpenAI\n",
    "from langchain_community.document_loaders import PyPDFLoader\n",
    "from langchain.text_splitter import RecursiveCharacterTextSplitter, CharacterTextSplitter\n",
    "from langchain.embeddings.openai import OpenAIEmbeddings\n",
    "from langchain.vectorstores import FAISS\n",
    "from langchain.chains import RetrievalQA\n",
    "from langchain.chat_models import ChatOpenAI\n",
    "from itertools import chain\n",
    "from dotenv import load_dotenv"
   ]
  },
  {
   "cell_type": "code",
   "execution_count": 3,
   "metadata": {},
   "outputs": [],
   "source": [
    "load_dotenv('../.env')\n",
    "openai.api_key = os.getenv(\"CHATGPT-RECEIPT\")"
   ]
  },
  {
   "cell_type": "markdown",
   "metadata": {},
   "source": [
    "#### Assistant 생성"
   ]
  },
  {
   "cell_type": "code",
   "execution_count": 4,
   "metadata": {},
   "outputs": [],
   "source": [
    "client = OpenAI(api_key=os.getenv(\"CHATGPT-RECEIPT\"))\n",
    "\n",
    "## vector store 생성\n",
    "file = client.files.create(\n",
    "    file = open('../pdf/r-d-innovation.pdf', 'rb'),\n",
    "    purpose = 'assistants'\n",
    ")\n",
    "vector_store = client.beta.vector_stores.create(\n",
    "    name=\"R&D Innovation\"\n",
    ")\n",
    "# 파일을 Vector Store에 추가\n",
    "client.beta.vector_stores.files.create(\n",
    "    vector_store_id=vector_store.id,\n",
    "    file_id=file.id\n",
    ")"
   ]
  },
  {
   "cell_type": "code",
   "execution_count": 9,
   "metadata": {},
   "outputs": [],
   "source": [
    "# Assistant 생성\n",
    "assistant = client.beta.assistants.create(\n",
    "    name = \"My Assistant\",\n",
    "    instructions = \"\"\"\n",
    "                넌 국가연구개발 혁신법에 대해 잘 아는 행정 관련 전문가야.\n",
    "                만약 Q&A에 해당 내용이 있으면 이에 대해 자세하고 친절하게 답변해줘.\n",
    "                정확하다고 생각되는 답을 찾았으면, 가장 먼저 \"예\" 혹은 \"아니오\"로 답변을 시작하고, 그렇지 않으면 \"모르겠어\"라고 말해줘.\n",
    "                답한 내용의 근거를 정확하게 말해주되 문서내 검색한 내용만 답해 줘.\n",
    "                마침표 다음에 개행 문자를 넣어줘.\n",
    "    \"\"\",\n",
    "    model=\"gpt-4-turbo-preview\",\n",
    "    tools=[\n",
    "        {\"type\": \"code_interpreter\"},\n",
    "        {\"type\": \"file_search\"}\n",
    "    ],\n",
    "    tool_resources={\n",
    "        \"file_search\": {\"vector_store_ids\": [vector_store.id]}\n",
    "    }\n",
    ")"
   ]
  },
  {
   "cell_type": "code",
   "execution_count": 10,
   "metadata": {},
   "outputs": [
    {
     "name": "stdout",
     "output_type": "stream",
     "text": [
      "thread id = thread_Twa2ruyrfpBGhOqESAnAYn6W\n",
      "assistant id = asst_7J3TrQfqCaD5dWXZpu7665l5\n"
     ]
    }
   ],
   "source": [
    "# Assistant ID 출력 및 저장\n",
    "print(f'assistant id = {assistant.id}')\n",
    "assistant_id = assistant.id\n",
    "# Thread 생성 및 저장\n",
    "thread = client.beta.threads.create()\n",
    "print(f'thread id = {thread.id}')\n",
    "thread_id = thread.id\n",
    "\n",
    "# thread_id = 'thread_Twa2ruyrfpBGhOqESAnAYn6W'\n",
    "# assistant_id = 'asst_7J3TrQfqCaD5dWXZpu7665l5'"
   ]
  },
  {
   "cell_type": "markdown",
   "metadata": {},
   "source": [
    "#### Assistant에 질의하기"
   ]
  },
  {
   "cell_type": "code",
   "execution_count": 8,
   "metadata": {},
   "outputs": [
    {
     "name": "stdout",
     "output_type": "stream",
     "text": [
      "공동연구개발기관 변경 절차에 관한 내용은 다음과 같습니다:\n",
      "\n",
      "1. **상호협의(승인) 필요**: 공동연구개발기관 변경은 중요한 사항으로, 변경하고자 할 때는 상호협의 후 승인을 받아야 합니다. 이 과정은 실무상 승인 절차와 동일하게 진행됩니다.\n",
      "\n",
      "2. **협약 변경 신청**: 중요한 협약 변경 사항에는 부처 또는 전문기관으로부터 협약변경 심사 및 승인을 받는 절차가 포함됩니다. 국가연구개발사업 업무 대행 협약에 따라 전문기관이 협약 업무를 대행하는 경우가 있으며, 이 때는 전문기관에서 협약변경 심사 및 승인을 수행할 수 있습니다.\n",
      "\n",
      "3. **정보 변경 수준에서의 변경**: 선정 후 협약 전이나 협약 후 특정 상황에서 지속적 수행이 어렵게 될 경우, 소관 중앙행정기관(전문기관)의 장과 협의하여 정보 변경 수준에서 변경할 수도 있습니다【4:2†source】.\n",
      "\n",
      "공동연구개발기관 변경 시 해당 절차를 따라 정확하게 신청 및 승인을 받는 과정이 필요함을 알 수 있습니다.\n",
      "공동연구개발기관 변경 절차에 관한 상세한 답변은 다음과 같습니다.\n",
      "\n",
      "공동연구개발기관을 변경하려는 경우, 혁신법 제11조제2항에 따라 협약 변경이 가능하며, 이는 중요한 사항의 협약 변경에 해당합니다. 변경 절차를 준수하기 위해서는 다음과 같은 절차를 밟아야 합니다:\n",
      "\n",
      "1. **상호협의(승인) 필요**: 공동연구개발기관의 변경은 상호협의 후 승인을 받아야 하는 중요한 사항입니다. 이 과정은 사실상 상호 협의 사항이라 할 수 있으며, 실무상 승인 절차와 동일하게 진행됩니다【4:2†source】.\n",
      "\n",
      "2. **협약 변경 신청**: 중요한 협약 변경 사항에 관해서는 협약 당사자가 부처 또는 전문기관으로부터 협약변경 심사 및 승인을 받아 협약 변경을 처리해야 합니다. 국가연구개발사업 업무 대행 협약에 따라 전문기관이 협약의 업무를 대행하는 경우, 전문기관에서 협약변경 심사 및 승인을 수행할 수 있습니다【4:2†source】.\n",
      "\n",
      "3. **정보 변경 수준의 변경 가능성**: 선정 후 협약 전이나, 특정 상황에서 지속적인 수행이 불가능할 경우 소관 중앙행정기관(전문기관)의 장과 협의를 통해 정보 변경 수준에서의 변경이 가능하기도 합니다【4:2†source】.\n",
      "\n",
      "상기 정보는 「국가연구개발혁신법」 매뉴얼의 내용을 바탕으로 합니다. 공동연구개발기관 변경에 대해 관련 법령 규정을 준수하여 절차를 밟는 것이 중요합니다【4:2†source】.\n",
      "공동연구개발기관 변경 절차에 관한 상세한 답변은 다음과 같습니다.\n",
      "\n",
      "공동연구개발기관을 변경하려는 경우, 혁신법 제11조제2항에 따라 협약 변경이 가능하며, 이는 중요한 사항의 협약 변경에 해당합니다. 변경 절차를 준수하기 위해서는 다음과 같은 절차를 밟아야 합니다:\n",
      "\n",
      "1. **상호협의(승인) 필요**: 공동연구개발기관의 변경은 상호협의 후 승인을 받아야 하는 중요한 사항입니다. 이 과정은 사실상 상호 협의 사항이라 할 수 있으며, 실무상 승인 절차와 동일하게 진행됩니다 .\n",
      "\n",
      "2. **협약 변경 신청**: 중요한 협약 변경 사항에 관해서는 협약 당사자가 부처 또는 전문기관으로부터 협약변경 심사 및 승인을 받아 협약 변경을 처리해야 합니다. 국가연구개발사업 업무 대행 협약에 따라 전문기관이 협약의 업무를 대행하는 경우, 전문기관에서 협약변경 심사 및 승인을 수행할 수 있습니다 .\n",
      "\n",
      "3. **정보 변경 수준의 변경 가능성**: 선정 후 협약 전이나, 특정 상황에서 지속적인 수행이 불가능할 경우 소관 중앙행정기관(전문기관)의 장과 협의를 통해 정보 변경 수준에서의 변경이 가능하기도 합니다 .\n",
      "\n",
      "상기 정보는 「국가연구개발혁신법」 매뉴얼의 내용을 바탕으로 합니다. 공동연구개발기관 변경에 대해 관련 법령 규정을 준수하여 절차를 밟는 것이 중요합니다.\n"
     ]
    }
   ],
   "source": [
    "# 메시지 추가\n",
    "message = client.beta.threads.messages.create(\n",
    "    thread_id=thread_id,\n",
    "    role=\"user\",\n",
    "    content=\"공동연구기관 변경을 하기 위해서는 어떤 절차를 밟아야 하나요?\"\n",
    ")\n",
    "# Run 생성 및 실행\n",
    "run = client.beta.threads.runs.create(\n",
    "    thread_id=thread_id,\n",
    "    assistant_id=assistant_id\n",
    ")\n",
    "# Run 완료 대기\n",
    "while run.status != \"completed\":\n",
    "    run = client.beta.threads.runs.retrieve(thread_id=thread_id, run_id=run.id)\n",
    "# 결과 메시지 가져오기\n",
    "messages = client.beta.threads.messages.list(thread_id=thread_id)\n",
    "# 결과 출력\n",
    "for message in messages:\n",
    "    if message.role == \"assistant\":\n",
    "        print(message.content[0].text.value)"
   ]
  },
  {
   "cell_type": "code",
   "execution_count": 9,
   "metadata": {},
   "outputs": [
    {
     "name": "stdout",
     "output_type": "stream",
     "text": [
      "판단 필요.\n",
      "\n",
      "이유: 영수증 내역에 기반한 연구비 처리 항목 결정을 위해서는 '고향옥'이라는 상호의 업종 정보가 필요합니다. 제공된 정보만으로는 '고향옥'이 어떤 종류의 서비스나 상품을 제공하는지 명확하지 않습니다. 예를 들어, '고향옥'이 음식점일 경우 '회의비' 또는 '업무추진비'로 처리할 수도 있고, 다른 업종일 경우 이에 맞는 적절한 연구비 항목이 필요할 것입니다. 따라서 상호를 통한 업종 검색 후 정확한 연구비 항목을 결정하는 것이 필요합니다.\n",
      "공동연구개발기관 변경 절차에 관한 내용은 다음과 같습니다:\n",
      "\n",
      "1. **상호협의(승인) 필요**: 공동연구개발기관 변경은 중요한 사항으로, 변경하고자 할 때는 상호협의 후 승인을 받아야 합니다. 이 과정은 실무상 승인 절차와 동일하게 진행됩니다.\n",
      "\n",
      "2. **협약 변경 신청**: 중요한 협약 변경 사항에는 부처 또는 전문기관으로부터 협약변경 심사 및 승인을 받는 절차가 포함됩니다. 국가연구개발사업 업무 대행 협약에 따라 전문기관이 협약 업무를 대행하는 경우가 있으며, 이 때는 전문기관에서 협약변경 심사 및 승인을 수행할 수 있습니다.\n",
      "\n",
      "3. **정보 변경 수준에서의 변경**: 선정 후 협약 전이나 협약 후 특정 상황에서 지속적 수행이 어렵게 될 경우, 소관 중앙행정기관(전문기관)의 장과 협의하여 정보 변경 수준에서 변경할 수도 있습니다【4:2†source】.\n",
      "\n",
      "공동연구개발기관 변경 시 해당 절차를 따라 정확하게 신청 및 승인을 받는 과정이 필요함을 알 수 있습니다.\n",
      "공동연구개발기관 변경 절차에 관한 상세한 답변은 다음과 같습니다.\n",
      "\n",
      "공동연구개발기관을 변경하려는 경우, 혁신법 제11조제2항에 따라 협약 변경이 가능하며, 이는 중요한 사항의 협약 변경에 해당합니다. 변경 절차를 준수하기 위해서는 다음과 같은 절차를 밟아야 합니다:\n",
      "\n",
      "1. **상호협의(승인) 필요**: 공동연구개발기관의 변경은 상호협의 후 승인을 받아야 하는 중요한 사항입니다. 이 과정은 사실상 상호 협의 사항이라 할 수 있으며, 실무상 승인 절차와 동일하게 진행됩니다【4:2†source】.\n",
      "\n",
      "2. **협약 변경 신청**: 중요한 협약 변경 사항에 관해서는 협약 당사자가 부처 또는 전문기관으로부터 협약변경 심사 및 승인을 받아 협약 변경을 처리해야 합니다. 국가연구개발사업 업무 대행 협약에 따라 전문기관이 협약의 업무를 대행하는 경우, 전문기관에서 협약변경 심사 및 승인을 수행할 수 있습니다【4:2†source】.\n",
      "\n",
      "3. **정보 변경 수준의 변경 가능성**: 선정 후 협약 전이나, 특정 상황에서 지속적인 수행이 불가능할 경우 소관 중앙행정기관(전문기관)의 장과 협의를 통해 정보 변경 수준에서의 변경이 가능하기도 합니다【4:2†source】.\n",
      "\n",
      "상기 정보는 「국가연구개발혁신법」 매뉴얼의 내용을 바탕으로 합니다. 공동연구개발기관 변경에 대해 관련 법령 규정을 준수하여 절차를 밟는 것이 중요합니다【4:2†source】.\n",
      "공동연구개발기관 변경 절차에 관한 상세한 답변은 다음과 같습니다.\n",
      "\n",
      "공동연구개발기관을 변경하려는 경우, 혁신법 제11조제2항에 따라 협약 변경이 가능하며, 이는 중요한 사항의 협약 변경에 해당합니다. 변경 절차를 준수하기 위해서는 다음과 같은 절차를 밟아야 합니다:\n",
      "\n",
      "1. **상호협의(승인) 필요**: 공동연구개발기관의 변경은 상호협의 후 승인을 받아야 하는 중요한 사항입니다. 이 과정은 사실상 상호 협의 사항이라 할 수 있으며, 실무상 승인 절차와 동일하게 진행됩니다 .\n",
      "\n",
      "2. **협약 변경 신청**: 중요한 협약 변경 사항에 관해서는 협약 당사자가 부처 또는 전문기관으로부터 협약변경 심사 및 승인을 받아 협약 변경을 처리해야 합니다. 국가연구개발사업 업무 대행 협약에 따라 전문기관이 협약의 업무를 대행하는 경우, 전문기관에서 협약변경 심사 및 승인을 수행할 수 있습니다 .\n",
      "\n",
      "3. **정보 변경 수준의 변경 가능성**: 선정 후 협약 전이나, 특정 상황에서 지속적인 수행이 불가능할 경우 소관 중앙행정기관(전문기관)의 장과 협의를 통해 정보 변경 수준에서의 변경이 가능하기도 합니다 .\n",
      "\n",
      "상기 정보는 「국가연구개발혁신법」 매뉴얼의 내용을 바탕으로 합니다. 공동연구개발기관 변경에 대해 관련 법령 규정을 준수하여 절차를 밟는 것이 중요합니다.\n"
     ]
    }
   ],
   "source": [
    "# 메시지 추가\n",
    "message = client.beta.threads.messages.create(\n",
    "    thread_id=thread_id,\n",
    "    role=\"user\",\n",
    "    content=\"\"\"\n",
    "        {\n",
    "            \"상호명\": \"고향옥\",\n",
    "            \"날짜\": \"2024-12-13\",\n",
    "            \"항목\": [\n",
    "                {\"이름\": \"세트 A\", \"가격\": 13000},\n",
    "                {\"이름\": \"세트 B\", \"가격\": 12000}\n",
    "            ],\n",
    "            \"총액\": 25000\n",
    "        }\n",
    "        이런 영수증 내역이 있을 때, 연구비 어떤 항목으로 처리해야 하나요?\n",
    "        상호를 검색해서 업종을 판단해 주세요.\n",
    "        단답형으로 항목만 답변해 주세요. (ex, 출장비)\n",
    "        정확한 항목이 없을 경우, \"판단 필요\"라고 답변해 주세요.\n",
    "        판단이 필요한 경우에는 이유를 말해주세요.\n",
    "    \"\"\"\n",
    ")\n",
    "\n",
    "# Run 생성 및 실행\n",
    "run = client.beta.threads.runs.create(\n",
    "    thread_id=thread_id,\n",
    "    assistant_id=assistant_id\n",
    ")\n",
    "\n",
    "# Run 완료 대기\n",
    "while run.status != \"completed\":\n",
    "    run = client.beta.threads.runs.retrieve(thread_id=thread_id, run_id=run.id)\n",
    "\n",
    "# 결과 메시지 가져오기\n",
    "messages = client.beta.threads.messages.list(thread_id=thread_id)\n",
    "# 결과 출력\n",
    "for message in messages:\n",
    "    if message.role == \"assistant\":\n",
    "        print(message.content[0].text.value)"
   ]
  }
 ],
 "metadata": {
  "kernelspec": {
   "display_name": "receipt",
   "language": "python",
   "name": "python3"
  },
  "language_info": {
   "codemirror_mode": {
    "name": "ipython",
    "version": 3
   },
   "file_extension": ".py",
   "mimetype": "text/x-python",
   "name": "python",
   "nbconvert_exporter": "python",
   "pygments_lexer": "ipython3",
   "version": "3.9.2"
  }
 },
 "nbformat": 4,
 "nbformat_minor": 2
}
