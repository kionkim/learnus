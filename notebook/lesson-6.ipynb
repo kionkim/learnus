{
 "cells": [
  {
   "cell_type": "code",
   "execution_count": null,
   "metadata": {},
   "outputs": [],
   "source": [
    "pip install langchain openai"
   ]
  },
  {
   "cell_type": "code",
   "execution_count": 2,
   "metadata": {},
   "outputs": [],
   "source": [
    "import os\n",
    "import openai\n",
    "import dotenv\n",
    "from langchain.llms import OpenAI\n",
    "\n",
    "dotenv.load_dotenv('../.env')\n",
    "openai.api_key = os.getenv('OPEN-AI')"
   ]
  },
  {
   "cell_type": "code",
   "execution_count": 7,
   "metadata": {},
   "outputs": [
    {
     "name": "stderr",
     "output_type": "stream",
     "text": [
      "/var/folders/39/jrqp49_54fj1tl_h3pjv45780000gn/T/ipykernel_27391/2710234656.py:5: LangChainDeprecationWarning: The method `BaseLLM.__call__` was deprecated in langchain-core 0.1.7 and will be removed in 1.0. Use :meth:`~invoke` instead.\n",
      "  response = llm(prompt)\n"
     ]
    },
    {
     "name": "stdout",
     "output_type": "stream",
     "text": [
      "응답: \n",
      "\n",
      "LangChain은 다양한 언어를 연결하여 이용할 수 있는 인터넷 언어 서비스 플랫폼입니다. 이를 통해 사용자는 여러 언어로 번역된 콘텐츠를 쉽게 이용할 수 있고, 다양한 언어로 의사소통 및 정보를 공유할 수 있습니다. 또한 LangChain은 인공지능 기술을 활용하여 더욱 정확하고 자연스러운 번역 서비스를 제공합니다. 사용자는 LangChain을 통해 언어의 장벽을 넘어 다양한 문화와 지식을 공유할 수 있습니다.\n"
     ]
    }
   ],
   "source": [
    "llm = OpenAI(temperature=0.5, openai_api_key = openai.api_key)\n",
    "\n",
    "# 프롬프트에 따라 응답 생성\n",
    "prompt = \"LangChain이란 무엇인가요?\"\n",
    "response = llm(prompt)\n",
    "\n",
    "# 결과 출력\n",
    "print(\"응답:\", response)"
   ]
  },
  {
   "cell_type": "code",
   "execution_count": null,
   "metadata": {},
   "outputs": [],
   "source": []
  }
 ],
 "metadata": {
  "kernelspec": {
   "display_name": "receipt",
   "language": "python",
   "name": "python3"
  },
  "language_info": {
   "codemirror_mode": {
    "name": "ipython",
    "version": 3
   },
   "file_extension": ".py",
   "mimetype": "text/x-python",
   "name": "python",
   "nbconvert_exporter": "python",
   "pygments_lexer": "ipython3",
   "version": "3.9.20"
  }
 },
 "nbformat": 4,
 "nbformat_minor": 2
}
