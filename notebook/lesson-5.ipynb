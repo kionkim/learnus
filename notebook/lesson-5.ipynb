{
 "cells": [
  {
   "cell_type": "code",
   "execution_count": 6,
   "metadata": {},
   "outputs": [],
   "source": [
    "import os, requests\n",
    "import dotenv\n",
    "from googleapiclient.discovery import build\n",
    "\n",
    "dotenv.load_dotenv('../.env')\n",
    "GOOGLE_API_KEY = os.getenv(\"GOOGLE-SEARCH-API-KEY\")\n",
    "SEARCH_ENGINE_ID = os.getenv(\"SEARCH-ENGINE-ID\")"
   ]
  },
  {
   "cell_type": "code",
   "execution_count": 7,
   "metadata": {},
   "outputs": [
    {
     "name": "stdout",
     "output_type": "stream",
     "text": [
      "Title: Welcome to Python.org\n",
      "Link: https://www.python.org/\n",
      "----------------------------------------\n",
      "Title: Python (programming language) - Wikipedia\n",
      "Link: https://en.wikipedia.org/wiki/Python_(programming_language)\n",
      "----------------------------------------\n",
      "Title: Python For Beginners | Python.org\n",
      "Link: https://www.python.org/about/gettingstarted/\n",
      "----------------------------------------\n",
      "Title: Introduction to Python\n",
      "Link: https://www.w3schools.com/python/python_intro.asp\n",
      "----------------------------------------\n",
      "Title: The Python Tutorial — Python 3.13.1 documentation\n",
      "Link: https://docs.python.org/3/tutorial/index.html\n",
      "----------------------------------------\n",
      "Title: Python as functional programming language - Python Help ...\n",
      "Link: https://discuss.python.org/t/python-as-functional-programming-language/38402\n",
      "----------------------------------------\n",
      "Title: PEP 8 – Style Guide for Python Code | peps.python.org\n",
      "Link: https://peps.python.org/pep-0008/\n",
      "----------------------------------------\n",
      "Title: Are there any actually useful audiobooks/podcasts to help with ...\n",
      "Link: https://www.reddit.com/r/Python/comments/ut1b7o/are_there_any_actually_useful_audiobookspodcasts/\n",
      "----------------------------------------\n",
      "Title: Python Courses & Tutorials | Codecademy\n",
      "Link: https://www.codecademy.com/catalog/language/python\n",
      "----------------------------------------\n",
      "Title: General Python programming approach - Ignition - Inductive ...\n",
      "Link: https://forum.inductiveautomation.com/t/general-python-programming-approach/46736\n",
      "----------------------------------------\n"
     ]
    }
   ],
   "source": [
    "# Google Search API 클라이언트 초기화\n",
    "service = build(\"customsearch\", \"v1\", developerKey = GOOGLE_API_KEY)\n",
    "\n",
    "# 검색어 설정\n",
    "query = \"Python programming\"\n",
    "\n",
    "# API 호출\n",
    "response = service.cse().list(q = query, cx = SEARCH_ENGINE_ID).execute()\n",
    "\n",
    "# 결과 출력\n",
    "if \"items\" in response:\n",
    "    for item in response[\"items\"]:\n",
    "        print(f\"Title: {item['title']}\")\n",
    "        print(f\"Link: {item['link']}\")\n",
    "        print(\"-\" * 40)\n",
    "else:\n",
    "    print(\"No results found.\")"
   ]
  },
  {
   "cell_type": "code",
   "execution_count": null,
   "metadata": {},
   "outputs": [],
   "source": []
  }
 ],
 "metadata": {
  "kernelspec": {
   "display_name": "receipt",
   "language": "python",
   "name": "python3"
  },
  "language_info": {
   "codemirror_mode": {
    "name": "ipython",
    "version": 3
   },
   "file_extension": ".py",
   "mimetype": "text/x-python",
   "name": "python",
   "nbconvert_exporter": "python",
   "pygments_lexer": "ipython3",
   "version": "3.9.20"
  }
 },
 "nbformat": 4,
 "nbformat_minor": 2
}
