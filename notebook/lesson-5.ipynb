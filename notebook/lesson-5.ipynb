{
 "cells": [
  {
   "cell_type": "markdown",
   "metadata": {},
   "source": [
    "## 아마존 서비스 - S3 설정하기"
   ]
  },
  {
   "cell_type": "code",
   "execution_count": null,
   "metadata": {},
   "outputs": [],
   "source": [
    "pip install awscli boto3 requests"
   ]
  },
  {
   "cell_type": "code",
   "execution_count": 2,
   "metadata": {},
   "outputs": [],
   "source": [
    "# **requests**는 Python에서 HTTP 요청을 쉽게 처리하기 위한 가장 널리 사용되는 라이브러리 중 하나\n",
    "# •\tHTTP 요청 메서드 지원: GET, POST, PUT, DELETE, PATCH, HEAD, OPTIONS 등.\n",
    "# •\tJSON 데이터 처리 및 자동 디코딩.\n",
    "# •\t세션 유지, 쿠키 관리.\n",
    "# •\t인증, 프록시, 리다이렉션 처리.\n",
    "# •\tSSL 인증서 검증 지원.\n",
    "# **urllib.parse**는 URL을 다루는 다양한 작업을 지원. URL을 파싱(분석), 구성, 조작, 그리고 인코딩/디코딩하는 데 유용함\n",
    "#  **boto3**: AWS 서비스를 제어하기 위한 Python SDK\n",
    "# **pathlib**: 파일 경로를 다루기 위한 모듈\n",
    "\n",
    "import os, boto3, dotenv, urllib.parse, requests\n",
    "from pathlib import Path\n",
    "\n",
    "dotenv.load_dotenv('../.env')\n",
    "AWS_ACCESS_KEY = os.getenv(\"AWS-ACCESS-KEY\")\n",
    "AWS_SECRET_KEY = os.getenv(\"AWS-SECRET-KEY\")\n",
    "S3_REGION = os.getenv(\"S3-BUCKET-REGION\")\n",
    "S3_BUCKET_NAME = os.getenv(\"S3-BUCKET-NAME\")"
   ]
  },
  {
   "cell_type": "code",
   "execution_count": 5,
   "metadata": {},
   "outputs": [],
   "source": [
    "# •\tAccess Key: 요청의 출처를 식별. (누가 요청했는가?)\n",
    "# •\tSecret Access Key: 요청의 인증을 보장. (해당 요청이 신뢰할 수 있는가?)\n",
    "s3_client = boto3.client(\n",
    "        \"s3\",\n",
    "        aws_access_key_id=AWS_ACCESS_KEY,\n",
    "        aws_secret_access_key=AWS_SECRET_KEY,\n",
    "        region_name=S3_REGION,\n",
    "    )"
   ]
  },
  {
   "cell_type": "code",
   "execution_count": 6,
   "metadata": {},
   "outputs": [],
   "source": [
    "path = Path.cwd()\n",
    "file_name = \"example.jpg\"\n",
    "file_path = path /\"../image\"/file_name"
   ]
  },
  {
   "cell_type": "markdown",
   "metadata": {},
   "source": [
    "### 업로드"
   ]
  },
  {
   "cell_type": "code",
   "execution_count": null,
   "metadata": {},
   "outputs": [],
   "source": [
    "# \tURL에서 허용되지 않는 문자 처리: 파일 이름에 공백, 특수 문자(!, #, ?, /, & 등)가 포함된 경우, 이들은 URL에서 특별한 의미를 가지므로 인코딩이 필요.\n",
    "# \t다국어 지원: 파일 이름에 유니코드(한글, 일본어 등)가 포함된 경우, URL에서 처리 가능한 형태로 변환해야 함.\n",
    "encoded_file_name = urllib.parse.quote(file_name)\n",
    "s3_client.upload_file(\n",
    "            file_path, \n",
    "            S3_BUCKET_NAME, \n",
    "            file_name,\n",
    "            # ExtraArgs={\"ACL\": \"public-read\"}\n",
    "        )"
   ]
  },
  {
   "cell_type": "code",
   "execution_count": 9,
   "metadata": {},
   "outputs": [],
   "source": [
    "# S3 URL 생성\n",
    "file_url = f\"https://{S3_BUCKET_NAME}.s3.{S3_REGION}.amazonaws.com/{encoded_file_name}\""
   ]
  },
  {
   "cell_type": "code",
   "execution_count": null,
   "metadata": {},
   "outputs": [],
   "source": [
    "file_url"
   ]
  },
  {
   "cell_type": "markdown",
   "metadata": {},
   "source": [
    "### 다운로드"
   ]
  },
  {
   "cell_type": "code",
   "execution_count": null,
   "metadata": {},
   "outputs": [],
   "source": [
    "# 파일 다운로드\n",
    "file_name = 'example.jpg'  # S3에 저장된 파일 이름\n",
    "download_path = '../image/downloaded_example.jpg'  # 로컬에 저장할 파일 이름\n",
    "\n",
    "try:\n",
    "    s3_client.download_file(S3_BUCKET_NAME, file_name, download_path)\n",
    "    print(f\"File downloaded successfully to {download_path}\")\n",
    "except Exception as e:\n",
    "    print(f\"Error occurred while downloading file: {e}\")"
   ]
  },
  {
   "cell_type": "code",
   "execution_count": null,
   "metadata": {},
   "outputs": [],
   "source": [
    "response = requests.get(file_url)\n",
    "if response.status_code == 200:\n",
    "    with open(\"../image/http_example.jpg\", \"wb\") as file:\n",
    "        file.write(response.content)\n",
    "    print(\"File downloaded successfully\")\n",
    "else:\n",
    "    print(f\"Failed to download file. HTTP Status Code: {response.status_code}\")"
   ]
  },
  {
   "cell_type": "markdown",
   "metadata": {},
   "source": [
    "### 파일 삭제"
   ]
  },
  {
   "cell_type": "code",
   "execution_count": null,
   "metadata": {},
   "outputs": [],
   "source": [
    "try:\n",
    "    s3_client.delete_object(Bucket = S3_BUCKET_NAME, Key = file_name)\n",
    "    print(f\"File '{file_name}' successfully deleted from bucket '{S3_BUCKET_NAME}'.\")\n",
    "except Exception as e:\n",
    "    print(f\"Error occurred while deleting file: {e}\")"
   ]
  },
  {
   "cell_type": "code",
   "execution_count": null,
   "metadata": {},
   "outputs": [],
   "source": []
  }
 ],
 "metadata": {
  "kernelspec": {
   "display_name": "receipt",
   "language": "python",
   "name": "python3"
  },
  "language_info": {
   "codemirror_mode": {
    "name": "ipython",
    "version": 3
   },
   "file_extension": ".py",
   "mimetype": "text/x-python",
   "name": "python",
   "nbconvert_exporter": "python",
   "pygments_lexer": "ipython3",
   "version": "3.9.20"
  }
 },
 "nbformat": 4,
 "nbformat_minor": 2
}
