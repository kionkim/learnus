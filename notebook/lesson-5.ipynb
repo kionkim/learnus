{
 "cells": [
  {
   "cell_type": "markdown",
   "metadata": {},
   "source": [
    "## 아마존 서비스 - S3 설정하기"
   ]
  },
  {
   "cell_type": "code",
   "execution_count": 12,
   "metadata": {},
   "outputs": [],
   "source": [
    "import os, sys, boto3, dotenv, urllib.parse, requests\n",
    "from pathlib import Path\n",
    "dotenv.load_dotenv('../.env')\n",
    "\n",
    "AWS_ACCESS_KEY = os.getenv(\"AWS-ACCESS-KEY\")\n",
    "AWS_SECRET_KEY = os.getenv(\"AWS-SECRET-KEY\")\n",
    "S3_REGION = os.getenv(\"S3-BUCKET-REGION\")\n",
    "S3_BUCKET_NAME = os.getenv(\"S3-BUCKET-NAME\")"
   ]
  },
  {
   "cell_type": "code",
   "execution_count": 13,
   "metadata": {},
   "outputs": [],
   "source": [
    "s3_client = boto3.client(\n",
    "        \"s3\",\n",
    "        aws_access_key_id=AWS_ACCESS_KEY,\n",
    "        aws_secret_access_key=AWS_SECRET_KEY,\n",
    "        region_name=S3_REGION,\n",
    "    )"
   ]
  },
  {
   "cell_type": "code",
   "execution_count": 20,
   "metadata": {},
   "outputs": [],
   "source": [
    "path = Path.cwd()\n",
    "file_path = path /\"../image\"/file_name\n",
    "file_name = \"naver.png\""
   ]
  },
  {
   "cell_type": "markdown",
   "metadata": {},
   "source": [
    "### 업로드"
   ]
  },
  {
   "cell_type": "code",
   "execution_count": 21,
   "metadata": {},
   "outputs": [],
   "source": [
    "encoded_file_name = urllib.parse.quote(file_name)\n",
    "s3_client.upload_file(\n",
    "            file_path, \n",
    "            S3_BUCKET_NAME, \n",
    "            file_name,\n",
    "            # ExtraArgs={\"ACL\": \"public-read\"}\n",
    "        )"
   ]
  },
  {
   "cell_type": "code",
   "execution_count": 22,
   "metadata": {},
   "outputs": [],
   "source": [
    "# S3 URL 생성\n",
    "file_url = f\"https://{S3_BUCKET_NAME}.s3.{S3_REGION}.amazonaws.com/{encoded_file_name}\""
   ]
  },
  {
   "cell_type": "code",
   "execution_count": null,
   "metadata": {},
   "outputs": [],
   "source": [
    "file_url"
   ]
  },
  {
   "cell_type": "markdown",
   "metadata": {},
   "source": [
    "### 다운로드"
   ]
  },
  {
   "cell_type": "code",
   "execution_count": null,
   "metadata": {},
   "outputs": [],
   "source": [
    "# 파일 다운로드\n",
    "file_name = 'naver.png'  # S3에 저장된 파일 이름\n",
    "download_path = './test_1.png'  # 로컬에 저장할 파일 이름\n",
    "\n",
    "try:\n",
    "    s3_client.download_file(S3_BUCKET_NAME, file_name, download_path)\n",
    "    print(f\"File downloaded successfully to {download_path}\")\n",
    "except Exception as e:\n",
    "    print(f\"Error occurred while downloading file: {e}\")"
   ]
  },
  {
   "cell_type": "code",
   "execution_count": null,
   "metadata": {},
   "outputs": [],
   "source": [
    "response = requests.get(file_url)\n",
    "if response.status_code == 200:\n",
    "    with open(\"./test.png\", \"wb\") as file:\n",
    "        file.write(response.content)\n",
    "    print(\"File downloaded successfully\")\n",
    "else:\n",
    "    print(f\"Failed to download file. HTTP Status Code: {response.status_code}\")"
   ]
  },
  {
   "cell_type": "markdown",
   "metadata": {},
   "source": [
    "### 파일 삭제"
   ]
  },
  {
   "cell_type": "code",
   "execution_count": null,
   "metadata": {},
   "outputs": [],
   "source": [
    "try:\n",
    "    s3_client.delete_object(Bucket = S3_BUCKET_NAME, Key = file_name)\n",
    "    print(f\"File '{file_name}' successfully deleted from bucket '{S3_BUCKET_NAME}'.\")\n",
    "except Exception as e:\n",
    "    print(f\"Error occurred while deleting file: {e}\")"
   ]
  },
  {
   "cell_type": "code",
   "execution_count": null,
   "metadata": {},
   "outputs": [],
   "source": []
  }
 ],
 "metadata": {
  "kernelspec": {
   "display_name": "receipt",
   "language": "python",
   "name": "python3"
  },
  "language_info": {
   "codemirror_mode": {
    "name": "ipython",
    "version": 3
   },
   "file_extension": ".py",
   "mimetype": "text/x-python",
   "name": "python",
   "nbconvert_exporter": "python",
   "pygments_lexer": "ipython3",
   "version": "3.9.20"
  }
 },
 "nbformat": 4,
 "nbformat_minor": 2
}
